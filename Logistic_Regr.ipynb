{
 "cells": [
  {
   "cell_type": "markdown",
   "metadata": {},
   "source": [
    "# Logistic Regression for Classification"
   ]
  },
  {
   "cell_type": "markdown",
   "metadata": {},
   "source": [
    "In this notebook we discuss the Logistic Regression model for Classification problem. As usual, we start giving the theoretical background and studying the model in details, on order to use it for a practical problem in the Mini-Challenge we proposed in the last section. The structure of the notebook is then:\n",
    "\n",
    "- [Theoretical Analysis:](#s1)\n",
    "    - [Algorithm](#s1.1)\n",
    "    \n",
    "- [Implementation in Python](#s2)\n",
    "- [Mini-challenge](#s3)"
   ]
  },
  {
   "cell_type": "markdown",
   "metadata": {},
   "source": [
    "##  <a class=\"anchor\" id='s1'>Theoretical Analysis</a> "
   ]
  },
  {
   "cell_type": "markdown",
   "metadata": {},
   "source": [
    "In classification problems, as we mentioned in the introduction file to supervised models, we usually deal with a prediction of a categorical variable, that we called $G$. The values that $G$ can take fit in some set $\\mathcal{G}$, the set of all possible classes. The cardinality of $\\mathcal{G}$ is denoted by $K=\\text{card}(\\mathcal{G})$. Similarly to a regression problem, we will have a space of features or predcitor $X$, and our goal is to predcit the outcome or class $G(X)$.\n",
    "\n",
    "Again, we would need some loss function to construct the risk function to minimize with respect the model we choose. Our loss function can be represented by a $K\\times K$ matrix $\\mathbf{L}$. $\\mathbf{L}$ will be zero on the diagonal and non-negative eslewhere, where $L(k,l)$ is the price paid for classifying an observation belonging to class $\\mathcal{G}_k$ as $\\mathcal{G}_l$. Most often we use _zero-one_ loss function, where all misclassifications are charged a single unit. The expected risk function is\n",
    "\n",
    "\\begin{align*}\n",
    "\\mathcal{R}(G)=E\\left[L\\left(G,\\hat{G}(X)\\right)\\right]\n",
    "\\end{align*}\n",
    "\n",
    "where the expectation is taken with respect to the joint distribution $P(G,X)$. We condition, and can write the risk function as\n",
    "\n",
    "\\begin{align*}\n",
    "\\mathcal{R}(G)=E_X\\sum_{k=1}^KL\\left[\\mathcal{G}_k,\\hat{G}(X)\\right]P(\\mathcal{G}_k|X)\n",
    "\\end{align*}\n",
    "\n",
    "and it suffices to minimize it pointwise\n",
    "\n",
    "\\begin{align*}\n",
    "\\hat{G}(x)=\\arg\\min_{g\\in\\mathcal{G}}\\sum_{k=1}^KL\\left[\\mathcal{G}_k,\\hat{G}(X)\\right]P(g|X=x)\n",
    "\\end{align*}\n",
    "\n",
    "If we have the 0-1 loss function this simplifies to \n",
    "\n",
    "\\begin{align*}\n",
    "\\hat{G}(x)=\\arg\\min_{g\\in\\mathcal{G}}[1-P(g|X=x)]\n",
    "\\end{align*}\n",
    "\n",
    "or simply\n",
    "\n",
    "\\begin{align*}\n",
    "\\hat{G}(X)=\\mathcal{G}_k\\quad\\text{if}\\quad P(\\mathcal{G}_k|X=x)=\\max_{g\\in\\mathcal{G}}P(g|X=x)\n",
    "\\end{align*}\n",
    "\n",
    "This reasonable solution is known as the __Bayes classifier__, and says that we classify to the most probable class, using the conditional (discrete) distribution. \n",
    "\n",
    "In general, since our predictor $G(x)$ takes values in a discrete set, we can always divide the input space into a collection of regions labeled according to the classification. The boundaries of these regions can be rough or smooth, depending on the prediction function. For an important class of procedures, these decision boundaries are linear, this is what we will mean by linear methods for classification."
   ]
  },
  {
   "cell_type": "markdown",
   "metadata": {},
   "source": [
    "<div>\n",
    "<img width=600 src='images/log1.png' /> \n",
    "</div>"
   ]
  },
  {
   "cell_type": "markdown",
   "metadata": {},
   "source": [
    "There are several different ways in which linear decision boundaries can be found. Suppose there are $K$ classes, and the fitted linear model for the $k$-th indicator response variable is $\\hat{f}_k(x)=\\hat{\\beta}x$. The decision boundary between class $k$ and $l$ is that set of points $x$ for which $\\hat{f}_k(x)=\\hat{f}_l(x)$, that is an affine set or hyperplane. Since the same is true for any pair of classes, the input space is divided into regions of constant classification, with piecewise hyperplanar decision boundaries. This regression approach is a member of a class of methods that model __discriminant functions__ $\\delta_k(x)$ for each class, and then classify $x$ to the class with the largest value for its discriminant function. Methods that model the posterior probabilities $P(G=k|X=x)$ are also in this class. Clearly, if either the $\\delta_k(x)$ or $P(G=k|X=x)$ are linear in $x$, then the decision boundaries will be linear.\n",
    "\n",
    "Actually, all we require is that some monotone transformation of $\\delta_k(x)$ or $P(G=k|X=x)$ be linear for the decision boundaries to be linear. __Logistic Regression__ for Classification is a linear model that models the posterior probability.\n",
    "\n"
   ]
  },
  {
   "cell_type": "markdown",
   "metadata": {},
   "source": [
    "###  <a class=\"anchor\" id='s1.1'>Algorithm</a> "
   ]
  },
  {
   "cell_type": "markdown",
   "metadata": {},
   "source": [
    "The logistic regression model arises from the desire to model the posterior probabilities of the $K$ classes via linear functions in $x$, while at the same time ensuring that they sum to one and remain in $[0,1]$. The model has the form\n",
    "\n",
    "\\begin{align*}\n",
    "\\log\\frac{P(G=1|X=x)}{P(G=K|X=x)}&=\\beta_{10}+\\beta_1^Tx\\\\\n",
    "\\log\\frac{P(G=2|X=x)}{P(G=K|X=x)}&=\\beta_{20}+\\beta_2^Tx\\\\\n",
    "&\\vdots\\\\\n",
    "\\log\\frac{P(G=K-1|X=x)}{P(G=K|X=x)}&=\\beta_{(K-1)0}+\\beta_{K-1}^Tx\n",
    "\\end{align*}\n",
    "\n",
    "The model is therefore specified in terms of $K-1$ log-odds or logit transformations. A simple calculation shows that\n",
    "\n",
    "\\begin{align*}\n",
    "P(G=k|X=x)&=\\frac{\\exp(\\beta_{k0}+\\beta_k^Tx)}{1+\\sum_{l=1}^{K-1}\\exp(\\beta_{l0}+\\beta_l^Tx)},\\quad k=1,\\cdots,K-1\\\\\n",
    "P(G=K|X=x)&=\\frac{1}{1+\\sum_{l=1}^{K-1}\\exp(\\beta_{l0}+\\beta_l^Tx)},\\quad k=1,\\cdots,K-1\n",
    "\\end{align*}\n",
    "\n",
    "and they sum to one. To emphasize the dependence on the entire paramter set $\\theta=\\{\\beta_{10},\\beta^T_1,\\cdots\\}$, we denote the probabilities $P(G=k|X=x)=p_k(x;\\theta)$. \n",
    "\n",
    "The logistic model are usually fit by maximum likelihood, using conditional probabilities we just defined. The log-likelihood for $N$ observation is\n",
    "\n",
    "\\begin{align*}\n",
    "\\mathcal{L}(\\theta)=\\sum_{i=1}^N\\log p_{g_i}(x_i,\\theta)\n",
    "\\end{align*}\n",
    "\n",
    "where $p_k(x_i,\\theta)=P(G=k|X=x,\\theta)$. \n",
    "\n",
    "We discuss in detail the two-class case, since the algorithms simplify considerably. It is convenient to code the two-class $g_i$ via a 0-1 response $y_i$, where $y_i=1$ when $g_i=1$ , and $y_i=0$, when $g_i=2$. Let $p_1(x,\\theta)=p(x,\\theta)$ and $p_2(x,\\theta)=1-p(x,\\theta)$. The log-likelihood can be written\n",
    "\n",
    "\\begin{align*}\n",
    "\\mathcal{L}(\\beta)&=\\sum_{i=1}^N\\left\\{y_i\\log p(x_i,\\beta)+(1-y_i)\\log(1-p(x_i,\\beta))\\right\\}\\\\\n",
    "&=\\sum_{i=1}^N\\left\\{y_i\\beta^Tx_i-\\log(1+e^{\\beta^Tx_i})\\right\\}\n",
    "\\end{align*}\n",
    "\n",
    "To maximize the log-likelihood, we set its derivatives to zero. These score equations are\n",
    "\n",
    "\\begin{align*}\n",
    "\\frac{\\partial\\mathcal{L}(\\beta)}{\\partial\\beta}=\\sum_{i=1}^Nx_i(y_i-p(x_i,\\beta))=0\n",
    "\\end{align*}\n",
    "\n",
    "which are $p+1$ equations _nonlinear_ in $\\beta$. Notice that since the first components of $x_i$ is 1, the first score equation specifies that $\\sum_{i=1}^Ny_i=\\sum_{i=1}^Np(x_i,\\beta)$; the expectd number of class ones mathces the observed number.\n",
    "\n",
    "The solution of this equations doesn't exist in closed form, and therefore we need to use some algorithm to minimize this function. It's interesting to interpret the result obtained above instead as likelihood minimization problem in terms of minimization of risk function, given a loss funciton. In particular for the binary problem we are dealing with we choose the __Logistic loss__ function defined as\n",
    "\n",
    "\\begin{align*}\n",
    "L(\\hat{y},y)=y\\log(1+e^{-\\hat{y}})+(1-y)\\log(1+e^{\\hat{y}})\n",
    "\\end{align*}\n",
    "\n",
    "Using this loss function we calculate the empirical risk function\n",
    "\n",
    "\\begin{align*}\n",
    "\\mathcal{R}(\\beta)=\\frac{1}{N}\\sum_{i=1}^NL(x_i^T\\beta,y_i)\n",
    "\\end{align*}\n",
    "\n",
    "that is easy to show to be equal to the negative of the log-likelihood written above. Thus, the logistic regression estimator is the solution of the following minimization problem\n",
    "\n",
    "\\begin{align*}\n",
    "\\hat{\\beta}=\\arg\\min_{\\beta}\\frac{1}{N}\\sum_{i=1}^NL(x_i^T\\beta,y_i)\n",
    "\\end{align*}\n",
    "\n",
    "In order to minimize this function we have to compute the gradient\n",
    "\n",
    "\\begin{align*}\n",
    "\\nabla\\mathcal{R}(\\beta)=\\frac{1}{N}X(Y-\\sigma(X\\beta))\n",
    "\\end{align*}\n",
    "\n",
    "where $\\sigma(z)=\\frac{1}{1+e^{-z}}$. Unfortunately, as spoiled before the equation $\\nabla\\mathcal{R}(\\beta)=0$ has no closed form solution and it needs to be solved through iterative algorithm like gradient descents, Newton's method etc.. Fortunately, this is possible because the logistic loss is convex in its first argument\n",
    "\n",
    "\\begin{align*}\n",
    "\\frac{\\partial^2L(\\hat{y},y)}{\\partial\\hat{y}^2}=\\sigma(\\hat{y})\\sigma(-\\hat{y})>0\n",
    "\\end{align*}\n",
    "\n",
    "The loss is strictly convex, the solution is thus unique."
   ]
  },
  {
   "cell_type": "markdown",
   "metadata": {},
   "source": [
    "##  <a class=\"anchor\" id='s2'>Implementation in Python</a> "
   ]
  },
  {
   "cell_type": "markdown",
   "metadata": {},
   "source": [
    "The class `LogisticRegression` of the module `sklearn.linear_model` is:\n",
    "\n",
    "`LogisticRegression(penalty='l2', dual=False, tol=0.0001, C=1.0, fit_intercept=True, intercept_scaling=1, class_weight=None, random_state=None, solver='lbfgs', max_iter=100, multi_class='auto', verbose=0, warm_start=False, n_jobs=None, l1_ratio=None)`\n",
    "\n",
    "Since it's a class is composed by __parameters__, __attributes__ and __method__. The official page where all the details can be found is [here](https://scikit-learn.org/stable/modules/generated/sklearn.linear_model.LogisticRegression.html#sklearn.linear_model.LogisticRegression)"
   ]
  },
  {
   "cell_type": "markdown",
   "metadata": {},
   "source": [
    "##  <a class=\"anchor\" id='s3'>Mini-challenge</a> "
   ]
  },
  {
   "cell_type": "markdown",
   "metadata": {},
   "source": [
    "We still study in this mini challenge the standard dasaset of Iris classification.  As in the previous cases we structure the section as follows:\n",
    "\n",
    "- __Inizialization__\n",
    "- __Exploration of Data__\n",
    "- __Model Selection__\n",
    "- __Model Assessment__\n",
    "- __Interpretability__"
   ]
  },
  {
   "cell_type": "markdown",
   "metadata": {},
   "source": [
    "### Inizialization"
   ]
  },
  {
   "cell_type": "code",
   "execution_count": 22,
   "metadata": {},
   "outputs": [],
   "source": [
    "import numpy as np\n",
    "import pandas as pd\n",
    "import matplotlib.pyplot as plt\n",
    "import matplotlib.ticker as ticker\n",
    "import seaborn as sns\n",
    "\n",
    "from sklearn import preprocessing\n",
    "from sklearn.model_selection import train_test_split, RepeatedKFold, GridSearchCV\n",
    "from sklearn.metrics import accuracy_score, confusion_matrix\n",
    "from sklearn.linear_model import LogisticRegression\n",
    "from sklearn.preprocessing import StandardScaler\n",
    "\n",
    "import eli5\n",
    "from eli5.sklearn import PermutationImportance\n",
    "from pdpbox import pdp, info_plots, get_dataset\n",
    "from sklearn.utils.random import sample_without_replacement\n",
    "\n",
    "\n",
    "import warnings\n",
    "warnings.filterwarnings(\"ignore\")"
   ]
  },
  {
   "cell_type": "markdown",
   "metadata": {},
   "source": [
    "### Exploration of Data"
   ]
  },
  {
   "cell_type": "code",
   "execution_count": 3,
   "metadata": {},
   "outputs": [],
   "source": [
    "df=pd.read_csv('data/heart.csv')"
   ]
  },
  {
   "cell_type": "code",
   "execution_count": 4,
   "metadata": {},
   "outputs": [
    {
     "data": {
      "text/plain": [
       "(303, 14)"
      ]
     },
     "execution_count": 4,
     "metadata": {},
     "output_type": "execute_result"
    }
   ],
   "source": [
    "df.shape"
   ]
  },
  {
   "cell_type": "code",
   "execution_count": 5,
   "metadata": {},
   "outputs": [
    {
     "data": {
      "text/html": [
       "<div>\n",
       "<style scoped>\n",
       "    .dataframe tbody tr th:only-of-type {\n",
       "        vertical-align: middle;\n",
       "    }\n",
       "\n",
       "    .dataframe tbody tr th {\n",
       "        vertical-align: top;\n",
       "    }\n",
       "\n",
       "    .dataframe thead th {\n",
       "        text-align: right;\n",
       "    }\n",
       "</style>\n",
       "<table border=\"1\" class=\"dataframe\">\n",
       "  <thead>\n",
       "    <tr style=\"text-align: right;\">\n",
       "      <th></th>\n",
       "      <th>age</th>\n",
       "      <th>sex</th>\n",
       "      <th>cp</th>\n",
       "      <th>trestbps</th>\n",
       "      <th>chol</th>\n",
       "      <th>fbs</th>\n",
       "      <th>restecg</th>\n",
       "      <th>thalach</th>\n",
       "      <th>exang</th>\n",
       "      <th>oldpeak</th>\n",
       "      <th>slope</th>\n",
       "      <th>ca</th>\n",
       "      <th>thal</th>\n",
       "      <th>target</th>\n",
       "    </tr>\n",
       "  </thead>\n",
       "  <tbody>\n",
       "    <tr>\n",
       "      <th>0</th>\n",
       "      <td>63</td>\n",
       "      <td>1</td>\n",
       "      <td>3</td>\n",
       "      <td>145</td>\n",
       "      <td>233</td>\n",
       "      <td>1</td>\n",
       "      <td>0</td>\n",
       "      <td>150</td>\n",
       "      <td>0</td>\n",
       "      <td>2.3</td>\n",
       "      <td>0</td>\n",
       "      <td>0</td>\n",
       "      <td>1</td>\n",
       "      <td>1</td>\n",
       "    </tr>\n",
       "    <tr>\n",
       "      <th>1</th>\n",
       "      <td>37</td>\n",
       "      <td>1</td>\n",
       "      <td>2</td>\n",
       "      <td>130</td>\n",
       "      <td>250</td>\n",
       "      <td>0</td>\n",
       "      <td>1</td>\n",
       "      <td>187</td>\n",
       "      <td>0</td>\n",
       "      <td>3.5</td>\n",
       "      <td>0</td>\n",
       "      <td>0</td>\n",
       "      <td>2</td>\n",
       "      <td>1</td>\n",
       "    </tr>\n",
       "    <tr>\n",
       "      <th>2</th>\n",
       "      <td>41</td>\n",
       "      <td>0</td>\n",
       "      <td>1</td>\n",
       "      <td>130</td>\n",
       "      <td>204</td>\n",
       "      <td>0</td>\n",
       "      <td>0</td>\n",
       "      <td>172</td>\n",
       "      <td>0</td>\n",
       "      <td>1.4</td>\n",
       "      <td>2</td>\n",
       "      <td>0</td>\n",
       "      <td>2</td>\n",
       "      <td>1</td>\n",
       "    </tr>\n",
       "    <tr>\n",
       "      <th>3</th>\n",
       "      <td>56</td>\n",
       "      <td>1</td>\n",
       "      <td>1</td>\n",
       "      <td>120</td>\n",
       "      <td>236</td>\n",
       "      <td>0</td>\n",
       "      <td>1</td>\n",
       "      <td>178</td>\n",
       "      <td>0</td>\n",
       "      <td>0.8</td>\n",
       "      <td>2</td>\n",
       "      <td>0</td>\n",
       "      <td>2</td>\n",
       "      <td>1</td>\n",
       "    </tr>\n",
       "    <tr>\n",
       "      <th>4</th>\n",
       "      <td>57</td>\n",
       "      <td>0</td>\n",
       "      <td>0</td>\n",
       "      <td>120</td>\n",
       "      <td>354</td>\n",
       "      <td>0</td>\n",
       "      <td>1</td>\n",
       "      <td>163</td>\n",
       "      <td>1</td>\n",
       "      <td>0.6</td>\n",
       "      <td>2</td>\n",
       "      <td>0</td>\n",
       "      <td>2</td>\n",
       "      <td>1</td>\n",
       "    </tr>\n",
       "  </tbody>\n",
       "</table>\n",
       "</div>"
      ],
      "text/plain": [
       "   age  sex  cp  trestbps  chol  fbs  restecg  thalach  exang  oldpeak  slope  \\\n",
       "0   63    1   3       145   233    1        0      150      0      2.3      0   \n",
       "1   37    1   2       130   250    0        1      187      0      3.5      0   \n",
       "2   41    0   1       130   204    0        0      172      0      1.4      2   \n",
       "3   56    1   1       120   236    0        1      178      0      0.8      2   \n",
       "4   57    0   0       120   354    0        1      163      1      0.6      2   \n",
       "\n",
       "   ca  thal  target  \n",
       "0   0     1       1  \n",
       "1   0     2       1  \n",
       "2   0     2       1  \n",
       "3   0     2       1  \n",
       "4   0     2       1  "
      ]
     },
     "execution_count": 5,
     "metadata": {},
     "output_type": "execute_result"
    }
   ],
   "source": [
    "df.head()"
   ]
  },
  {
   "cell_type": "code",
   "execution_count": 6,
   "metadata": {},
   "outputs": [],
   "source": [
    "num_feat=['age', 'trestbps', 'chol', 'thalach','oldpeak','target']\n",
    "cat_feat=['sex','fbs','exang','cp','restecg','slope','ca','thal','target']"
   ]
  },
  {
   "cell_type": "code",
   "execution_count": 7,
   "metadata": {},
   "outputs": [
    {
     "data": {
      "image/png": "[encoded data removed]",
      "text/plain": [
       "<Figure size 1440x576 with 10 Axes>"
      ]
     },
     "metadata": {
      "needs_background": "light"
     },
     "output_type": "display_data"
    }
   ],
   "source": [
    "f1, ax1 = plt.subplots(2, 5, figsize=(20, 8), sharex='col', sharey=False)\n",
    "\n",
    "f1=sns.distplot(df[(df.target==0)][num_feat[0]], kde_kws = {'label': 'healt'},bins = 8, ax=ax1[0,0])\n",
    "f1=sns.distplot(df[(df.target==1)][num_feat[0]], kde_kws = {'label': 'disease'},bins=8, ax=ax1[0,0])\n",
    "f1=sns.boxplot(x=num_feat[0], y='target', data=df,ax=ax1[1,0],orient='h',showfliers=False)\n",
    "f1=sns.boxplot(x=num_feat[0], y='target', data=df,ax=ax1[1,0],orient='h',showfliers=False)\n",
    "\n",
    "f1=sns.distplot(df[(df.target==0)][num_feat[1]], kde_kws = {'label': 'healt'},bins = 8, ax=ax1[0,1])\n",
    "f1=sns.distplot(df[(df.target==1)][num_feat[1]], kde_kws = {'label': 'disease'},bins=8, ax=ax1[0,1])\n",
    "f1=sns.boxplot(x=num_feat[1], y='target', data=df,ax=ax1[1,1],orient='h',showfliers=False)\n",
    "f1=sns.boxplot(x=num_feat[1], y='target', data=df,ax=ax1[1,1],orient='h',showfliers=False)\n",
    "\n",
    "f1=sns.distplot(df[(df.target==0)][num_feat[2]], kde_kws = {'label': 'healt'},bins = 8, ax=ax1[0,2])\n",
    "f1=sns.distplot(df[(df.target==1)][num_feat[2]], kde_kws = {'label': 'disease'},bins=8, ax=ax1[0,2])\n",
    "f1=sns.boxplot(x=num_feat[2], y='target', data=df,ax=ax1[1,2],orient='h',showfliers=False)\n",
    "f1=sns.boxplot(x=num_feat[2], y='target', data=df,ax=ax1[1,2],orient='h',showfliers=False)\n",
    "\n",
    "f1=sns.distplot(df[(df.target==0)][num_feat[3]], kde_kws = {'label': 'healt'},bins = 8, ax=ax1[0,3])\n",
    "f1=sns.distplot(df[(df.target==1)][num_feat[3]], kde_kws = {'label': 'disease'},bins=8, ax=ax1[0,3])\n",
    "f1=sns.boxplot(x=num_feat[3], y='target', data=df,ax=ax1[1,3],orient='h',showfliers=False)\n",
    "f1=sns.boxplot(x=num_feat[3], y='target', data=df,ax=ax1[1,3],orient='h',showfliers=False)\n",
    "\n",
    "f1=sns.distplot(df[(df.target==0)][num_feat[4]], kde_kws = {'label': 'healt'},bins = 8, ax=ax1[0,4])\n",
    "f1=sns.distplot(df[(df.target==1)][num_feat[4]], kde_kws = {'label': 'disease'},bins=8, ax=ax1[0,4])\n",
    "f1=sns.boxplot(x=num_feat[4], y='target', data=df,ax=ax1[1,4],orient='h',showfliers=False)\n",
    "f1=sns.boxplot(x=num_feat[4], y='target', data=df,ax=ax1[1,4],orient='h',showfliers=False)"
   ]
  },
  {
   "cell_type": "markdown",
   "metadata": {},
   "source": [
    "### Model Selection"
   ]
  },
  {
   "cell_type": "code",
   "execution_count": 8,
   "metadata": {},
   "outputs": [],
   "source": [
    "X_train, X_test, y_train, y_test = train_test_split(\n",
    "    df.drop('target',axis=1), df.target, test_size=0.2, random_state=10)"
   ]
  },
  {
   "cell_type": "code",
   "execution_count": 9,
   "metadata": {},
   "outputs": [
    {
     "data": {
      "text/plain": [
       "<matplotlib.axes._subplots.AxesSubplot at 0x1a1777c048>"
      ]
     },
     "execution_count": 9,
     "metadata": {},
     "output_type": "execute_result"
    },
    {
     "data": {
      "image/png": "[encoded data removed]",
      "text/plain": [
       "<Figure size 432x288 with 2 Axes>"
      ]
     },
     "metadata": {
      "needs_background": "light"
     },
     "output_type": "display_data"
    }
   ],
   "source": [
    "model=LogisticRegression(solver='liblinear', multi_class='auto')\n",
    "model.fit(X_train,y_train)\n",
    "\n",
    "sns.heatmap(confusion_matrix(y_test, model.predict(X_test)), annot=True)"
   ]
  },
  {
   "cell_type": "code",
   "execution_count": 10,
   "metadata": {},
   "outputs": [
    {
     "name": "stdout",
     "output_type": "stream",
     "text": [
      "The accuracy of the Logistic Regression without feature selection is 0.7704918032786885\n"
     ]
    }
   ],
   "source": [
    "print('The accuracy of the Logistic Regression without feature selection is',accuracy_score(y_test, model.predict(X_test)))"
   ]
  },
  {
   "cell_type": "code",
   "execution_count": 11,
   "metadata": {},
   "outputs": [
    {
     "data": {
      "text/plain": [
       "<bound method BaseEstimator.get_params of LogisticRegression(C=1.0, class_weight=None, dual=False, fit_intercept=True,\n",
       "          intercept_scaling=1, max_iter=100, multi_class='auto',\n",
       "          n_jobs=None, penalty='l2', random_state=None, solver='liblinear',\n",
       "          tol=0.0001, verbose=0, warm_start=False)>"
      ]
     },
     "execution_count": 11,
     "metadata": {},
     "output_type": "execute_result"
    }
   ],
   "source": [
    "model.get_params"
   ]
  },
  {
   "cell_type": "code",
   "execution_count": 14,
   "metadata": {},
   "outputs": [
    {
     "data": {
      "text/plain": [
       "GridSearchCV(cv='warn', error_score=<function accuracy_score at 0x1a15ebe400>,\n",
       "       estimator=LogisticRegression(C=1.0, class_weight=None, dual=False, fit_intercept=True,\n",
       "          intercept_scaling=1, max_iter=100, multi_class='warn',\n",
       "          n_jobs=None, penalty='l2', random_state=None, solver='warn',\n",
       "          tol=0.0001, verbose=0, warm_start=False),\n",
       "       fit_params=None, iid='warn', n_jobs=None,\n",
       "       param_grid={'C': [0.001, 0.01, 0.1, 1, 10]},\n",
       "       pre_dispatch='2*n_jobs', refit=True, return_train_score='warn',\n",
       "       scoring=None, verbose=0)"
      ]
     },
     "execution_count": 14,
     "metadata": {},
     "output_type": "execute_result"
    }
   ],
   "source": [
    "params={'C': [0.001, 0.01, 0.1, 1, 10] }\n",
    "\n",
    "model=LogisticRegression()\n",
    "clf=GridSearchCV(model, param_grid=params,refit=True,error_score=accuracy_score)\n",
    "\n",
    "clf.fit(df.drop('target',axis=1), df.target)"
   ]
  },
  {
   "cell_type": "code",
   "execution_count": 15,
   "metadata": {},
   "outputs": [
    {
     "data": {
      "text/plain": [
       "{'C': 1}"
      ]
     },
     "execution_count": 15,
     "metadata": {},
     "output_type": "execute_result"
    }
   ],
   "source": [
    "clf.best_params_"
   ]
  },
  {
   "cell_type": "code",
   "execution_count": 16,
   "metadata": {},
   "outputs": [
    {
     "data": {
      "text/plain": [
       "0.834983498349835"
      ]
     },
     "execution_count": 16,
     "metadata": {},
     "output_type": "execute_result"
    }
   ],
   "source": [
    "clf.best_score_"
   ]
  },
  {
   "cell_type": "code",
   "execution_count": 17,
   "metadata": {},
   "outputs": [
    {
     "data": {
      "text/plain": [
       "LogisticRegression(C=1, class_weight=None, dual=False, fit_intercept=True,\n",
       "          intercept_scaling=1, max_iter=100, multi_class='warn',\n",
       "          n_jobs=None, penalty='l2', random_state=None, solver='warn',\n",
       "          tol=0.0001, verbose=0, warm_start=False)"
      ]
     },
     "execution_count": 17,
     "metadata": {},
     "output_type": "execute_result"
    }
   ],
   "source": [
    "clf.best_estimator_"
   ]
  },
  {
   "cell_type": "markdown",
   "metadata": {},
   "source": [
    "### Model Assessment"
   ]
  },
  {
   "cell_type": "code",
   "execution_count": 35,
   "metadata": {},
   "outputs": [],
   "source": [
    "def accur(rep):\n",
    "    rkf= RepeatedKFold(n_splits=5, n_repeats=rep, random_state=True)\n",
    "    acc=[]\n",
    "    \n",
    "    for train_I, test_I in rkf.split(df):\n",
    "        X_fold_train = df.iloc[train_I, :].drop('target',axis=1)\n",
    "        y_fold_train = df['target'].values[train_I]\n",
    "        X_fold_test = df.iloc[test_I, :].drop('target',axis=1)\n",
    "        y_fold_test = df['target'].values[test_I]\n",
    "        model = clf.best_estimator_\n",
    "        model.fit(X_fold_train, y_fold_train)\n",
    "        acc.append(accuracy_score(y_fold_test, model.predict(X_fold_test)))\n",
    "    print('The estimation of the accuracy score over the test distributions is:', \"{:2.2f}%\".format(np.mean(acc)*100), '\\u00B1', np.std(acc))\n",
    "    print(\"The confidence interval is [{:2.1f}%, {:2.1f}%]\".format(*np.quantile(acc, q=[0.025, 0.975]) * 100))\n",
    "    \n",
    "    return acc"
   ]
  },
  {
   "cell_type": "code",
   "execution_count": 38,
   "metadata": {},
   "outputs": [
    {
     "name": "stdout",
     "output_type": "stream",
     "text": [
      "The estimation of the accuracy score over the test distributions is: 83.15% ± 0.04291261580389536\n",
      "The confidence interval is [73.8%, 91.7%]\n"
     ]
    },
    {
     "data": {
      "text/plain": [
       "<matplotlib.axes._subplots.AxesSubplot at 0x1a180317f0>"
      ]
     },
     "execution_count": 38,
     "metadata": {},
     "output_type": "execute_result"
    },
    {
     "data": {
      "image/png": "[encoded data removed]",
      "text/plain": [
       "<Figure size 432x288 with 1 Axes>"
      ]
     },
     "metadata": {
      "needs_background": "light"
     },
     "output_type": "display_data"
    }
   ],
   "source": [
    "sns.distplot(accur(1000),bins=20)"
   ]
  },
  {
   "cell_type": "markdown",
   "metadata": {},
   "source": [
    "### Interpretability"
   ]
  },
  {
   "cell_type": "code",
   "execution_count": 39,
   "metadata": {},
   "outputs": [],
   "source": [
    "model=clf.best_estimator_"
   ]
  },
  {
   "cell_type": "code",
   "execution_count": 40,
   "metadata": {},
   "outputs": [],
   "source": [
    "X_train, X_test, y_train, y_test = train_test_split(\n",
    "    df.drop('target',axis=1), df.target, test_size=0.2, random_state=10)"
   ]
  },
  {
   "cell_type": "code",
   "execution_count": 42,
   "metadata": {},
   "outputs": [
    {
     "data": {
      "text/html": [
       "\n",
       "    <style>\n",
       "    table.eli5-weights tr:hover {\n",
       "        filter: brightness(85%);\n",
       "    }\n",
       "</style>\n",
       "\n",
       "\n",
       "\n",
       "    \n",
       "\n",
       "    \n",
       "\n",
       "    \n",
       "\n",
       "    \n",
       "\n",
       "    \n",
       "\n",
       "    \n",
       "\n",
       "\n",
       "    \n",
       "\n",
       "    \n",
       "\n",
       "    \n",
       "\n",
       "    \n",
       "\n",
       "    \n",
       "\n",
       "    \n",
       "\n",
       "\n",
       "    \n",
       "\n",
       "    \n",
       "\n",
       "    \n",
       "\n",
       "    \n",
       "\n",
       "    \n",
       "        <table class=\"eli5-weights eli5-feature-importances\" style=\"border-collapse: collapse; border: none; margin-top: 0em; table-layout: auto;\">\n",
       "    <thead>\n",
       "    <tr style=\"border: none;\">\n",
       "        <th style=\"padding: 0 1em 0 0.5em; text-align: right; border: none;\">Weight</th>\n",
       "        <th style=\"padding: 0 0.5em 0 0.5em; text-align: left; border: none;\">Feature</th>\n",
       "    </tr>\n",
       "    </thead>\n",
       "    <tbody>\n",
       "    \n",
       "        <tr style=\"background-color: hsl(120, 100.00%, 80.00%); border: none;\">\n",
       "            <td style=\"padding: 0 1em 0 0.5em; text-align: right; border: none;\">\n",
       "                0.0311\n",
       "                \n",
       "                    &plusmn; 0.0496\n",
       "                \n",
       "            </td>\n",
       "            <td style=\"padding: 0 0.5em 0 0.5em; text-align: left; border: none;\">\n",
       "                cp\n",
       "            </td>\n",
       "        </tr>\n",
       "    \n",
       "        <tr style=\"background-color: hsl(120, 100.00%, 85.50%); border: none;\">\n",
       "            <td style=\"padding: 0 1em 0 0.5em; text-align: right; border: none;\">\n",
       "                0.0197\n",
       "                \n",
       "                    &plusmn; 0.0715\n",
       "                \n",
       "            </td>\n",
       "            <td style=\"padding: 0 0.5em 0 0.5em; text-align: left; border: none;\">\n",
       "                oldpeak\n",
       "            </td>\n",
       "        </tr>\n",
       "    \n",
       "        <tr style=\"background-color: hsl(120, 100.00%, 88.15%); border: none;\">\n",
       "            <td style=\"padding: 0 1em 0 0.5em; text-align: right; border: none;\">\n",
       "                0.0148\n",
       "                \n",
       "                    &plusmn; 0.0372\n",
       "                \n",
       "            </td>\n",
       "            <td style=\"padding: 0 0.5em 0 0.5em; text-align: left; border: none;\">\n",
       "                sex\n",
       "            </td>\n",
       "        </tr>\n",
       "    \n",
       "        <tr style=\"background-color: hsl(120, 100.00%, 93.28%); border: none;\">\n",
       "            <td style=\"padding: 0 1em 0 0.5em; text-align: right; border: none;\">\n",
       "                0.0066\n",
       "                \n",
       "                    &plusmn; 0.0393\n",
       "                \n",
       "            </td>\n",
       "            <td style=\"padding: 0 0.5em 0 0.5em; text-align: left; border: none;\">\n",
       "                ca\n",
       "            </td>\n",
       "        </tr>\n",
       "    \n",
       "        <tr style=\"background-color: hsl(120, 100.00%, 93.28%); border: none;\">\n",
       "            <td style=\"padding: 0 1em 0 0.5em; text-align: right; border: none;\">\n",
       "                0.0066\n",
       "                \n",
       "                    &plusmn; 0.0365\n",
       "                \n",
       "            </td>\n",
       "            <td style=\"padding: 0 0.5em 0 0.5em; text-align: left; border: none;\">\n",
       "                slope\n",
       "            </td>\n",
       "        </tr>\n",
       "    \n",
       "        <tr style=\"background-color: hsl(120, 100.00%, 94.51%); border: none;\">\n",
       "            <td style=\"padding: 0 1em 0 0.5em; text-align: right; border: none;\">\n",
       "                0.0049\n",
       "                \n",
       "                    &plusmn; 0.0487\n",
       "                \n",
       "            </td>\n",
       "            <td style=\"padding: 0 0.5em 0 0.5em; text-align: left; border: none;\">\n",
       "                thal\n",
       "            </td>\n",
       "        </tr>\n",
       "    \n",
       "        <tr style=\"background-color: hsl(120, 100.00%, 97.45%); border: none;\">\n",
       "            <td style=\"padding: 0 1em 0 0.5em; text-align: right; border: none;\">\n",
       "                0.0016\n",
       "                \n",
       "                    &plusmn; 0.0098\n",
       "                \n",
       "            </td>\n",
       "            <td style=\"padding: 0 0.5em 0 0.5em; text-align: left; border: none;\">\n",
       "                age\n",
       "            </td>\n",
       "        </tr>\n",
       "    \n",
       "        <tr style=\"background-color: hsl(0, 100.00%, 100.00%); border: none;\">\n",
       "            <td style=\"padding: 0 1em 0 0.5em; text-align: right; border: none;\">\n",
       "                0\n",
       "                \n",
       "                    &plusmn; 0.0000\n",
       "                \n",
       "            </td>\n",
       "            <td style=\"padding: 0 0.5em 0 0.5em; text-align: left; border: none;\">\n",
       "                fbs\n",
       "            </td>\n",
       "        </tr>\n",
       "    \n",
       "        <tr style=\"background-color: hsl(0, 100.00%, 100.00%); border: none;\">\n",
       "            <td style=\"padding: 0 1em 0 0.5em; text-align: right; border: none;\">\n",
       "                0\n",
       "                \n",
       "                    &plusmn; 0.0000\n",
       "                \n",
       "            </td>\n",
       "            <td style=\"padding: 0 0.5em 0 0.5em; text-align: left; border: none;\">\n",
       "                chol\n",
       "            </td>\n",
       "        </tr>\n",
       "    \n",
       "        <tr style=\"background-color: hsl(0, 100.00%, 93.28%); border: none;\">\n",
       "            <td style=\"padding: 0 1em 0 0.5em; text-align: right; border: none;\">\n",
       "                -0.0066\n",
       "                \n",
       "                    &plusmn; 0.0161\n",
       "                \n",
       "            </td>\n",
       "            <td style=\"padding: 0 0.5em 0 0.5em; text-align: left; border: none;\">\n",
       "                trestbps\n",
       "            </td>\n",
       "        </tr>\n",
       "    \n",
       "        <tr style=\"background-color: hsl(0, 100.00%, 91.07%); border: none;\">\n",
       "            <td style=\"padding: 0 1em 0 0.5em; text-align: right; border: none;\">\n",
       "                -0.0098\n",
       "                \n",
       "                    &plusmn; 0.0706\n",
       "                \n",
       "            </td>\n",
       "            <td style=\"padding: 0 0.5em 0 0.5em; text-align: left; border: none;\">\n",
       "                thalach\n",
       "            </td>\n",
       "        </tr>\n",
       "    \n",
       "        <tr style=\"background-color: hsl(0, 100.00%, 91.07%); border: none;\">\n",
       "            <td style=\"padding: 0 1em 0 0.5em; text-align: right; border: none;\">\n",
       "                -0.0098\n",
       "                \n",
       "                    &plusmn; 0.0393\n",
       "                \n",
       "            </td>\n",
       "            <td style=\"padding: 0 0.5em 0 0.5em; text-align: left; border: none;\">\n",
       "                exang\n",
       "            </td>\n",
       "        </tr>\n",
       "    \n",
       "        <tr style=\"background-color: hsl(0, 100.00%, 90.06%); border: none;\">\n",
       "            <td style=\"padding: 0 1em 0 0.5em; text-align: right; border: none;\">\n",
       "                -0.0115\n",
       "                \n",
       "                    &plusmn; 0.0295\n",
       "                \n",
       "            </td>\n",
       "            <td style=\"padding: 0 0.5em 0 0.5em; text-align: left; border: none;\">\n",
       "                restecg\n",
       "            </td>\n",
       "        </tr>\n",
       "    \n",
       "    \n",
       "    </tbody>\n",
       "</table>\n",
       "    \n",
       "\n",
       "    \n",
       "\n",
       "\n",
       "    \n",
       "\n",
       "    \n",
       "\n",
       "    \n",
       "\n",
       "    \n",
       "\n",
       "    \n",
       "\n",
       "    \n",
       "\n",
       "\n",
       "\n"
      ],
      "text/plain": [
       "<IPython.core.display.HTML object>"
      ]
     },
     "execution_count": 42,
     "metadata": {},
     "output_type": "execute_result"
    }
   ],
   "source": [
    "perm = PermutationImportance(model, random_state=1, n_iter=10).fit(X_test, y_test)\n",
    "eli5.show_weights(perm, feature_names = X_test.columns.tolist())"
   ]
  },
  {
   "cell_type": "code",
   "execution_count": 73,
   "metadata": {},
   "outputs": [
    {
     "data": {
      "text/plain": [
       "array([ 0.01256061, -0.99908097,  0.98294868, -0.01964912, -0.00140788,\n",
       "       -0.20521783,  0.6782394 ,  0.02639635, -0.74447491, -0.53027871,\n",
       "        0.56324543, -0.6235163 , -0.76696152])"
      ]
     },
     "execution_count": 73,
     "metadata": {},
     "output_type": "execute_result"
    }
   ],
   "source": [
    "model.coef_.flatten()"
   ]
  },
  {
   "cell_type": "code",
   "execution_count": 51,
   "metadata": {},
   "outputs": [
    {
     "data": {
      "text/plain": [
       "Index(['age', 'sex', 'cp', 'trestbps', 'chol', 'fbs', 'restecg', 'thalach',\n",
       "       'exang', 'oldpeak', 'slope', 'ca', 'thal'],\n",
       "      dtype='object')"
      ]
     },
     "execution_count": 51,
     "metadata": {},
     "output_type": "execute_result"
    }
   ],
   "source": [
    "df.drop('target',axis=1).columns"
   ]
  },
  {
   "cell_type": "code",
   "execution_count": 89,
   "metadata": {},
   "outputs": [],
   "source": [
    "coeff = pd.DataFrame(model.coef_.flatten(), columns = ['value_coeff']) "
   ]
  },
  {
   "cell_type": "code",
   "execution_count": 90,
   "metadata": {},
   "outputs": [],
   "source": [
    "coeff['feature_coeff']=df.drop('target',axis=1).columns"
   ]
  },
  {
   "cell_type": "code",
   "execution_count": 91,
   "metadata": {},
   "outputs": [],
   "source": [
    "coeff.set_index('feature_coeff',inplace=True)"
   ]
  },
  {
   "cell_type": "code",
   "execution_count": 92,
   "metadata": {},
   "outputs": [],
   "source": [
    "coeff=coeff.sort_values(by='value_coeff',ascending=False)"
   ]
  },
  {
   "cell_type": "code",
   "execution_count": 95,
   "metadata": {},
   "outputs": [
    {
     "data": {
      "text/html": [
       "<div>\n",
       "<style scoped>\n",
       "    .dataframe tbody tr th:only-of-type {\n",
       "        vertical-align: middle;\n",
       "    }\n",
       "\n",
       "    .dataframe tbody tr th {\n",
       "        vertical-align: top;\n",
       "    }\n",
       "\n",
       "    .dataframe thead th {\n",
       "        text-align: right;\n",
       "    }\n",
       "</style>\n",
       "<table border=\"1\" class=\"dataframe\">\n",
       "  <thead>\n",
       "    <tr style=\"text-align: right;\">\n",
       "      <th></th>\n",
       "      <th>value_coeff</th>\n",
       "    </tr>\n",
       "    <tr>\n",
       "      <th>feature_coeff</th>\n",
       "      <th></th>\n",
       "    </tr>\n",
       "  </thead>\n",
       "  <tbody>\n",
       "    <tr>\n",
       "      <th>cp</th>\n",
       "      <td>0.982949</td>\n",
       "    </tr>\n",
       "    <tr>\n",
       "      <th>restecg</th>\n",
       "      <td>0.678239</td>\n",
       "    </tr>\n",
       "    <tr>\n",
       "      <th>slope</th>\n",
       "      <td>0.563245</td>\n",
       "    </tr>\n",
       "    <tr>\n",
       "      <th>thalach</th>\n",
       "      <td>0.026396</td>\n",
       "    </tr>\n",
       "    <tr>\n",
       "      <th>age</th>\n",
       "      <td>0.012561</td>\n",
       "    </tr>\n",
       "    <tr>\n",
       "      <th>chol</th>\n",
       "      <td>-0.001408</td>\n",
       "    </tr>\n",
       "    <tr>\n",
       "      <th>trestbps</th>\n",
       "      <td>-0.019649</td>\n",
       "    </tr>\n",
       "    <tr>\n",
       "      <th>fbs</th>\n",
       "      <td>-0.205218</td>\n",
       "    </tr>\n",
       "    <tr>\n",
       "      <th>oldpeak</th>\n",
       "      <td>-0.530279</td>\n",
       "    </tr>\n",
       "    <tr>\n",
       "      <th>ca</th>\n",
       "      <td>-0.623516</td>\n",
       "    </tr>\n",
       "    <tr>\n",
       "      <th>exang</th>\n",
       "      <td>-0.744475</td>\n",
       "    </tr>\n",
       "    <tr>\n",
       "      <th>thal</th>\n",
       "      <td>-0.766962</td>\n",
       "    </tr>\n",
       "    <tr>\n",
       "      <th>sex</th>\n",
       "      <td>-0.999081</td>\n",
       "    </tr>\n",
       "  </tbody>\n",
       "</table>\n",
       "</div>"
      ],
      "text/plain": [
       "               value_coeff\n",
       "feature_coeff             \n",
       "cp                0.982949\n",
       "restecg           0.678239\n",
       "slope             0.563245\n",
       "thalach           0.026396\n",
       "age               0.012561\n",
       "chol             -0.001408\n",
       "trestbps         -0.019649\n",
       "fbs              -0.205218\n",
       "oldpeak          -0.530279\n",
       "ca               -0.623516\n",
       "exang            -0.744475\n",
       "thal             -0.766962\n",
       "sex              -0.999081"
      ]
     },
     "execution_count": 95,
     "metadata": {},
     "output_type": "execute_result"
    }
   ],
   "source": [
    "coeff"
   ]
  },
  {
   "cell_type": "code",
   "execution_count": 100,
   "metadata": {},
   "outputs": [
    {
     "data": {
      "text/plain": [
       "<matplotlib.axes._subplots.AxesSubplot at 0x1a1b4922e8>"
      ]
     },
     "execution_count": 100,
     "metadata": {},
     "output_type": "execute_result"
    },
    {
     "data": {
      "image/png": "[encoded data removed]",
      "text/plain": [
       "<Figure size 432x288 with 1 Axes>"
      ]
     },
     "metadata": {
      "needs_background": "light"
     },
     "output_type": "display_data"
    }
   ],
   "source": [
    "coeff.plot.barh()"
   ]
  }
 ],
 "metadata": {
  "kernelspec": {
   "display_name": "Python 3",
   "language": "python",
   "name": "python3"
  },
  "language_info": {
   "codemirror_mode": {
    "name": "ipython",
    "version": 3
   },
   "file_extension": ".py",
   "mimetype": "text/x-python",
   "name": "python",
   "nbconvert_exporter": "python",
   "pygments_lexer": "ipython3",
   "version": "3.7.3"
  }
 },
 "nbformat": 4,
 "nbformat_minor": 2
}
