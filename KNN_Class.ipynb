{
 "cells": [
  {
   "cell_type": "markdown",
   "metadata": {},
   "source": [
    "# K-Nearest Neighbors for Classification"
   ]
  },
  {
   "cell_type": "markdown",
   "metadata": {},
   "source": [
    "In this notebook we discuss the K-Nearest Neighbors for Classification problem. As usual, we start giving the theoretical background and studying the model in details, on order to use it for a practical problem in the Mini-Challenge we proposed in the last section. The structure of the notebook is then:\n",
    "\n",
    "- [Theoretical Analysis](#s1)\n",
    "    - [Algorithm](#s1.1)\n",
    "    \n",
    "- [Implementation in Python](#s2)\n",
    "- [Mini-challenge](#s3)"
   ]
  },
  {
   "cell_type": "markdown",
   "metadata": {},
   "source": [
    "##  <a class=\"anchor\" id='s1'>Theoretical Analysis</a> "
   ]
  },
  {
   "cell_type": "markdown",
   "metadata": {},
   "source": [
    "The __k-Nearest Neighbors (kNN)__ algorithm  is a non-parametric method used both for classification and regression.  The principle behind nearest neighbor methods is to find a predefined number of training samples closest in distance to the new point, and predict the label from these. The number of samples can be a user-defined constant (k-nearest neighbor learning), or vary based on the local density of points (radius-based neighbor learning). The distance can, in general, be any metric measure: standard Euclidean distance is the most common choice. Neighbors-based methods are known as non-generalizing machine learning methods, since they simply “remember” all of its training data. \n",
    "Despite its simplicity, nearest neighbors has been successful in a large number of classification and regression problems, including handwritten digits and satellite image scenes. Being a non-parametric method, it is often successful in classification situations where the decision boundary is very irregular.\n",
    "\n",
    "As we said, Neighbors-based classification is a type of instance-based learning or non-generalizing learning: it does not attempt to construct a general internal model, but simply stores instances of the training data. Classification is computed from a simple majority vote of the nearest neighbors of each point: a query point is assigned the data class which has the most representatives within the nearest neighbors of the point."
   ]
  },
  {
   "cell_type": "markdown",
   "metadata": {},
   "source": [
    "###  <a class=\"anchor\" id='s1.1'>Algorithm</a> "
   ]
  },
  {
   "cell_type": "markdown",
   "metadata": {},
   "source": [
    "Suppose we have training set $\\mathcal{T}=\\{(X_1,y_1),\\cdots,(X_n,y_n)\\}$ taking values in $\\mathbf{R}^p\\times \\mathcal{G}$ where $\\mathcal{G}$ is some classe set. We define some norm $||\\cdot||$ on the space of the features, in this case on $\\mathbf{R}^p$. \n",
    "\n",
    "Given a new unseen point $X$ we reorder the training data such that\n",
    "\n",
    "\\begin{align}\n",
    "||X_{(1)}-X||\\le\\cdots\\le||X_{(n)}-X||\n",
    "\\end{align}\n",
    "\n",
    "Once we chose the value $k$ of the algorithm we keep the first $k$ points $X_{(1)},\\cdots X_{(k)}$ closest to the point $X$ and the new output $y$ will be the mode of the outputs $y_{(1)},\\cdots y_{(k)}$ in case of classifiction. In case of regression will be the mean. \n",
    "\n",
    "\n",
    "The basic nearest neighbors classification uses uniform weights: that is, the value assigned to a test point is computed from a simple majority vote of the nearest neighbors. Under some circumstances, it is better to weight the neighbors such that nearer neighbors contribute more to the fit. This can be accomplished through the weights keyword. \n",
    "\n",
    "The main hyperparamter to tune is $k$ and can be accomplished by using some kind of Cross-Validation method. The best choice of $k$ depends upon the data; generally, larger values of $k$ reduces effect of the noise on the classification, but make boundaries between classes less distinct. A good $k$ can be selected by various heuristic techniques.\n",
    "\n",
    "The accuracy of the k-NN algorithm can be severely degraded by the presence of noisy or irrelevant features, or if the feature scales are not consistent with their importance. Much research effort has been put into selecting or scaling features to improve classification. "
   ]
  },
  {
   "cell_type": "markdown",
   "metadata": {},
   "source": [
    "##  <a class=\"anchor\" id='s2'>Implementation in Python</a> "
   ]
  },
  {
   "cell_type": "markdown",
   "metadata": {},
   "source": [
    "The class `KNeighborsClassifier` of the module `sklearn.neighbors` is:\n",
    "\n",
    "`KNeighborsClassifier(n_neighbors=5, weights='uniform', algorithm='auto', leaf_size=30, p=2, metric='minkowski', metric_params=None, n_jobs=None, **kwargs)`\n",
    "\n",
    "Since it's a class is composed by __parameters__, __attributes__ and __method__. The official page where all the details can be found is [here](https://scikit-learn.org/stable/modules/generated/sklearn.neighbors.KNeighborsClassifier.html#sklearn.neighbors.KNeighborsClassifier)"
   ]
  },
  {
   "cell_type": "markdown",
   "metadata": {},
   "source": [
    "##  <a class=\"anchor\" id='s3'>Mini-challenge</a> "
   ]
  },
  {
   "cell_type": "markdown",
   "metadata": {},
   "source": [
    "We still study in this mini challenge the standard dasaset of Iris classification.  As in the previous cases we structure the section as follows:\n",
    "\n",
    "- __Inizialization__\n",
    "- __Exploration of Data__\n",
    "- __Model Selection__\n",
    "- __Model Assessment__\n",
    "- __Interpretability__"
   ]
  },
  {
   "cell_type": "markdown",
   "metadata": {},
   "source": [
    "### Inizialization"
   ]
  },
  {
   "cell_type": "code",
   "execution_count": 7,
   "metadata": {},
   "outputs": [],
   "source": [
    "import numpy as np\n",
    "import pandas as pd\n",
    "import matplotlib.pyplot as plt\n",
    "import matplotlib.ticker as ticker\n",
    "import seaborn as sns\n",
    "\n",
    "from sklearn import preprocessing\n",
    "from sklearn.model_selection import train_test_split, RepeatedKFold, GridSearchCV\n",
    "from sklearn.metrics import accuracy_score, confusion_matrix\n",
    "from sklearn.neighbors import KNeighborsClassifier\n",
    "from sklearn.preprocessing import StandardScaler\n",
    "\n",
    "import eli5\n",
    "from eli5.sklearn import PermutationImportance\n",
    "from pdpbox import pdp, info_plots, get_dataset\n",
    "from sklearn.utils.random import sample_without_replacement\n",
    "\n",
    "\n",
    "import warnings\n",
    "warnings.filterwarnings(\"ignore\")"
   ]
  },
  {
   "cell_type": "markdown",
   "metadata": {},
   "source": [
    "### Exploration of Data"
   ]
  },
  {
   "cell_type": "code",
   "execution_count": 2,
   "metadata": {},
   "outputs": [],
   "source": [
    "df=pd.read_csv('data/heart.csv')"
   ]
  },
  {
   "cell_type": "code",
   "execution_count": 3,
   "metadata": {},
   "outputs": [
    {
     "data": {
      "text/plain": [
       "(303, 14)"
      ]
     },
     "execution_count": 3,
     "metadata": {},
     "output_type": "execute_result"
    }
   ],
   "source": [
    "df.shape"
   ]
  },
  {
   "cell_type": "code",
   "execution_count": 4,
   "metadata": {},
   "outputs": [
    {
     "data": {
      "text/html": [
       "<div>\n",
       "<style scoped>\n",
       "    .dataframe tbody tr th:only-of-type {\n",
       "        vertical-align: middle;\n",
       "    }\n",
       "\n",
       "    .dataframe tbody tr th {\n",
       "        vertical-align: top;\n",
       "    }\n",
       "\n",
       "    .dataframe thead th {\n",
       "        text-align: right;\n",
       "    }\n",
       "</style>\n",
       "<table border=\"1\" class=\"dataframe\">\n",
       "  <thead>\n",
       "    <tr style=\"text-align: right;\">\n",
       "      <th></th>\n",
       "      <th>age</th>\n",
       "      <th>sex</th>\n",
       "      <th>cp</th>\n",
       "      <th>trestbps</th>\n",
       "      <th>chol</th>\n",
       "      <th>fbs</th>\n",
       "      <th>restecg</th>\n",
       "      <th>thalach</th>\n",
       "      <th>exang</th>\n",
       "      <th>oldpeak</th>\n",
       "      <th>slope</th>\n",
       "      <th>ca</th>\n",
       "      <th>thal</th>\n",
       "      <th>target</th>\n",
       "    </tr>\n",
       "  </thead>\n",
       "  <tbody>\n",
       "    <tr>\n",
       "      <th>0</th>\n",
       "      <td>63</td>\n",
       "      <td>1</td>\n",
       "      <td>3</td>\n",
       "      <td>145</td>\n",
       "      <td>233</td>\n",
       "      <td>1</td>\n",
       "      <td>0</td>\n",
       "      <td>150</td>\n",
       "      <td>0</td>\n",
       "      <td>2.3</td>\n",
       "      <td>0</td>\n",
       "      <td>0</td>\n",
       "      <td>1</td>\n",
       "      <td>1</td>\n",
       "    </tr>\n",
       "    <tr>\n",
       "      <th>1</th>\n",
       "      <td>37</td>\n",
       "      <td>1</td>\n",
       "      <td>2</td>\n",
       "      <td>130</td>\n",
       "      <td>250</td>\n",
       "      <td>0</td>\n",
       "      <td>1</td>\n",
       "      <td>187</td>\n",
       "      <td>0</td>\n",
       "      <td>3.5</td>\n",
       "      <td>0</td>\n",
       "      <td>0</td>\n",
       "      <td>2</td>\n",
       "      <td>1</td>\n",
       "    </tr>\n",
       "    <tr>\n",
       "      <th>2</th>\n",
       "      <td>41</td>\n",
       "      <td>0</td>\n",
       "      <td>1</td>\n",
       "      <td>130</td>\n",
       "      <td>204</td>\n",
       "      <td>0</td>\n",
       "      <td>0</td>\n",
       "      <td>172</td>\n",
       "      <td>0</td>\n",
       "      <td>1.4</td>\n",
       "      <td>2</td>\n",
       "      <td>0</td>\n",
       "      <td>2</td>\n",
       "      <td>1</td>\n",
       "    </tr>\n",
       "    <tr>\n",
       "      <th>3</th>\n",
       "      <td>56</td>\n",
       "      <td>1</td>\n",
       "      <td>1</td>\n",
       "      <td>120</td>\n",
       "      <td>236</td>\n",
       "      <td>0</td>\n",
       "      <td>1</td>\n",
       "      <td>178</td>\n",
       "      <td>0</td>\n",
       "      <td>0.8</td>\n",
       "      <td>2</td>\n",
       "      <td>0</td>\n",
       "      <td>2</td>\n",
       "      <td>1</td>\n",
       "    </tr>\n",
       "    <tr>\n",
       "      <th>4</th>\n",
       "      <td>57</td>\n",
       "      <td>0</td>\n",
       "      <td>0</td>\n",
       "      <td>120</td>\n",
       "      <td>354</td>\n",
       "      <td>0</td>\n",
       "      <td>1</td>\n",
       "      <td>163</td>\n",
       "      <td>1</td>\n",
       "      <td>0.6</td>\n",
       "      <td>2</td>\n",
       "      <td>0</td>\n",
       "      <td>2</td>\n",
       "      <td>1</td>\n",
       "    </tr>\n",
       "  </tbody>\n",
       "</table>\n",
       "</div>"
      ],
      "text/plain": [
       "   age  sex  cp  trestbps  chol  fbs  restecg  thalach  exang  oldpeak  slope  \\\n",
       "0   63    1   3       145   233    1        0      150      0      2.3      0   \n",
       "1   37    1   2       130   250    0        1      187      0      3.5      0   \n",
       "2   41    0   1       130   204    0        0      172      0      1.4      2   \n",
       "3   56    1   1       120   236    0        1      178      0      0.8      2   \n",
       "4   57    0   0       120   354    0        1      163      1      0.6      2   \n",
       "\n",
       "   ca  thal  target  \n",
       "0   0     1       1  \n",
       "1   0     2       1  \n",
       "2   0     2       1  \n",
       "3   0     2       1  \n",
       "4   0     2       1  "
      ]
     },
     "execution_count": 4,
     "metadata": {},
     "output_type": "execute_result"
    }
   ],
   "source": [
    "df.head()"
   ]
  },
  {
   "cell_type": "code",
   "execution_count": 5,
   "metadata": {},
   "outputs": [],
   "source": [
    "num_feat=['age', 'trestbps', 'chol', 'thalach','oldpeak','target']\n",
    "cat_feat=['sex','fbs','exang','cp','restecg','slope','ca','thal','target']"
   ]
  },
  {
   "cell_type": "code",
   "execution_count": 6,
   "metadata": {},
   "outputs": [
    {
     "data": {
      "image/png": "[encoded data removed]",
      "text/plain": [
       "<Figure size 1440x576 with 10 Axes>"
      ]
     },
     "metadata": {
      "needs_background": "light"
     },
     "output_type": "display_data"
    }
   ],
   "source": [
    "f1, ax1 = plt.subplots(2, 5, figsize=(20, 8), sharex='col', sharey=False)\n",
    "\n",
    "f1=sns.distplot(df[(df.target==0)][num_feat[0]], kde_kws = {'label': 'healt'},bins = 8, ax=ax1[0,0])\n",
    "f1=sns.distplot(df[(df.target==1)][num_feat[0]], kde_kws = {'label': 'disease'},bins=8, ax=ax1[0,0])\n",
    "f1=sns.boxplot(x=num_feat[0], y='target', data=df,ax=ax1[1,0],orient='h',showfliers=False)\n",
    "f1=sns.boxplot(x=num_feat[0], y='target', data=df,ax=ax1[1,0],orient='h',showfliers=False)\n",
    "\n",
    "f1=sns.distplot(df[(df.target==0)][num_feat[1]], kde_kws = {'label': 'healt'},bins = 8, ax=ax1[0,1])\n",
    "f1=sns.distplot(df[(df.target==1)][num_feat[1]], kde_kws = {'label': 'disease'},bins=8, ax=ax1[0,1])\n",
    "f1=sns.boxplot(x=num_feat[1], y='target', data=df,ax=ax1[1,1],orient='h',showfliers=False)\n",
    "f1=sns.boxplot(x=num_feat[1], y='target', data=df,ax=ax1[1,1],orient='h',showfliers=False)\n",
    "\n",
    "f1=sns.distplot(df[(df.target==0)][num_feat[2]], kde_kws = {'label': 'healt'},bins = 8, ax=ax1[0,2])\n",
    "f1=sns.distplot(df[(df.target==1)][num_feat[2]], kde_kws = {'label': 'disease'},bins=8, ax=ax1[0,2])\n",
    "f1=sns.boxplot(x=num_feat[2], y='target', data=df,ax=ax1[1,2],orient='h',showfliers=False)\n",
    "f1=sns.boxplot(x=num_feat[2], y='target', data=df,ax=ax1[1,2],orient='h',showfliers=False)\n",
    "\n",
    "f1=sns.distplot(df[(df.target==0)][num_feat[3]], kde_kws = {'label': 'healt'},bins = 8, ax=ax1[0,3])\n",
    "f1=sns.distplot(df[(df.target==1)][num_feat[3]], kde_kws = {'label': 'disease'},bins=8, ax=ax1[0,3])\n",
    "f1=sns.boxplot(x=num_feat[3], y='target', data=df,ax=ax1[1,3],orient='h',showfliers=False)\n",
    "f1=sns.boxplot(x=num_feat[3], y='target', data=df,ax=ax1[1,3],orient='h',showfliers=False)\n",
    "\n",
    "f1=sns.distplot(df[(df.target==0)][num_feat[4]], kde_kws = {'label': 'healt'},bins = 8, ax=ax1[0,4])\n",
    "f1=sns.distplot(df[(df.target==1)][num_feat[4]], kde_kws = {'label': 'disease'},bins=8, ax=ax1[0,4])\n",
    "f1=sns.boxplot(x=num_feat[4], y='target', data=df,ax=ax1[1,4],orient='h',showfliers=False)\n",
    "f1=sns.boxplot(x=num_feat[4], y='target', data=df,ax=ax1[1,4],orient='h',showfliers=False)"
   ]
  },
  {
   "cell_type": "markdown",
   "metadata": {},
   "source": [
    "### Model Selection"
   ]
  },
  {
   "cell_type": "code",
   "execution_count": 8,
   "metadata": {},
   "outputs": [],
   "source": [
    "scaler = StandardScaler()"
   ]
  },
  {
   "cell_type": "code",
   "execution_count": 9,
   "metadata": {},
   "outputs": [],
   "source": [
    "X_train, X_test, y_train, y_test = train_test_split(\n",
    "    scaler.fit_transform(df.drop('target',axis=1)), df.target, shuffle=True, train_size=0.8, random_state=42)"
   ]
  },
  {
   "cell_type": "code",
   "execution_count": 10,
   "metadata": {},
   "outputs": [
    {
     "data": {
      "text/plain": [
       "<matplotlib.axes._subplots.AxesSubplot at 0x1a207c6940>"
      ]
     },
     "execution_count": 10,
     "metadata": {},
     "output_type": "execute_result"
    },
    {
     "data": {
      "image/png": "[encoded data removed]",
      "text/plain": [
       "<Figure size 432x288 with 2 Axes>"
      ]
     },
     "metadata": {
      "needs_background": "light"
     },
     "output_type": "display_data"
    }
   ],
   "source": [
    "model=KNeighborsClassifier()\n",
    "model.fit(X_train,y_train)\n",
    "\n",
    "sns.heatmap(confusion_matrix(y_test, model.predict(X_test)), annot=True)"
   ]
  },
  {
   "cell_type": "code",
   "execution_count": 11,
   "metadata": {},
   "outputs": [
    {
     "name": "stdout",
     "output_type": "stream",
     "text": [
      "The accuracy of the K-NN without feature selection is 0.9180327868852459\n"
     ]
    }
   ],
   "source": [
    "print('The accuracy of the K-NN without feature selection is',accuracy_score(y_test, model.predict(X_test)))"
   ]
  },
  {
   "cell_type": "code",
   "execution_count": 12,
   "metadata": {},
   "outputs": [
    {
     "data": {
      "text/plain": [
       "<bound method BaseEstimator.get_params of KNeighborsClassifier(algorithm='auto', leaf_size=30, metric='minkowski',\n",
       "           metric_params=None, n_jobs=None, n_neighbors=5, p=2,\n",
       "           weights='uniform')>"
      ]
     },
     "execution_count": 12,
     "metadata": {},
     "output_type": "execute_result"
    }
   ],
   "source": [
    "model.get_params"
   ]
  },
  {
   "cell_type": "code",
   "execution_count": 34,
   "metadata": {},
   "outputs": [
    {
     "data": {
      "text/plain": [
       "GridSearchCV(cv='warn', error_score='raise-deprecating',\n",
       "       estimator=KNeighborsClassifier(algorithm='auto', leaf_size=30, metric='minkowski',\n",
       "           metric_params=None, n_jobs=None, n_neighbors=5, p=2,\n",
       "           weights='uniform'),\n",
       "       fit_params=None, iid='warn', n_jobs=None,\n",
       "       param_grid={'n_neighbors': array([ 1,  2,  3,  4,  5,  6,  7,  8,  9, 10, 11, 12, 13, 14, 15, 16, 17,\n",
       "       18, 19, 20, 21, 22, 23, 24, 25, 26, 27, 28, 29]), 'weights': ['uniform', 'distance']},\n",
       "       pre_dispatch='2*n_jobs', refit=True, return_train_score='warn',\n",
       "       scoring=None, verbose=0)"
      ]
     },
     "execution_count": 34,
     "metadata": {},
     "output_type": "execute_result"
    }
   ],
   "source": [
    "params={'n_neighbors': np.arange(1,30,1), 'weights': ['uniform','distance']  }\n",
    "\n",
    "model=KNeighborsClassifier()\n",
    "clf=GridSearchCV(model, param_grid=params,refit=True)\n",
    "\n",
    "clf.fit(scaler.fit_transform(df.drop('target',axis=1)), df.target)"
   ]
  },
  {
   "cell_type": "code",
   "execution_count": 35,
   "metadata": {},
   "outputs": [
    {
     "data": {
      "text/plain": [
       "{'n_neighbors': 22, 'weights': 'uniform'}"
      ]
     },
     "execution_count": 35,
     "metadata": {},
     "output_type": "execute_result"
    }
   ],
   "source": [
    "clf.best_params_"
   ]
  },
  {
   "cell_type": "code",
   "execution_count": 36,
   "metadata": {},
   "outputs": [
    {
     "data": {
      "text/plain": [
       "0.834983498349835"
      ]
     },
     "execution_count": 36,
     "metadata": {},
     "output_type": "execute_result"
    }
   ],
   "source": [
    "clf.best_score_"
   ]
  },
  {
   "cell_type": "code",
   "execution_count": 37,
   "metadata": {},
   "outputs": [
    {
     "data": {
      "text/plain": [
       "KNeighborsClassifier(algorithm='auto', leaf_size=30, metric='minkowski',\n",
       "           metric_params=None, n_jobs=None, n_neighbors=22, p=2,\n",
       "           weights='uniform')"
      ]
     },
     "execution_count": 37,
     "metadata": {},
     "output_type": "execute_result"
    }
   ],
   "source": [
    "clf.best_estimator_"
   ]
  },
  {
   "cell_type": "markdown",
   "metadata": {},
   "source": [
    "### Model Assessment"
   ]
  },
  {
   "cell_type": "code",
   "execution_count": 40,
   "metadata": {},
   "outputs": [],
   "source": [
    "def accur(rep):\n",
    "    rkf= RepeatedKFold(n_splits=5, n_repeats=rep, random_state=True)\n",
    "    acc=[]\n",
    "    \n",
    "    for train_I, test_I in rkf.split(df):\n",
    "        X_fold_train = scaler.fit_transform(df.iloc[train_I, :].drop('target',axis=1))\n",
    "        y_fold_train = df['target'].values[train_I]\n",
    "        X_fold_test = scaler.fit_transform(df.iloc[test_I, :].drop('target',axis=1))\n",
    "        y_fold_test = df['target'].values[test_I]\n",
    "        model = clf.best_estimator_\n",
    "        model.fit(X_fold_train, y_fold_train)\n",
    "        acc.append(accuracy_score(y_fold_test, model.predict(X_fold_test)))\n",
    "    print('The estimation of the accuracy score over the test distributions is:', \"{:2.2f}%\".format(np.mean(acc)*100), '\\u00B1', np.std(acc))\n",
    "    print(\"The confidence interval is [{:2.1f}%, {:2.1f}%]\".format(*np.quantile(acc, q=[0.025, 0.975]) * 100))\n",
    "    \n",
    "    return acc"
   ]
  },
  {
   "cell_type": "code",
   "execution_count": 42,
   "metadata": {},
   "outputs": [
    {
     "name": "stdout",
     "output_type": "stream",
     "text": [
      "The estimation of the accuracy score over the test distributions is: 82.03% ± 0.04756914216783455\n",
      "The confidence interval is [72.1%, 90.2%]\n"
     ]
    },
    {
     "data": {
      "text/plain": [
       "<matplotlib.axes._subplots.AxesSubplot at 0x1a20df46d8>"
      ]
     },
     "execution_count": 42,
     "metadata": {},
     "output_type": "execute_result"
    },
    {
     "data": {
      "image/png": "[encoded data removed]",
      "text/plain": [
       "<Figure size 432x288 with 1 Axes>"
      ]
     },
     "metadata": {
      "needs_background": "light"
     },
     "output_type": "display_data"
    }
   ],
   "source": [
    "sns.distplot(accur(500),bins=30)"
   ]
  }
 ],
 "metadata": {
  "kernelspec": {
   "display_name": "Python 3",
   "language": "python",
   "name": "python3"
  },
  "language_info": {
   "codemirror_mode": {
    "name": "ipython",
    "version": 3
   },
   "file_extension": ".py",
   "mimetype": "text/x-python",
   "name": "python",
   "nbconvert_exporter": "python",
   "pygments_lexer": "ipython3",
   "version": "3.7.3"
  }
 },
 "nbformat": 4,
 "nbformat_minor": 2
}
