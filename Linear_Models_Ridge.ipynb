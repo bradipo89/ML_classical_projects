{
 "cells": [
  {
   "cell_type": "markdown",
   "metadata": {},
   "source": [
    "# Regression Linear Model II: Ridge "
   ]
  },
  {
   "cell_type": "markdown",
   "metadata": {},
   "source": [
    "In this notebook we study the second linear model for regression, i.e., the Ridge regression or Ridge regularization. We will follow closely the other notebooks where we study linear models and therefore we will start with the theoretical background giving the details of how it works in theory. Again, we will use the notation we already set in the introductionary file for Supervised Learning (Supervised_Learning.ipynb). This notebook is structured as follows\n",
    "\n",
    "- [Theoretical Analysis:](#s1)\n",
    "    - [Algorithm](#s1.1)\n",
    "    - [Geometrical Interpretation](#s1.2)\n",
    "    \n",
    "- [Implementation in `sklearn`](#s2)\n",
    "- [Mini-challenge](#s3)"
   ]
  },
  {
   "cell_type": "markdown",
   "metadata": {},
   "source": [
    "<a id='s1'></a>\n",
    "## Theoretical Analysis"
   ]
  },
  {
   "cell_type": "markdown",
   "metadata": {},
   "source": [
    "Ridge linear regression is a regularization method for OLS linear regression. There are basically two main reasons why we are often not satisfied with the OLS estimates: \n",
    "\n",
    "- The first is _prediction accuracy_: the least squares estimates often have low bias but large variance. Prediction accuracy can sometimes be improved by shrinking or setting some coefficients to zero. By doing so we sacrifice a little bit of bias to reduce the variance of the predicted values, and hence may improve the overall prediction accuracy\n",
    "\n",
    "- The second reason is _interpretation_. With a large number of predictors, we often would like to determine a smaller subset that exhibit the strongest effects. In order to get the “big picture,” we are willing to sacrifice some of the small details\n",
    "\n",
    "\n",
    "The regularization methods get into the game in general when our OLS model is too complex for modelising the real dataset. That it means, for example, that among all the features we have, some of them suffers from multi-collinearity. In general, in more mathematical terms, regularization method are used when $d>N$ that makes the matrix $X^TX$ not invertible.\n",
    "\n",
    "\n",
    "\n",
    "\n",
    "Similarly to the case of the OLS linear model we have to minimize a risk function such that our predicted model will be\n",
    "\n",
    "$\\quad$\n",
    "\n",
    "<center>\n",
    "\\begin{align}\n",
    "\\mathcal{R}(f)=E\\left[L(f(X),Y)\\right]=\\int L(f(X),Y)dP(X,Y)\n",
    "\\end{align}\n",
    "</center>\n",
    "\n",
    "where $L(f(X),Y)$ is the  loss function and $P(X,Y)$ is the joint probability distribution.  The ultimate goal of a learning algorithm is to find a function $\\hat{f}$ for which the risk $\\mathcal{R}(\\hat{f})$ is minimal, among the fixed class of function $\\mathcal{H}$:\n",
    "\n",
    "$\\quad$\n",
    "\n",
    "<center>\n",
    "\\begin{align}\n",
    "\\hat{f}=\\arg\\min_{f\\in\\mathcal{H}} \\mathcal{R}(f)\n",
    "\\end{align}\n",
    "</center>\n",
    "\n",
    "Since the statistician cannot compute the expectation (and thus the risk) because he does not know the distribution $P(x,y)$, it's common to replace the risk with an estimatore of the risk, called the empirical risk:\n",
    "\n",
    "$\\quad$\n",
    "\n",
    "<center>\n",
    "\\begin{align}\n",
    "\\hat{\\mathcal{R}}(f)=\\frac{1}{N}\\sum_{i=1}^NL(f(x_i),y_i)\n",
    "\\end{align}\n",
    "</center>\n",
    "\n",
    "where $x_i$ is the row vector if the $i$-th observation and $y_i$ the output variable of the associated input row. We seek for a function:\n",
    "\n",
    "$\\quad$\n",
    "\n",
    "<center>\n",
    "\\begin{align}\n",
    "\\hat{f}=\\arg\\min_{f\\in\\mathcal{H}} \\hat{\\mathcal{R}}(f)\n",
    "\\end{align}\n",
    "</center>"
   ]
  },
  {
   "cell_type": "markdown",
   "metadata": {},
   "source": [
    "<a id='s1.1'></a>\n",
    "### Algorithm"
   ]
  },
  {
   "cell_type": "markdown",
   "metadata": {},
   "source": [
    "The algorithm of Ridge linear regression work by modifying the risk function bby adding penalty terms which play the role of a Lagrangian multiplier and turning the problem of minimizing the undeformed risk function to the problem of  minimize a functional subject to a constraint. With this criterion the coefficient of the linear model are not treated on same level but some of them are shrinked near to zero. \n",
    "\n",
    "The linear function describing the dataset is still linear\n",
    "\n",
    "\\begin{align}\n",
    "f(x_i)=\\theta_0+\\sum_{j=0}^px_{ij}\\theta_j=\\theta\\cdot X=f(X)\n",
    "\\end{align}\n",
    "\n",
    "where we show either the component and the compact for of the expression. The OLS risk function is modify as\n",
    "\n",
    "\\begin{align}\n",
    "\\hat{\\mathcal{R}}(\\theta)=\\sum_{i=1}^N(y_i-\\theta_0-\\sum_{j=1}^px_{ij}\\theta_j)^2+\\lambda\\sum_{j=0}^p\\theta_j^2=||Y-f(X)||^2 +\\lambda\\,\\theta^T\\theta=||Y-f(X)||^2 +\\lambda||\\theta||^2\n",
    "\\end{align}\n",
    "\n",
    "Therefore the predicted model will give the following coefficient\n",
    "\n",
    "\\begin{align}\n",
    "\\hat{\\theta}=\\arg\\min_{\\theta}\\left\\{||Y-f(X)||^2 +\\lambda||\\theta||^2\\right\\}\n",
    "\\end{align}\n",
    "\n",
    "Or, in an equivalent way we can write the ridge problem as the minimizing constraint problem\n",
    "\n",
    "\\begin{align}\n",
    "\\hat{\\theta}&=\\arg\\min_{\\theta}\\left\\{||Y-f(X)||^2\\right\\}\\\\\n",
    "\\theta^T&\\theta\\le t(\\lambda)\n",
    "\\end{align}\n",
    "\n",
    "where $t(\\lambda)$ is a paramters in one-to-one correpondence with $\\lambda>0$, which is the complexity parameter that controls the amount of shrinking: the larger the value of $\\lambda$, the greater the amount of shrinkage.\n",
    "\n",
    "When there are many correlated variables in a linear regression model, their coefficients can become poorly determined and exhibit high variance. A wildly large positive coefficient on one variable can be canceled by a similarly large negative coefficient on its correlated cousin. By imposing a size constraint on the coefficients this problem is alleviated.\n",
    "\n",
    "The solution to the constraint problem is still analytic as in the OLS model, and it reads\n",
    "\n",
    "\\begin{align}\n",
    "\\hat{\\theta}=\\left(X^TX+\\lambda I\\right)^{-1}X^Ty\n",
    "\\end{align}\n",
    "\n",
    "where $I$ is a $p\\times p$ identity matrix. The solution adds a positive constant to the diagonal of XT X before inversion. This makes the problem nonsingular, even if $X^TX$ is not of full rank, and was the main motivation for ridge regression when it was first introduced in statistics. The below picture explains how Ridge regression acts"
   ]
  },
  {
   "cell_type": "markdown",
   "metadata": {},
   "source": [
    "<div>\n",
    "<img width=400 src='images/ridge.png' /> \n",
    "</div>"
   ]
  },
  {
   "cell_type": "markdown",
   "metadata": {},
   "source": [
    "The picture simply shows the what a constraint minimizing problem works: the minimial of entire deformed function is where the level curves of the two functions are tangent each other, or, equivalently, the two gradient vectors are parallel each other. The meaning and amount of shrinkage will be more clear after the next section."
   ]
  },
  {
   "cell_type": "markdown",
   "metadata": {},
   "source": [
    "<a id='s1.2'></a>\n",
    "### Geometrical Interpretation"
   ]
  },
  {
   "cell_type": "markdown",
   "metadata": {},
   "source": [
    "In order to understand the geometrical intepretation of the Ridge regularization we should recall the _singular value decomposition_ (SVD) of the input matrix $X$. The SVD of the $N\\times p$ matrix $X$ has the form:\n",
    "\n",
    "\\begin{align}\n",
    "X=UDV^T\n",
    "\\end{align}\n",
    "\n",
    "where U and V are $N\\times p$ and $p\\times p$ orthogonal matrices, with the columns of $U$ spanning the column space of $X$, and the columns of $V$ spanning the row space. $D$ is a $p\\times p$ diagonal matrix, with diagonal entries $d_1\\ge d_2\\ge\\cdots\\ge d_p\\ge 0$ called the singular values of $X$. If one or more values $d_j=0$, $X$ is singular.\n",
    "\n",
    "For example, using the SVD we can write the OLS fitted vector, after some manipulation, as\n",
    "\n",
    "\\begin{align}\n",
    "X\\hat{\\theta}=UU^Ty\n",
    "\\end{align}\n",
    "\n",
    "Note that $U^Ty$ are the coordinates of $y$ with respect to the orthonormal basis $U$. The above expression simply tells us that the predicted $\\hat{y}$ is the expansion of the training $y$ on the basis $U$ spanning the column space of $X$. \n",
    "\n",
    "In the Ridge solution we have (usign the solution we found in the previous section)\n",
    "\n",
    "\\begin{align}\n",
    "X\\hat{\\theta}=\\sum_{j=1}^pu_j\\frac{d_j^2}{d_j^2+\\lambda}u_j^Ty\n",
    "\\end{align}\n",
    "\n",
    "where $u_j$ are the columns of $U$. We can notice that in this case we have a similar intepretation of projection and expansion with respect to the orthornormal basis $U$. But here, each direction is weighted and shrinked bt the factor $\\frac{d_j^2}{d_j^2+\\lambda}\\le 1$. This means that, first of all, the greater is $\\lambda$ the greater will be the shrinkage, and second, that the amount of shrinkage will be higher for the coorindates of baisis vectors with smaller $d_j^2$.\n",
    "\n",
    "So, the question now is, what does it means and where does it come from a small value of $d_j$ ? The SVD of $X$ is another way of expressing the _principal component analysis_ (PCA) of the variables in $X$. The eigen decomposition of $X^TX$ reads\n",
    "\n",
    "\n",
    "\\begin{align}\n",
    "X^TX=VD^2V^T\n",
    "\\end{align}\n",
    "\n",
    "The columns of $V$ are the eigenvectors $v_j$ and are also called principal component directions of $X$. The first principal component direction $v_a$ has the property that $z_1=Xv_1$ has the largest sample variance among all the normalized linear combinations of the columns of $X$. This sample variance is\n",
    "\n",
    "\\begin{align}\n",
    "\\text{Var}(z_1)=\\frac{d_1^2}{N}\n",
    "\\end{align}\n",
    "\n",
    "and in fact $z_1=Xv_1=u_1d_1$. The derived variable $z_1$ is called the first principal component of $X$, and hence $u_1$ is the normalized first principal components. Hence the small singular values $d_j$ correspond to directions in the column space of $X$ having small variance, and ridge regression shrinks these directions the most. The implicit assumption is that the response will tend to vary most in the directions of high variance of the inputs. This is often a reasonable assumption, since predictors are often chosen for study because they vary with the response variable, but need not hold in general.\n",
    "\n",
    "The below picture shows the PCA for two-feature dataset"
   ]
  },
  {
   "cell_type": "markdown",
   "metadata": {},
   "source": [
    "<div>\n",
    "<img width=400 src='images/ridge2.png' /> \n",
    "</div>"
   ]
  },
  {
   "cell_type": "markdown",
   "metadata": {},
   "source": [
    "<a id='s2'></a>\n",
    "## Implementation in `sklearn`"
   ]
  },
  {
   "cell_type": "markdown",
   "metadata": {},
   "source": [
    "The class `Ridge` of the module `sklearn.linear_model` is:\n",
    "\n",
    "`sklearn.linear_model.Ridge(alpha=1.0, fit_intercept=True, normalize=False, copy_X=True, max_iter=None, tol=0.001, solver='auto', random_state=None)`\n",
    "\n",
    "Since it's a class is composed by __parameters__, __attributes__ and __method__. We list here them with a biref explanation"
   ]
  },
  {
   "cell_type": "markdown",
   "metadata": {},
   "source": [
    "### Parameters"
   ]
  },
  {
   "cell_type": "markdown",
   "metadata": {},
   "source": [
    "- `alpha`: {float, ndarray of shape (n_targets,)}, default=1.0\n",
    " \n",
    "    Regularization strength; must be a positive float. Regularization improves the conditioning of the problem and reduces the variance of the estimates."
   ]
  },
  {
   "cell_type": "markdown",
   "metadata": {},
   "source": [
    "- `fit_intercept`: bool, optional, default True\n",
    "\n",
    "    Whether to calculate the intercept for this model. If set to False, no intercept will be used in calculations  \n",
    "    "
   ]
  },
  {
   "cell_type": "markdown",
   "metadata": {},
   "source": [
    "- `normalize`: bool, optional, default False\n",
    "    \n",
    "    This parameter is ignored when `fit_intercept` is set to False. If True, the regressors $X$ will be normalized before regression by subtracting the mean and dividing by the norm."
   ]
  },
  {
   "cell_type": "markdown",
   "metadata": {},
   "source": [
    "- `copy_X`: bool, optional, default True\n",
    "    \n",
    "    If True, $X$ will be copied; else, it may be overwritten."
   ]
  },
  {
   "cell_type": "markdown",
   "metadata": {},
   "source": [
    "- `max_iterint`: int, default=None\n",
    "    \n",
    "    Maximum number of iterations for conjugate gradient solver. For ‘sparse_cg’ and ‘lsqr’ solvers, the default value is determined by scipy.sparse.linalg. For ‘sag’ solver, the default value is 1000."
   ]
  },
  {
   "cell_type": "markdown",
   "metadata": {},
   "source": [
    "- `tolfloat`: default=1e-3\n",
    "    Precision of the solution."
   ]
  },
  {
   "cell_type": "markdown",
   "metadata": {},
   "source": [
    "- `solver` : {‘auto’, ‘svd’, ‘cholesky’, ‘lsqr’, ‘sparse_cg’, ‘sag’, ‘saga’}, default=’auto’\n",
    "\n",
    "   Solver to use in the computational routines(see skleanr page for more details)"
   ]
  },
  {
   "cell_type": "markdown",
   "metadata": {},
   "source": [
    "### Attributes"
   ]
  },
  {
   "cell_type": "markdown",
   "metadata": {},
   "source": [
    "- `coef_`: ndarray of shape (n_features,) or (n_targets, n_features)\n",
    "\n",
    "    Weight vector(s)."
   ]
  },
  {
   "cell_type": "markdown",
   "metadata": {},
   "source": [
    "- `intercept_`: float or array of shape of (n_targets,)\n",
    "\n",
    "    Independent term in the linear model. Set to 0.0 if `fit_intercept` = False."
   ]
  },
  {
   "cell_type": "markdown",
   "metadata": {},
   "source": [
    "- `n_iter_`: None or ndarray of shape (n_targets,)\n",
    "    \n",
    "    Actual number of iterations for each target. Available only for sag and lsqr solvers. Other solvers will return None."
   ]
  },
  {
   "cell_type": "markdown",
   "metadata": {},
   "source": [
    "### Methods"
   ]
  },
  {
   "cell_type": "markdown",
   "metadata": {},
   "source": [
    "- `fit(self, X, y[, sample_weight])`: \tFit linear model"
   ]
  },
  {
   "cell_type": "markdown",
   "metadata": {},
   "source": [
    "- `get_params(self[, deep])`: Get parameters for this estimator"
   ]
  },
  {
   "cell_type": "markdown",
   "metadata": {},
   "source": [
    "- `predict(self, X)`: Predict using the linear model"
   ]
  },
  {
   "cell_type": "markdown",
   "metadata": {},
   "source": [
    "- `score(self, X, y[, sample_weight])`: Return the coefficient of determination $R^2$ of the prediction"
   ]
  },
  {
   "cell_type": "markdown",
   "metadata": {},
   "source": [
    "- `set_params(self, \\*\\*params)`: Set the parameters of this estimator"
   ]
  },
  {
   "cell_type": "markdown",
   "metadata": {},
   "source": [
    "<a id='s3'></a>\n",
    "## Mini-challenge"
   ]
  },
  {
   "cell_type": "markdown",
   "metadata": {},
   "source": [
    "We study here a very simple case of study in a standard data science problem. It will be a very simplify version useful to show how `LinearRegression` work in a real world. With simplify version we mean we will use a common dataframe, aleady clean and adapt to a linear model. In any case we will give a structure of a real challenge even if every section will be extremely reduced in size. We will use the dataset containing the house price in Boston, already contained in `slearn`. We will have:\n",
    "\n",
    "- __Inizialization__\n",
    "- __Exploration of Data__\n",
    "- __Modelization__\n",
    "\n",
    "    - Optimisation\n",
    "    - Stability\n",
    "    - Interpretability"
   ]
  },
  {
   "cell_type": "markdown",
   "metadata": {},
   "source": [
    "### Inizialization"
   ]
  },
  {
   "cell_type": "code",
   "execution_count": 1,
   "metadata": {},
   "outputs": [],
   "source": [
    "import numpy as np\n",
    "import pandas as pd\n",
    "import matplotlib.pyplot as plt\n",
    "import matplotlib.ticker as ticker\n",
    "import seaborn as sns\n",
    "\n",
    "from sklearn.datasets import load_boston\n",
    "from sklearn import preprocessing\n",
    "from sklearn.model_selection import train_test_split, RepeatedKFold\n",
    "from sklearn.metrics import r2_score, mean_squared_error\n",
    "from sklearn.linear_model import Ridge\n",
    "\n",
    "from pdpbox import pdp, info_plots\n",
    "from sklearn.utils.random import sample_without_replacement"
   ]
  },
  {
   "cell_type": "markdown",
   "metadata": {},
   "source": [
    "### Exploration of Data"
   ]
  },
  {
   "cell_type": "code",
   "execution_count": 2,
   "metadata": {},
   "outputs": [
    {
     "data": {
      "text/html": [
       "<div>\n",
       "<style scoped>\n",
       "    .dataframe tbody tr th:only-of-type {\n",
       "        vertical-align: middle;\n",
       "    }\n",
       "\n",
       "    .dataframe tbody tr th {\n",
       "        vertical-align: top;\n",
       "    }\n",
       "\n",
       "    .dataframe thead th {\n",
       "        text-align: right;\n",
       "    }\n",
       "</style>\n",
       "<table border=\"1\" class=\"dataframe\">\n",
       "  <thead>\n",
       "    <tr style=\"text-align: right;\">\n",
       "      <th></th>\n",
       "      <th>CRIM</th>\n",
       "      <th>ZN</th>\n",
       "      <th>INDUS</th>\n",
       "      <th>CHAS</th>\n",
       "      <th>NOX</th>\n",
       "      <th>RM</th>\n",
       "      <th>AGE</th>\n",
       "      <th>DIS</th>\n",
       "      <th>RAD</th>\n",
       "      <th>TAX</th>\n",
       "      <th>PTRATIO</th>\n",
       "      <th>B</th>\n",
       "      <th>LSTAT</th>\n",
       "      <th>PRICE</th>\n",
       "    </tr>\n",
       "  </thead>\n",
       "  <tbody>\n",
       "    <tr>\n",
       "      <th>0</th>\n",
       "      <td>-0.419782</td>\n",
       "      <td>0.284830</td>\n",
       "      <td>-1.287909</td>\n",
       "      <td>-0.272599</td>\n",
       "      <td>-0.144217</td>\n",
       "      <td>0.413672</td>\n",
       "      <td>-0.120013</td>\n",
       "      <td>0.140214</td>\n",
       "      <td>-0.982843</td>\n",
       "      <td>-0.666608</td>\n",
       "      <td>-1.459000</td>\n",
       "      <td>0.441052</td>\n",
       "      <td>-1.075562</td>\n",
       "      <td>24.0</td>\n",
       "    </tr>\n",
       "    <tr>\n",
       "      <th>1</th>\n",
       "      <td>-0.417339</td>\n",
       "      <td>-0.487722</td>\n",
       "      <td>-0.593381</td>\n",
       "      <td>-0.272599</td>\n",
       "      <td>-0.740262</td>\n",
       "      <td>0.194274</td>\n",
       "      <td>0.367166</td>\n",
       "      <td>0.557160</td>\n",
       "      <td>-0.867883</td>\n",
       "      <td>-0.987329</td>\n",
       "      <td>-0.303094</td>\n",
       "      <td>0.441052</td>\n",
       "      <td>-0.492439</td>\n",
       "      <td>21.6</td>\n",
       "    </tr>\n",
       "    <tr>\n",
       "      <th>2</th>\n",
       "      <td>-0.417342</td>\n",
       "      <td>-0.487722</td>\n",
       "      <td>-0.593381</td>\n",
       "      <td>-0.272599</td>\n",
       "      <td>-0.740262</td>\n",
       "      <td>1.282714</td>\n",
       "      <td>-0.265812</td>\n",
       "      <td>0.557160</td>\n",
       "      <td>-0.867883</td>\n",
       "      <td>-0.987329</td>\n",
       "      <td>-0.303094</td>\n",
       "      <td>0.396427</td>\n",
       "      <td>-1.208727</td>\n",
       "      <td>34.7</td>\n",
       "    </tr>\n",
       "    <tr>\n",
       "      <th>3</th>\n",
       "      <td>-0.416750</td>\n",
       "      <td>-0.487722</td>\n",
       "      <td>-1.306878</td>\n",
       "      <td>-0.272599</td>\n",
       "      <td>-0.835284</td>\n",
       "      <td>1.016303</td>\n",
       "      <td>-0.809889</td>\n",
       "      <td>1.077737</td>\n",
       "      <td>-0.752922</td>\n",
       "      <td>-1.106115</td>\n",
       "      <td>0.113032</td>\n",
       "      <td>0.416163</td>\n",
       "      <td>-1.361517</td>\n",
       "      <td>33.4</td>\n",
       "    </tr>\n",
       "    <tr>\n",
       "      <th>4</th>\n",
       "      <td>-0.412482</td>\n",
       "      <td>-0.487722</td>\n",
       "      <td>-1.306878</td>\n",
       "      <td>-0.272599</td>\n",
       "      <td>-0.835284</td>\n",
       "      <td>1.228577</td>\n",
       "      <td>-0.511180</td>\n",
       "      <td>1.077737</td>\n",
       "      <td>-0.752922</td>\n",
       "      <td>-1.106115</td>\n",
       "      <td>0.113032</td>\n",
       "      <td>0.441052</td>\n",
       "      <td>-1.026501</td>\n",
       "      <td>36.2</td>\n",
       "    </tr>\n",
       "  </tbody>\n",
       "</table>\n",
       "</div>"
      ],
      "text/plain": [
       "       CRIM        ZN     INDUS      CHAS       NOX        RM       AGE  \\\n",
       "0 -0.419782  0.284830 -1.287909 -0.272599 -0.144217  0.413672 -0.120013   \n",
       "1 -0.417339 -0.487722 -0.593381 -0.272599 -0.740262  0.194274  0.367166   \n",
       "2 -0.417342 -0.487722 -0.593381 -0.272599 -0.740262  1.282714 -0.265812   \n",
       "3 -0.416750 -0.487722 -1.306878 -0.272599 -0.835284  1.016303 -0.809889   \n",
       "4 -0.412482 -0.487722 -1.306878 -0.272599 -0.835284  1.228577 -0.511180   \n",
       "\n",
       "        DIS       RAD       TAX   PTRATIO         B     LSTAT  PRICE  \n",
       "0  0.140214 -0.982843 -0.666608 -1.459000  0.441052 -1.075562   24.0  \n",
       "1  0.557160 -0.867883 -0.987329 -0.303094  0.441052 -0.492439   21.6  \n",
       "2  0.557160 -0.867883 -0.987329 -0.303094  0.396427 -1.208727   34.7  \n",
       "3  1.077737 -0.752922 -1.106115  0.113032  0.416163 -1.361517   33.4  \n",
       "4  1.077737 -0.752922 -1.106115  0.113032  0.441052 -1.026501   36.2  "
      ]
     },
     "execution_count": 2,
     "metadata": {},
     "output_type": "execute_result"
    }
   ],
   "source": [
    "house_price = load_boston()\n",
    "house_price.data = preprocessing.scale(house_price.data)\n",
    "df = pd.DataFrame(house_price.data, columns=house_price.feature_names)\n",
    "df['PRICE'] = house_price.target\n",
    "df.head()"
   ]
  },
  {
   "cell_type": "code",
   "execution_count": 3,
   "metadata": {},
   "outputs": [
    {
     "data": {
      "text/plain": [
       "(506, 14)"
      ]
     },
     "execution_count": 3,
     "metadata": {},
     "output_type": "execute_result"
    }
   ],
   "source": [
    "df.shape"
   ]
  },
  {
   "cell_type": "markdown",
   "metadata": {},
   "source": [
    "### Modelization"
   ]
  },
  {
   "cell_type": "code",
   "execution_count": 4,
   "metadata": {},
   "outputs": [],
   "source": [
    "X_train, X_test, y_train, y_test = train_test_split(\n",
    "    df.drop('PRICE',axis=1), df.PRICE, test_size=0.3, random_state=10)"
   ]
  },
  {
   "cell_type": "code",
   "execution_count": 10,
   "metadata": {},
   "outputs": [
    {
     "data": {
      "image/png": "[encoded data removed]",
      "text/plain": [
       "<Figure size 720x360 with 1 Axes>"
      ]
     },
     "metadata": {
      "needs_background": "light"
     },
     "output_type": "display_data"
    }
   ],
   "source": [
    "ridge_df = pd.DataFrame({'variable': house_price.feature_names, 'estimate': 0})\n",
    "ridge_train_pred = []\n",
    "ridge_test_pred = []\n",
    "\n",
    "alphas = np.arange(0, 200, 1)\n",
    "ridge_reg = Ridge(alpha=0)\n",
    "\n",
    "for alpha in alphas:\n",
    "    ridge_reg = Ridge(alpha=alpha)\n",
    "    ridge_reg.fit(X_train, y_train)\n",
    "    ridge_df[str(alpha)] = ridge_reg.coef_\n",
    "    \n",
    "    ridge_train_pred.append(ridge_reg.predict(X_train))\n",
    "    ridge_test_pred.append(ridge_reg.predict(X_test))\n",
    "    \n",
    "ridge_df = ridge_df.set_index('variable').T.rename_axis('estimate').rename_axis(None).reset_index()\n",
    "\n",
    "fig, ax = plt.subplots(figsize=(10, 5))\n",
    "ax.plot(ridge_df.RM, 'r', ridge_df.ZN, 'g', ridge_df.RAD, 'b', ridge_df.CRIM, 'c', ridge_df.TAX, 'y')\n",
    "ax.axhline(y=0, color='black', linestyle='--')\n",
    "ax.set_xlabel(\"Lambda\")\n",
    "ax.set_ylabel(\"Beta Estimate\")\n",
    "ax.set_title(\"Ridge Regression Trace\", fontsize=16)\n",
    "ax.legend(labels=['Room','Residential Zone','Highway Access','Crime Rate','Tax'])\n",
    "ax.grid(True)"
   ]
  },
  {
   "cell_type": "code",
   "execution_count": 11,
   "metadata": {},
   "outputs": [
    {
     "data": {
      "text/html": [
       "<div>\n",
       "<style scoped>\n",
       "    .dataframe tbody tr th:only-of-type {\n",
       "        vertical-align: middle;\n",
       "    }\n",
       "\n",
       "    .dataframe tbody tr th {\n",
       "        vertical-align: top;\n",
       "    }\n",
       "\n",
       "    .dataframe thead th {\n",
       "        text-align: right;\n",
       "    }\n",
       "</style>\n",
       "<table border=\"1\" class=\"dataframe\">\n",
       "  <thead>\n",
       "    <tr style=\"text-align: right;\">\n",
       "      <th></th>\n",
       "      <th>a=0</th>\n",
       "      <th>a=1</th>\n",
       "      <th>a=2</th>\n",
       "      <th>a=3</th>\n",
       "      <th>a=4</th>\n",
       "      <th>a=5</th>\n",
       "      <th>a=6</th>\n",
       "      <th>a=7</th>\n",
       "      <th>a=8</th>\n",
       "      <th>a=9</th>\n",
       "      <th>...</th>\n",
       "      <th>a=190</th>\n",
       "      <th>a=191</th>\n",
       "      <th>a=192</th>\n",
       "      <th>a=193</th>\n",
       "      <th>a=194</th>\n",
       "      <th>a=195</th>\n",
       "      <th>a=196</th>\n",
       "      <th>a=197</th>\n",
       "      <th>a=198</th>\n",
       "      <th>a=199</th>\n",
       "    </tr>\n",
       "    <tr>\n",
       "      <th>variable</th>\n",
       "      <th></th>\n",
       "      <th></th>\n",
       "      <th></th>\n",
       "      <th></th>\n",
       "      <th></th>\n",
       "      <th></th>\n",
       "      <th></th>\n",
       "      <th></th>\n",
       "      <th></th>\n",
       "      <th></th>\n",
       "      <th></th>\n",
       "      <th></th>\n",
       "      <th></th>\n",
       "      <th></th>\n",
       "      <th></th>\n",
       "      <th></th>\n",
       "      <th></th>\n",
       "      <th></th>\n",
       "      <th></th>\n",
       "      <th></th>\n",
       "      <th></th>\n",
       "    </tr>\n",
       "  </thead>\n",
       "  <tbody>\n",
       "    <tr>\n",
       "      <th>CRIM</th>\n",
       "      <td>-1.321404</td>\n",
       "      <td>-1.305844</td>\n",
       "      <td>-1.291053</td>\n",
       "      <td>-1.276962</td>\n",
       "      <td>-1.263510</td>\n",
       "      <td>-1.250644</td>\n",
       "      <td>-1.238319</td>\n",
       "      <td>-1.226492</td>\n",
       "      <td>-1.215128</td>\n",
       "      <td>-1.204193</td>\n",
       "      <td>...</td>\n",
       "      <td>-0.665867</td>\n",
       "      <td>-0.664838</td>\n",
       "      <td>-0.663815</td>\n",
       "      <td>-0.662798</td>\n",
       "      <td>-0.661788</td>\n",
       "      <td>-0.660784</td>\n",
       "      <td>-0.659786</td>\n",
       "      <td>-0.658794</td>\n",
       "      <td>-0.657808</td>\n",
       "      <td>-0.656827</td>\n",
       "    </tr>\n",
       "    <tr>\n",
       "      <th>ZN</th>\n",
       "      <td>1.514832</td>\n",
       "      <td>1.491704</td>\n",
       "      <td>1.469716</td>\n",
       "      <td>1.448771</td>\n",
       "      <td>1.428787</td>\n",
       "      <td>1.409690</td>\n",
       "      <td>1.391415</td>\n",
       "      <td>1.373903</td>\n",
       "      <td>1.357102</td>\n",
       "      <td>1.340964</td>\n",
       "      <td>...</td>\n",
       "      <td>0.681550</td>\n",
       "      <td>0.680663</td>\n",
       "      <td>0.679784</td>\n",
       "      <td>0.678911</td>\n",
       "      <td>0.678045</td>\n",
       "      <td>0.677185</td>\n",
       "      <td>0.676331</td>\n",
       "      <td>0.675484</td>\n",
       "      <td>0.674643</td>\n",
       "      <td>0.673807</td>\n",
       "    </tr>\n",
       "    <tr>\n",
       "      <th>INDUS</th>\n",
       "      <td>-0.166266</td>\n",
       "      <td>-0.186300</td>\n",
       "      <td>-0.204508</td>\n",
       "      <td>-0.221104</td>\n",
       "      <td>-0.236274</td>\n",
       "      <td>-0.250176</td>\n",
       "      <td>-0.262950</td>\n",
       "      <td>-0.274713</td>\n",
       "      <td>-0.285569</td>\n",
       "      <td>-0.295611</td>\n",
       "      <td>...</td>\n",
       "      <td>-0.503816</td>\n",
       "      <td>-0.503970</td>\n",
       "      <td>-0.504122</td>\n",
       "      <td>-0.504272</td>\n",
       "      <td>-0.504421</td>\n",
       "      <td>-0.504568</td>\n",
       "      <td>-0.504713</td>\n",
       "      <td>-0.504856</td>\n",
       "      <td>-0.504998</td>\n",
       "      <td>-0.505138</td>\n",
       "    </tr>\n",
       "    <tr>\n",
       "      <th>CHAS</th>\n",
       "      <td>0.411579</td>\n",
       "      <td>0.416554</td>\n",
       "      <td>0.421192</td>\n",
       "      <td>0.425531</td>\n",
       "      <td>0.429600</td>\n",
       "      <td>0.433425</td>\n",
       "      <td>0.437030</td>\n",
       "      <td>0.440435</td>\n",
       "      <td>0.443656</td>\n",
       "      <td>0.446710</td>\n",
       "      <td>...</td>\n",
       "      <td>0.501595</td>\n",
       "      <td>0.501269</td>\n",
       "      <td>0.500942</td>\n",
       "      <td>0.500613</td>\n",
       "      <td>0.500283</td>\n",
       "      <td>0.499952</td>\n",
       "      <td>0.499619</td>\n",
       "      <td>0.499284</td>\n",
       "      <td>0.498948</td>\n",
       "      <td>0.498611</td>\n",
       "    </tr>\n",
       "    <tr>\n",
       "      <th>NOX</th>\n",
       "      <td>-1.771168</td>\n",
       "      <td>-1.734866</td>\n",
       "      <td>-1.700188</td>\n",
       "      <td>-1.667018</td>\n",
       "      <td>-1.635252</td>\n",
       "      <td>-1.604797</td>\n",
       "      <td>-1.575571</td>\n",
       "      <td>-1.547495</td>\n",
       "      <td>-1.520502</td>\n",
       "      <td>-1.494528</td>\n",
       "      <td>...</td>\n",
       "      <td>-0.503283</td>\n",
       "      <td>-0.502376</td>\n",
       "      <td>-0.501479</td>\n",
       "      <td>-0.500592</td>\n",
       "      <td>-0.499715</td>\n",
       "      <td>-0.498848</td>\n",
       "      <td>-0.497990</td>\n",
       "      <td>-0.497142</td>\n",
       "      <td>-0.496303</td>\n",
       "      <td>-0.495473</td>\n",
       "    </tr>\n",
       "  </tbody>\n",
       "</table>\n",
       "<p>5 rows × 200 columns</p>\n",
       "</div>"
      ],
      "text/plain": [
       "               a=0       a=1       a=2       a=3       a=4       a=5  \\\n",
       "variable                                                               \n",
       "CRIM     -1.321404 -1.305844 -1.291053 -1.276962 -1.263510 -1.250644   \n",
       "ZN        1.514832  1.491704  1.469716  1.448771  1.428787  1.409690   \n",
       "INDUS    -0.166266 -0.186300 -0.204508 -0.221104 -0.236274 -0.250176   \n",
       "CHAS      0.411579  0.416554  0.421192  0.425531  0.429600  0.433425   \n",
       "NOX      -1.771168 -1.734866 -1.700188 -1.667018 -1.635252 -1.604797   \n",
       "\n",
       "               a=6       a=7       a=8       a=9  ...     a=190     a=191  \\\n",
       "variable                                          ...                       \n",
       "CRIM     -1.238319 -1.226492 -1.215128 -1.204193  ... -0.665867 -0.664838   \n",
       "ZN        1.391415  1.373903  1.357102  1.340964  ...  0.681550  0.680663   \n",
       "INDUS    -0.262950 -0.274713 -0.285569 -0.295611  ... -0.503816 -0.503970   \n",
       "CHAS      0.437030  0.440435  0.443656  0.446710  ...  0.501595  0.501269   \n",
       "NOX      -1.575571 -1.547495 -1.520502 -1.494528  ... -0.503283 -0.502376   \n",
       "\n",
       "             a=192     a=193     a=194     a=195     a=196     a=197  \\\n",
       "variable                                                               \n",
       "CRIM     -0.663815 -0.662798 -0.661788 -0.660784 -0.659786 -0.658794   \n",
       "ZN        0.679784  0.678911  0.678045  0.677185  0.676331  0.675484   \n",
       "INDUS    -0.504122 -0.504272 -0.504421 -0.504568 -0.504713 -0.504856   \n",
       "CHAS      0.500942  0.500613  0.500283  0.499952  0.499619  0.499284   \n",
       "NOX      -0.501479 -0.500592 -0.499715 -0.498848 -0.497990 -0.497142   \n",
       "\n",
       "             a=198     a=199  \n",
       "variable                      \n",
       "CRIM     -0.657808 -0.656827  \n",
       "ZN        0.674643  0.673807  \n",
       "INDUS    -0.504998 -0.505138  \n",
       "CHAS      0.498948  0.498611  \n",
       "NOX      -0.496303 -0.495473  \n",
       "\n",
       "[5 rows x 200 columns]"
      ]
     },
     "execution_count": 11,
     "metadata": {},
     "output_type": "execute_result"
    }
   ],
   "source": [
    "# initialize\n",
    "ridge_reg = Ridge(alpha=0)\n",
    "ridge_reg.fit(X_train, y_train)\n",
    "ridge_df = pd.DataFrame({'variable': house_price.feature_names})\n",
    "\n",
    "alphas = np.arange(0, 200, 1)\n",
    "\n",
    "for alpha in alphas:\n",
    "    ridge_reg = Ridge(alpha=alpha)\n",
    "    ridge_reg.fit(X_train, y_train)\n",
    "    ridge_df['a='+str(alpha)] = ridge_reg.coef_\n",
    "ridge_df.set_index('variable',inplace=True)\n",
    "ridge_df.head()"
   ]
  },
  {
   "cell_type": "code",
   "execution_count": 12,
   "metadata": {},
   "outputs": [
    {
     "data": {
      "text/plain": [
       "<matplotlib.axes._subplots.AxesSubplot at 0x1a1f4dd7f0>"
      ]
     },
     "execution_count": 12,
     "metadata": {},
     "output_type": "execute_result"
    },
    {
     "data": {
      "image/png": "[encoded data removed]",
      "text/plain": [
       "<Figure size 432x288 with 1 Axes>"
      ]
     },
     "metadata": {
      "needs_background": "light"
     },
     "output_type": "display_data"
    }
   ],
   "source": [
    "ridge_df['a=0'].plot.barh()\n",
    "ridge_df['a=10'].plot.barh(color='r')\n",
    "ridge_df['a=100'].plot.barh(color='g')"
   ]
  },
  {
   "cell_type": "markdown",
   "metadata": {},
   "source": [
    "#### Optimization"
   ]
  },
  {
   "cell_type": "markdown",
   "metadata": {},
   "source": [
    "##### Holdout"
   ]
  },
  {
   "cell_type": "code",
   "execution_count": 13,
   "metadata": {},
   "outputs": [
    {
     "data": {
      "text/plain": [
       "[<matplotlib.lines.Line2D at 0x1a1fcecd30>]"
      ]
     },
     "execution_count": 13,
     "metadata": {},
     "output_type": "execute_result"
    },
    {
     "data": {
      "image/png": "[encoded data removed]",
      "text/plain": [
       "<Figure size 720x720 with 3 Axes>"
      ]
     },
     "metadata": {
      "needs_background": "light"
     },
     "output_type": "display_data"
    }
   ],
   "source": [
    "MSE_train=[]\n",
    "MSE_test=[]\n",
    "r2=[]\n",
    "complexity=[]\n",
    "\n",
    "for a in range(0,200,1):\n",
    "    model=Ridge(alpha=a)\n",
    "    model.fit(X_train,y_train)\n",
    "    MSE_test.append(mean_squared_error(y_test, model.predict(X_test)))\n",
    "    MSE_train.append(mean_squared_error(y_train, model.predict(X_train)))\n",
    "    r2.append(r2_score(y_test, model.predict(X_test)))\n",
    "    complexity.append(a)\n",
    "\n",
    "fig, axs = plt.subplots(3,1,sharey=False,sharex=False,figsize=(10,10))\n",
    "\n",
    "\n",
    "axs[2].set_xlabel(\"$\\longleftarrow $ Complexity\")\n",
    "\n",
    "axs[0].set_ylabel('Train MSE')\n",
    "axs[1].set_ylabel('Test MSE')\n",
    "axs[2].set_ylabel('Test r2 score')\n",
    "\n",
    "axs[0].plot(complexity[:70], MSE_train[:70], '+')\n",
    "axs[1].plot(complexity[:70], MSE_test[:70],  '+')\n",
    "axs[2].plot(complexity[:70], r2[:70],  '+')\n"
   ]
  },
  {
   "cell_type": "markdown",
   "metadata": {},
   "source": [
    "#### Stability"
   ]
  },
  {
   "cell_type": "code",
   "execution_count": 150,
   "metadata": {},
   "outputs": [],
   "source": [
    "def r2_a(a,rep):\n",
    "    rkf= RepeatedKFold(n_splits=3, n_repeats=rep, random_state=None)\n",
    "    r2=[]\n",
    "    for train_I, test_I in rkf.split(df):\n",
    "        X_fold_train = df.iloc[train_I, :].drop('PRICE',axis=1)\n",
    "        y_fold_train = df['PRICE'].values[train_I]\n",
    "        X_fold_test = df.iloc[test_I, :].drop('PRICE',axis=1)\n",
    "        y_fold_test = df['PRICE'].values[test_I]\n",
    "        model = Ridge(alpha=a)\n",
    "        model.fit(X_fold_train, y_fold_train)\n",
    "        r2.append(r2_score(y_fold_test, model.predict(X_fold_test)))\n",
    "    print('The estimation of the r2 score over the training distributions is:', np.mean(r2),'\\u00B1', np.std(r2))\n",
    "    \n",
    "    return r2"
   ]
  },
  {
   "cell_type": "code",
   "execution_count": 151,
   "metadata": {
    "scrolled": true
   },
   "outputs": [
    {
     "name": "stdout",
     "output_type": "stream",
     "text": [
      "The estimation of the r2 score over the training distributions is: 0.7120874628431816 $\\pm $ 0.04445049503864007\n",
      "The estimation of the r2 score over the training distributions is: 0.13405547064873674 $\\pm $ 0.01678657060847337\n"
     ]
    },
    {
     "data": {
      "text/plain": [
       "<matplotlib.axes._subplots.AxesSubplot at 0x1a25174320>"
      ]
     },
     "execution_count": 151,
     "metadata": {},
     "output_type": "execute_result"
    },
    {
     "data": {
      "image/png": "[encoded data removed]",
      "text/plain": [
       "<Figure size 432x288 with 1 Axes>"
      ]
     },
     "metadata": {
      "needs_background": "light"
     },
     "output_type": "display_data"
    }
   ],
   "source": [
    "sns.distplot(r2_a(7,1000),bins=30)\n",
    "sns.distplot(r2_a(10000,1000),bins=30, color='r')"
   ]
  },
  {
   "cell_type": "code",
   "execution_count": 148,
   "metadata": {},
   "outputs": [],
   "source": [
    "def MSE_a(a,rep):\n",
    "    rkf= RepeatedKFold(n_splits=3, n_repeats=rep, random_state=None)\n",
    "    MSE=[]\n",
    "    for train_I, test_I in rkf.split(df):\n",
    "        X_fold_train = df.iloc[train_I, :].drop('PRICE',axis=1)\n",
    "        y_fold_train = df['PRICE'].values[train_I]\n",
    "        X_fold_test = df.iloc[test_I, :].drop('PRICE',axis=1)\n",
    "        y_fold_test = df['PRICE'].values[test_I]\n",
    "        model = Ridge(alpha=a)\n",
    "        model.fit(X_fold_train, y_fold_train)\n",
    "        MSE.append(mean_squared_error(y_fold_test, model.predict(X_fold_test)))\n",
    "    print('The estimation of the MSE over the training distributions is:', np.mean(MSE),'\\u00B1', np.std(MSE))\n",
    "    \n",
    "    return MSE"
   ]
  },
  {
   "cell_type": "code",
   "execution_count": 149,
   "metadata": {},
   "outputs": [
    {
     "name": "stdout",
     "output_type": "stream",
     "text": [
      "The estimation of the MSE over the training distributions is: 24.185854105083894 $\\pm $ 4.38681781287276\n",
      "The estimation of the MSE over the training distributions is: 72.89457697379403 $\\pm $ 9.379800569081254\n"
     ]
    },
    {
     "data": {
      "text/plain": [
       "<matplotlib.axes._subplots.AxesSubplot at 0x1a24f7d5c0>"
      ]
     },
     "execution_count": 149,
     "metadata": {},
     "output_type": "execute_result"
    },
    {
     "data": {
      "image/png": "[encoded data removed]",
      "text/plain": [
       "<Figure size 432x288 with 1 Axes>"
      ]
     },
     "metadata": {
      "needs_background": "light"
     },
     "output_type": "display_data"
    }
   ],
   "source": [
    "sns.distplot(MSE_a(7,1000),bins=30)\n",
    "sns.distplot(MSE_a(10000,1000),bins=30, color='r')"
   ]
  },
  {
   "cell_type": "markdown",
   "metadata": {},
   "source": [
    "#### Intepretability (PDP)"
   ]
  },
  {
   "cell_type": "code",
   "execution_count": 14,
   "metadata": {},
   "outputs": [],
   "source": [
    "X = df.drop('PRICE', axis=1)\n",
    "y = df['PRICE']\n",
    "\n",
    "X_train, X_test, y_train, y_test = train_test_split(X, y, test_size=0.2, random_state=23)"
   ]
  },
  {
   "cell_type": "code",
   "execution_count": 15,
   "metadata": {},
   "outputs": [],
   "source": [
    "X_pdp = X_train.iloc[sample_without_replacement(X_train.shape[0], int(X_train.shape[0])), :]\n",
    "X_pdp['target'] = model.predict(X_pdp)"
   ]
  },
  {
   "cell_type": "code",
   "execution_count": 16,
   "metadata": {},
   "outputs": [
    {
     "data": {
      "text/html": [
       "<div>\n",
       "<style scoped>\n",
       "    .dataframe tbody tr th:only-of-type {\n",
       "        vertical-align: middle;\n",
       "    }\n",
       "\n",
       "    .dataframe tbody tr th {\n",
       "        vertical-align: top;\n",
       "    }\n",
       "\n",
       "    .dataframe thead th {\n",
       "        text-align: right;\n",
       "    }\n",
       "</style>\n",
       "<table border=\"1\" class=\"dataframe\">\n",
       "  <thead>\n",
       "    <tr style=\"text-align: right;\">\n",
       "      <th></th>\n",
       "      <th>CRIM</th>\n",
       "      <th>ZN</th>\n",
       "      <th>INDUS</th>\n",
       "      <th>CHAS</th>\n",
       "      <th>NOX</th>\n",
       "      <th>RM</th>\n",
       "      <th>AGE</th>\n",
       "      <th>DIS</th>\n",
       "      <th>RAD</th>\n",
       "      <th>TAX</th>\n",
       "      <th>PTRATIO</th>\n",
       "      <th>B</th>\n",
       "      <th>LSTAT</th>\n",
       "      <th>target</th>\n",
       "    </tr>\n",
       "  </thead>\n",
       "  <tbody>\n",
       "    <tr>\n",
       "      <th>175</th>\n",
       "      <td>-0.412762</td>\n",
       "      <td>-0.487722</td>\n",
       "      <td>-1.034027</td>\n",
       "      <td>-0.272599</td>\n",
       "      <td>-0.386091</td>\n",
       "      <td>0.372357</td>\n",
       "      <td>-1.261508</td>\n",
       "      <td>-0.315047</td>\n",
       "      <td>-0.523001</td>\n",
       "      <td>-0.666608</td>\n",
       "      <td>-0.857929</td>\n",
       "      <td>0.375924</td>\n",
       "      <td>-1.026501</td>\n",
       "      <td>28.144770</td>\n",
       "    </tr>\n",
       "    <tr>\n",
       "      <th>225</th>\n",
       "      <td>-0.359197</td>\n",
       "      <td>-0.487722</td>\n",
       "      <td>-0.720322</td>\n",
       "      <td>-0.272599</td>\n",
       "      <td>-0.437921</td>\n",
       "      <td>3.476688</td>\n",
       "      <td>0.512965</td>\n",
       "      <td>-0.428138</td>\n",
       "      <td>-0.178120</td>\n",
       "      <td>-0.601276</td>\n",
       "      <td>-0.488039</td>\n",
       "      <td>0.277683</td>\n",
       "      <td>-1.124623</td>\n",
       "      <td>34.187655</td>\n",
       "    </tr>\n",
       "    <tr>\n",
       "      <th>61</th>\n",
       "      <td>-0.400535</td>\n",
       "      <td>0.585267</td>\n",
       "      <td>-0.876445</td>\n",
       "      <td>-0.272599</td>\n",
       "      <td>-0.878475</td>\n",
       "      <td>-0.453945</td>\n",
       "      <td>0.882795</td>\n",
       "      <td>1.437258</td>\n",
       "      <td>-0.178120</td>\n",
       "      <td>-0.737880</td>\n",
       "      <td>0.575395</td>\n",
       "      <td>0.234703</td>\n",
       "      <td>0.250482</td>\n",
       "      <td>20.527058</td>\n",
       "    </tr>\n",
       "    <tr>\n",
       "      <th>13</th>\n",
       "      <td>-0.347230</td>\n",
       "      <td>-0.487722</td>\n",
       "      <td>-0.437258</td>\n",
       "      <td>-0.272599</td>\n",
       "      <td>-0.144217</td>\n",
       "      <td>-0.478164</td>\n",
       "      <td>-0.240919</td>\n",
       "      <td>0.433754</td>\n",
       "      <td>-0.637962</td>\n",
       "      <td>-0.601276</td>\n",
       "      <td>1.176466</td>\n",
       "      <td>0.441052</td>\n",
       "      <td>-0.615792</td>\n",
       "      <td>21.505948</td>\n",
       "    </tr>\n",
       "    <tr>\n",
       "      <th>188</th>\n",
       "      <td>-0.405879</td>\n",
       "      <td>1.443658</td>\n",
       "      <td>-1.123032</td>\n",
       "      <td>-0.272599</td>\n",
       "      <td>-1.016689</td>\n",
       "      <td>0.386603</td>\n",
       "      <td>-1.403750</td>\n",
       "      <td>0.366822</td>\n",
       "      <td>-0.523001</td>\n",
       "      <td>-0.060801</td>\n",
       "      <td>-1.505237</td>\n",
       "      <td>0.286893</td>\n",
       "      <td>-1.134435</td>\n",
       "      <td>29.931512</td>\n",
       "    </tr>\n",
       "  </tbody>\n",
       "</table>\n",
       "</div>"
      ],
      "text/plain": [
       "         CRIM        ZN     INDUS      CHAS       NOX        RM       AGE  \\\n",
       "175 -0.412762 -0.487722 -1.034027 -0.272599 -0.386091  0.372357 -1.261508   \n",
       "225 -0.359197 -0.487722 -0.720322 -0.272599 -0.437921  3.476688  0.512965   \n",
       "61  -0.400535  0.585267 -0.876445 -0.272599 -0.878475 -0.453945  0.882795   \n",
       "13  -0.347230 -0.487722 -0.437258 -0.272599 -0.144217 -0.478164 -0.240919   \n",
       "188 -0.405879  1.443658 -1.123032 -0.272599 -1.016689  0.386603 -1.403750   \n",
       "\n",
       "          DIS       RAD       TAX   PTRATIO         B     LSTAT     target  \n",
       "175 -0.315047 -0.523001 -0.666608 -0.857929  0.375924 -1.026501  28.144770  \n",
       "225 -0.428138 -0.178120 -0.601276 -0.488039  0.277683 -1.124623  34.187655  \n",
       "61   1.437258 -0.178120 -0.737880  0.575395  0.234703  0.250482  20.527058  \n",
       "13   0.433754 -0.637962 -0.601276  1.176466  0.441052 -0.615792  21.505948  \n",
       "188  0.366822 -0.523001 -0.060801 -1.505237  0.286893 -1.134435  29.931512  "
      ]
     },
     "execution_count": 16,
     "metadata": {},
     "output_type": "execute_result"
    }
   ],
   "source": [
    "X_pdp.head()"
   ]
  },
  {
   "cell_type": "code",
   "execution_count": 18,
   "metadata": {},
   "outputs": [
    {
     "data": {
      "image/png": "[encoded data removed]",
      "text/plain": [
       "<Figure size 1080x648 with 3 Axes>"
      ]
     },
     "metadata": {
      "needs_background": "light"
     },
     "output_type": "display_data"
    }
   ],
   "source": [
    "fig, axes, summary_df = info_plots.target_plot(\n",
    "    df=X_pdp, feature='LSTAT', feature_name='LSTAT', target='target'\n",
    ")"
   ]
  }
 ],
 "metadata": {
  "kernelspec": {
   "display_name": "Python 3",
   "language": "python",
   "name": "python3"
  },
  "language_info": {
   "codemirror_mode": {
    "name": "ipython",
    "version": 3
   },
   "file_extension": ".py",
   "mimetype": "text/x-python",
   "name": "python",
   "nbconvert_exporter": "python",
   "pygments_lexer": "ipython3",
   "version": "3.7.3"
  }
 },
 "nbformat": 4,
 "nbformat_minor": 2
}
