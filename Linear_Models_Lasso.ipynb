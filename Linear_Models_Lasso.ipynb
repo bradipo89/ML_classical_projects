{
 "cells": [
  {
   "cell_type": "markdown",
   "metadata": {},
   "source": [
    "# Regression Linear Model III: Lasso "
   ]
  },
  {
   "cell_type": "markdown",
   "metadata": {},
   "source": [
    "In this notebook we study the Lasso regularization for linear model for regression. We will follow closely the other notebooks where we study linear models and therefore we will start with the theoretical background giving the details of how it works in theory. Again, we will use the notation we already set in the introductionary file for Supervised Learning (Supervised_Learning.ipynb). This notebook is structured as follows\n",
    "\n",
    "- [Theoretical Analysis:](#s1)\n",
    "    - [Algorithm](#s1.1)\n",
    "- [Implementation in `sklearn`](#s2)\n",
    "- [Mini-challenge](#s3)"
   ]
  },
  {
   "cell_type": "markdown",
   "metadata": {},
   "source": [
    "<a id='s1'></a>\n",
    "## Theoretical Analysis"
   ]
  },
  {
   "cell_type": "markdown",
   "metadata": {},
   "source": [
    "Lasso linear regression is a regularization method for OLS linear regression. There are basically two main reasons why we are often not satisfied with the OLS estimates: \n",
    "\n",
    "- The first is _prediction accuracy_: the least squares estimates often have low bias but large variance. Prediction accuracy can sometimes be improved by shrinking or setting some coefficients to zero. By doing so we sacrifice a little bit of bias to reduce the variance of the predicted values, and hence may improve the overall prediction accuracy\n",
    "\n",
    "- The second reason is _interpretation_. With a large number of predictors, we often would like to determine a smaller subset that exhibit the strongest effects. In order to get the “big picture,” we are willing to sacrifice some of the small details\n",
    "\n",
    "\n",
    "The regularization methods get into the game in general when our OLS model is too complex for modelising the real dataset. That it means, for example, that among all the features we have, some of them suffers from multi-collinearity. In general, in more mathematical terms, regularization method are used when $d>N$ that makes the matrix $X^TX$ not invertible.\n",
    "\n",
    "\n",
    "\n",
    "\n",
    "Similarly to the case of the OLS linear model we have to minimize a risk function such that our predicted model will be\n",
    "\n",
    "$\\quad$\n",
    "\n",
    "<center>\n",
    "\\begin{align}\n",
    "\\mathcal{R}(f)=E\\left[L(f(X),Y)\\right]=\\int L(f(X),Y)dP(X,Y)\n",
    "\\end{align}\n",
    "</center>\n",
    "\n",
    "where $L(f(X),Y)$ is the  loss function and $P(X,Y)$ is the joint probability distribution.  The ultimate goal of a learning algorithm is to find a function $\\hat{f}$ for which the risk $\\mathcal{R}(\\hat{f})$ is minimal, among the fixed class of function $\\mathcal{H}$:\n",
    "\n",
    "$\\quad$\n",
    "\n",
    "<center>\n",
    "\\begin{align}\n",
    "\\hat{f}=\\arg\\min_{f\\in\\mathcal{H}} \\mathcal{R}(f)\n",
    "\\end{align}\n",
    "</center>\n",
    "\n",
    "Since the statistician cannot compute the expectation (and thus the risk) because he does not know the distribution $P(x,y)$, it's common to replace the risk with an estimatore of the risk, called the empirical risk:\n",
    "\n",
    "$\\quad$\n",
    "\n",
    "<center>\n",
    "\\begin{align}\n",
    "\\hat{\\mathcal{R}}(f)=\\frac{1}{N}\\sum_{i=1}^NL(f(x_i),y_i)\n",
    "\\end{align}\n",
    "</center>\n",
    "\n",
    "where $x_i$ is the row vector if the $i$-th observation and $y_i$ the output variable of the associated input row. We seek for a function:\n",
    "\n",
    "$\\quad$\n",
    "\n",
    "<center>\n",
    "\\begin{align}\n",
    "\\hat{f}=\\arg\\min_{f\\in\\mathcal{H}} \\hat{\\mathcal{R}}(f)\n",
    "\\end{align}\n",
    "</center>"
   ]
  },
  {
   "cell_type": "markdown",
   "metadata": {},
   "source": [
    "<a id='s1.1'></a>\n",
    "### Algorithm"
   ]
  },
  {
   "cell_type": "markdown",
   "metadata": {},
   "source": [
    "The algorithm of Lasso linear regression work by modifying the risk function bby adding penalty terms which play the role of a Lagrangian multiplier and turning the problem of minimizing the undeformed risk function to the problem of  minimize a functional subject to a constraint. With this criterion the coefficient of the linear model are not treated on same level but some of them are shrinked near to zero. \n",
    "\n",
    "The linear function describing the dataset is still linear\n",
    "\n",
    "\\begin{align}\n",
    "f(x_i)=\\theta_0+\\sum_{j=0}^px_{ij}\\theta_j=\\theta\\cdot X=f(X)\n",
    "\\end{align}\n",
    "\n",
    "where we show either the component and the compact for of the expression. The OLS risk function is modify as\n",
    "\n",
    "\\begin{align}\n",
    "\\hat{\\mathcal{R}}(\\theta)=\\sum_{i=1}^N(y_i-\\theta_0-\\sum_{j=1}^px_{ij}\\theta_j)^2+\\lambda\\sum_{j=0}^p\\theta_j^2=||Y-f(X)||^2 +\\lambda\\,\\sqrt{\\theta^T\\theta}=||Y-f(X)||^2 +\\lambda\\,||\\theta||\n",
    "\\end{align}\n",
    "\n",
    "Therefore the predicted model will give the following coefficient\n",
    "\n",
    "\\begin{align}\n",
    "\\hat{\\theta}=\\arg\\min_{\\theta}\\left\\{||Y-f(X)||^2 +\\lambda\\,||\\theta||\\right\\}\n",
    "\\end{align}\n",
    "\n",
    "Or, in an equivalent way we can write the ridge problem as the minimizing constraint problem\n",
    "\n",
    "\\begin{align}\n",
    "\\hat{\\theta}&=\\arg\\min_{\\theta}\\left\\{||Y-f(X)||^2\\right\\}\\\\\n",
    "||\\theta||&\\le t(\\lambda)\n",
    "\\end{align}\n",
    "\n",
    "where $t(\\lambda)$ is a paramters in one-to-one correpondence with $\\lambda>0$, which is the complexity parameter that controls the amount of shrinking: the larger the value of $\\lambda$, the greater the amount of shrinkage.\n",
    "\n",
    "When there are many correlated variables in a linear regression model, their coefficients can become poorly determined and exhibit high variance. A wildly large positive coefficient on one variable can be canceled by a similarly large negative coefficient on its correlated cousin. By imposing a size constraint on the coefficients this problem is alleviated.\n",
    "\n",
    "The solution to the constraint problem is not analytic amnymore as in the OLS and Ridge models.\n",
    "\n",
    "Because of the nature of the constraint, making t sufficiently small will\n",
    "cause some of the coefficients to be exactly zero."
   ]
  },
  {
   "cell_type": "markdown",
   "metadata": {},
   "source": [
    "<div>\n",
    "<img width=600 src='images/lasso.png' /> \n",
    "</div>"
   ]
  },
  {
   "cell_type": "markdown",
   "metadata": {},
   "source": [
    "The picture simply shows the what a constraint minimizing problem works: the minimial of entire deformed function is where the level curves of the two functions are tangent each other, or, equivalently, the two gradient vectors are parallel each other. The meaning and amount of shrinkage will be more clear after the next section."
   ]
  },
  {
   "cell_type": "markdown",
   "metadata": {},
   "source": [
    "<a id='s2'></a>\n",
    "## Implementation in `sklearn`"
   ]
  },
  {
   "cell_type": "markdown",
   "metadata": {},
   "source": [
    "The class `Lasso` of the module `sklearn.linear_model` is:\n",
    "\n",
    "`sklearn.linear_model.Lasso(alpha=1.0, fit_intercept=True, normalize=False, copy_X=True, max_iter=None, tol=0.001, solver='auto', random_state=None)`\n",
    "\n",
    "Since it's a class is composed by __parameters__, __attributes__ and __method__. We list here them with a biref explanation"
   ]
  },
  {
   "cell_type": "markdown",
   "metadata": {},
   "source": [
    "### Parameters"
   ]
  },
  {
   "cell_type": "markdown",
   "metadata": {},
   "source": [
    "- `alpha`: {float, ndarray of shape (n_targets,)}, default=1.0\n",
    " \n",
    "    Regularization strength; must be a positive float. Regularization improves the conditioning of the problem and reduces the variance of the estimates."
   ]
  },
  {
   "cell_type": "markdown",
   "metadata": {},
   "source": [
    "- `fit_intercept`: bool, optional, default True\n",
    "\n",
    "    Whether to calculate the intercept for this model. If set to False, no intercept will be used in calculations  \n",
    "    "
   ]
  },
  {
   "cell_type": "markdown",
   "metadata": {},
   "source": [
    "- `normalize`: bool, optional, default False\n",
    "    \n",
    "    This parameter is ignored when `fit_intercept` is set to False. If True, the regressors $X$ will be normalized before regression by subtracting the mean and dividing by the norm."
   ]
  },
  {
   "cell_type": "markdown",
   "metadata": {},
   "source": [
    "- `precompute`: True | False | array-like, default=False\n",
    "\n",
    "   Whether to use a precomputed Gram matrix to speed up calculations. If set to 'auto' let us decide. "
   ]
  },
  {
   "cell_type": "markdown",
   "metadata": {},
   "source": [
    "- `copy_X`: bool, optional, default True\n",
    "    \n",
    "    If True, $X$ will be copied; else, it may be overwritten."
   ]
  },
  {
   "cell_type": "markdown",
   "metadata": {},
   "source": [
    "- `max_iter`: int, default=None\n",
    "    \n",
    "    Maximum number of iterations for conjugate gradient solver. For ‘sparse_cg’ and ‘lsqr’ solvers, the default value is determined by scipy.sparse.linalg. For ‘sag’ solver, the default value is 1000."
   ]
  },
  {
   "cell_type": "markdown",
   "metadata": {},
   "source": [
    "- `tol`: float, default=1e-3\n",
    "    Precision of the solution."
   ]
  },
  {
   "cell_type": "markdown",
   "metadata": {},
   "source": [
    "- `warm_start` : bool, optional\n",
    "\n",
    "   When set to True, reuse the solution of the previous call to fit as initialization, otherwise, just erase the previous solution."
   ]
  },
  {
   "cell_type": "markdown",
   "metadata": {},
   "source": [
    "- `positive`: bool, optional\n",
    "\n",
    "   When set to True, forces the coefficients to be positive."
   ]
  },
  {
   "cell_type": "markdown",
   "metadata": {},
   "source": [
    "- `random_state`: int, RandomState instance or None, optional, default None\n",
    "\n",
    "   The seed of the pseudo random number generator that selects a random feature to update. "
   ]
  },
  {
   "cell_type": "markdown",
   "metadata": {},
   "source": [
    "- `selection`: str, default ‘cyclic’\n",
    "\n",
    "   If set to ‘random’, a random coefficient is updated every iteration rather than looping over features sequentially by default. "
   ]
  },
  {
   "cell_type": "markdown",
   "metadata": {},
   "source": [
    "### Attributes"
   ]
  },
  {
   "cell_type": "markdown",
   "metadata": {},
   "source": [
    "- `coef_`: ndarray of shape (n_features,) or (n_targets, n_features)\n",
    "\n",
    "    Weight vector(s)."
   ]
  },
  {
   "cell_type": "markdown",
   "metadata": {},
   "source": [
    "- `sparse_coef_`: scipy.sparse matrix, shape (n_features, 1) | (n_targets, n_features)\n",
    "\n",
    "   sparse representation of the fitted coef_"
   ]
  },
  {
   "cell_type": "markdown",
   "metadata": {},
   "source": [
    "- `intercept_`: float or array of shape of (n_targets,)\n",
    "\n",
    "    Independent term in the linear model. Set to 0.0 if `fit_intercept` = False."
   ]
  },
  {
   "cell_type": "markdown",
   "metadata": {},
   "source": [
    "- `n_iter_`: None or ndarray of shape (n_targets,)\n",
    "    \n",
    "    Actual number of iterations for each target. Available only for sag and lsqr solvers. Other solvers will return None."
   ]
  },
  {
   "cell_type": "markdown",
   "metadata": {},
   "source": [
    "### Methods"
   ]
  },
  {
   "cell_type": "markdown",
   "metadata": {},
   "source": [
    "- `fit(self, X, y[, sample_weight])`: \tFit linear model"
   ]
  },
  {
   "cell_type": "markdown",
   "metadata": {},
   "source": [
    "- `get_params(self[, deep])`: Get parameters for this estimator"
   ]
  },
  {
   "cell_type": "markdown",
   "metadata": {},
   "source": [
    "- `predict(self, X)`: Predict using the linear model"
   ]
  },
  {
   "cell_type": "markdown",
   "metadata": {},
   "source": [
    "- `score(self, X, y[, sample_weight])`: Return the coefficient of determination $R^2$ of the prediction"
   ]
  },
  {
   "cell_type": "markdown",
   "metadata": {},
   "source": [
    "- `set_params(self, \\*\\*params)`: Set the parameters of this estimator"
   ]
  },
  {
   "cell_type": "markdown",
   "metadata": {},
   "source": [
    "<a id='s3'></a>\n",
    "## Mini-challenge"
   ]
  },
  {
   "cell_type": "markdown",
   "metadata": {},
   "source": [
    "We study here a very simple case of study in a standard data science problem. It will be a very simplify version useful to show how `LinearRegression` work in a real world. With simplify version we mean we will use a common dataframe, aleady clean and adapt to a linear model. In any case we will give a structure of a real challenge even if every section will be extremely reduced in size. We will use the dataset containing the house price in Boston, already contained in `sklearn`. We will have:\n",
    "\n",
    "- __Inizialization__\n",
    "- __Exploration of Data__\n",
    "- __Modelization__\n",
    "\n",
    "    - Optimisation\n",
    "    - Stability\n",
    "    - Interpretability"
   ]
  },
  {
   "cell_type": "markdown",
   "metadata": {},
   "source": [
    "### Inizialization"
   ]
  },
  {
   "cell_type": "code",
   "execution_count": 1,
   "metadata": {},
   "outputs": [],
   "source": [
    "import numpy as np\n",
    "import pandas as pd\n",
    "import matplotlib.pyplot as plt\n",
    "import matplotlib.ticker as ticker\n",
    "import seaborn as sns\n",
    "\n",
    "from sklearn.datasets import load_boston\n",
    "from sklearn import preprocessing\n",
    "from sklearn.model_selection import train_test_split, RepeatedKFold\n",
    "from sklearn.metrics import r2_score, mean_squared_error\n",
    "from sklearn.linear_model import Lasso\n",
    "\n",
    "from pdpbox import pdp, info_plots\n",
    "from sklearn.utils.random import sample_without_replacement\n",
    "\n",
    "import warnings\n",
    "warnings.filterwarnings(\"ignore\")"
   ]
  },
  {
   "cell_type": "markdown",
   "metadata": {},
   "source": [
    "### Exploration of Data"
   ]
  },
  {
   "cell_type": "code",
   "execution_count": 2,
   "metadata": {},
   "outputs": [
    {
     "data": {
      "text/html": [
       "<div>\n",
       "<style scoped>\n",
       "    .dataframe tbody tr th:only-of-type {\n",
       "        vertical-align: middle;\n",
       "    }\n",
       "\n",
       "    .dataframe tbody tr th {\n",
       "        vertical-align: top;\n",
       "    }\n",
       "\n",
       "    .dataframe thead th {\n",
       "        text-align: right;\n",
       "    }\n",
       "</style>\n",
       "<table border=\"1\" class=\"dataframe\">\n",
       "  <thead>\n",
       "    <tr style=\"text-align: right;\">\n",
       "      <th></th>\n",
       "      <th>CRIM</th>\n",
       "      <th>ZN</th>\n",
       "      <th>INDUS</th>\n",
       "      <th>CHAS</th>\n",
       "      <th>NOX</th>\n",
       "      <th>RM</th>\n",
       "      <th>AGE</th>\n",
       "      <th>DIS</th>\n",
       "      <th>RAD</th>\n",
       "      <th>TAX</th>\n",
       "      <th>PTRATIO</th>\n",
       "      <th>B</th>\n",
       "      <th>LSTAT</th>\n",
       "      <th>PRICE</th>\n",
       "    </tr>\n",
       "  </thead>\n",
       "  <tbody>\n",
       "    <tr>\n",
       "      <th>0</th>\n",
       "      <td>-0.419782</td>\n",
       "      <td>0.284830</td>\n",
       "      <td>-1.287909</td>\n",
       "      <td>-0.272599</td>\n",
       "      <td>-0.144217</td>\n",
       "      <td>0.413672</td>\n",
       "      <td>-0.120013</td>\n",
       "      <td>0.140214</td>\n",
       "      <td>-0.982843</td>\n",
       "      <td>-0.666608</td>\n",
       "      <td>-1.459000</td>\n",
       "      <td>0.441052</td>\n",
       "      <td>-1.075562</td>\n",
       "      <td>24.0</td>\n",
       "    </tr>\n",
       "    <tr>\n",
       "      <th>1</th>\n",
       "      <td>-0.417339</td>\n",
       "      <td>-0.487722</td>\n",
       "      <td>-0.593381</td>\n",
       "      <td>-0.272599</td>\n",
       "      <td>-0.740262</td>\n",
       "      <td>0.194274</td>\n",
       "      <td>0.367166</td>\n",
       "      <td>0.557160</td>\n",
       "      <td>-0.867883</td>\n",
       "      <td>-0.987329</td>\n",
       "      <td>-0.303094</td>\n",
       "      <td>0.441052</td>\n",
       "      <td>-0.492439</td>\n",
       "      <td>21.6</td>\n",
       "    </tr>\n",
       "    <tr>\n",
       "      <th>2</th>\n",
       "      <td>-0.417342</td>\n",
       "      <td>-0.487722</td>\n",
       "      <td>-0.593381</td>\n",
       "      <td>-0.272599</td>\n",
       "      <td>-0.740262</td>\n",
       "      <td>1.282714</td>\n",
       "      <td>-0.265812</td>\n",
       "      <td>0.557160</td>\n",
       "      <td>-0.867883</td>\n",
       "      <td>-0.987329</td>\n",
       "      <td>-0.303094</td>\n",
       "      <td>0.396427</td>\n",
       "      <td>-1.208727</td>\n",
       "      <td>34.7</td>\n",
       "    </tr>\n",
       "    <tr>\n",
       "      <th>3</th>\n",
       "      <td>-0.416750</td>\n",
       "      <td>-0.487722</td>\n",
       "      <td>-1.306878</td>\n",
       "      <td>-0.272599</td>\n",
       "      <td>-0.835284</td>\n",
       "      <td>1.016303</td>\n",
       "      <td>-0.809889</td>\n",
       "      <td>1.077737</td>\n",
       "      <td>-0.752922</td>\n",
       "      <td>-1.106115</td>\n",
       "      <td>0.113032</td>\n",
       "      <td>0.416163</td>\n",
       "      <td>-1.361517</td>\n",
       "      <td>33.4</td>\n",
       "    </tr>\n",
       "    <tr>\n",
       "      <th>4</th>\n",
       "      <td>-0.412482</td>\n",
       "      <td>-0.487722</td>\n",
       "      <td>-1.306878</td>\n",
       "      <td>-0.272599</td>\n",
       "      <td>-0.835284</td>\n",
       "      <td>1.228577</td>\n",
       "      <td>-0.511180</td>\n",
       "      <td>1.077737</td>\n",
       "      <td>-0.752922</td>\n",
       "      <td>-1.106115</td>\n",
       "      <td>0.113032</td>\n",
       "      <td>0.441052</td>\n",
       "      <td>-1.026501</td>\n",
       "      <td>36.2</td>\n",
       "    </tr>\n",
       "  </tbody>\n",
       "</table>\n",
       "</div>"
      ],
      "text/plain": [
       "       CRIM        ZN     INDUS      CHAS       NOX        RM       AGE  \\\n",
       "0 -0.419782  0.284830 -1.287909 -0.272599 -0.144217  0.413672 -0.120013   \n",
       "1 -0.417339 -0.487722 -0.593381 -0.272599 -0.740262  0.194274  0.367166   \n",
       "2 -0.417342 -0.487722 -0.593381 -0.272599 -0.740262  1.282714 -0.265812   \n",
       "3 -0.416750 -0.487722 -1.306878 -0.272599 -0.835284  1.016303 -0.809889   \n",
       "4 -0.412482 -0.487722 -1.306878 -0.272599 -0.835284  1.228577 -0.511180   \n",
       "\n",
       "        DIS       RAD       TAX   PTRATIO         B     LSTAT  PRICE  \n",
       "0  0.140214 -0.982843 -0.666608 -1.459000  0.441052 -1.075562   24.0  \n",
       "1  0.557160 -0.867883 -0.987329 -0.303094  0.441052 -0.492439   21.6  \n",
       "2  0.557160 -0.867883 -0.987329 -0.303094  0.396427 -1.208727   34.7  \n",
       "3  1.077737 -0.752922 -1.106115  0.113032  0.416163 -1.361517   33.4  \n",
       "4  1.077737 -0.752922 -1.106115  0.113032  0.441052 -1.026501   36.2  "
      ]
     },
     "execution_count": 2,
     "metadata": {},
     "output_type": "execute_result"
    }
   ],
   "source": [
    "house_price = load_boston()\n",
    "house_price.data = preprocessing.scale(house_price.data)\n",
    "df = pd.DataFrame(house_price.data, columns=house_price.feature_names)\n",
    "df['PRICE'] = house_price.target\n",
    "df.head()"
   ]
  },
  {
   "cell_type": "code",
   "execution_count": 3,
   "metadata": {},
   "outputs": [
    {
     "data": {
      "text/plain": [
       "(506, 14)"
      ]
     },
     "execution_count": 3,
     "metadata": {},
     "output_type": "execute_result"
    }
   ],
   "source": [
    "df.shape"
   ]
  },
  {
   "cell_type": "markdown",
   "metadata": {},
   "source": [
    "### Train the Model"
   ]
  },
  {
   "cell_type": "code",
   "execution_count": 4,
   "metadata": {},
   "outputs": [],
   "source": [
    "X_train, X_test, y_train, y_test = train_test_split(\n",
    "    df.drop('PRICE',axis=1), df.PRICE, test_size=0.3, random_state=10)"
   ]
  },
  {
   "cell_type": "code",
   "execution_count": 8,
   "metadata": {},
   "outputs": [
    {
     "data": {
      "image/png": "[encoded data removed]",
      "text/plain": [
       "<Figure size 720x360 with 1 Axes>"
      ]
     },
     "metadata": {
      "needs_background": "light"
     },
     "output_type": "display_data"
    }
   ],
   "source": [
    "lasso_df = pd.DataFrame({'variable': house_price.feature_names, 'estimate': 0})\n",
    "lasso_train_pred = []\n",
    "lasso_test_pred = []\n",
    "\n",
    "alphas = np.arange(0, 10, 1)\n",
    "\n",
    "for alpha in alphas:\n",
    "    lasso_reg = Lasso(alpha=alpha)\n",
    "    lasso_reg.fit(X_train, y_train)\n",
    "    lasso_df[str(alpha)] = lasso_reg.coef_\n",
    "    \n",
    "    lasso_train_pred.append(lasso_reg.predict(X_train))\n",
    "    lasso_test_pred.append(lasso_reg.predict(X_test))\n",
    "    \n",
    "lasso_df = lasso_df.set_index('variable').T.rename_axis('estimate').rename_axis(None).reset_index()\n",
    "\n",
    "fig, ax = plt.subplots(figsize=(10, 5))\n",
    "ax.plot(lasso_df.RM, 'r', lasso_df.ZN, 'g', lasso_df.RAD, 'b', lasso_df.CRIM, 'c', lasso_df.TAX, 'y')\n",
    "ax.axhline(y=0, color='black', linestyle='--')\n",
    "ax.set_xlabel(\"Lambda\")\n",
    "ax.set_ylabel(\"Beta Estimate\")\n",
    "ax.set_title(\"Ridge Regression Trace\", fontsize=16)\n",
    "ax.legend(labels=['Room','Residential Zone','Highway Access','Crime Rate','Tax'])\n",
    "ax.grid(True)"
   ]
  },
  {
   "cell_type": "code",
   "execution_count": 12,
   "metadata": {},
   "outputs": [
    {
     "data": {
      "text/html": [
       "<div>\n",
       "<style scoped>\n",
       "    .dataframe tbody tr th:only-of-type {\n",
       "        vertical-align: middle;\n",
       "    }\n",
       "\n",
       "    .dataframe tbody tr th {\n",
       "        vertical-align: top;\n",
       "    }\n",
       "\n",
       "    .dataframe thead th {\n",
       "        text-align: right;\n",
       "    }\n",
       "</style>\n",
       "<table border=\"1\" class=\"dataframe\">\n",
       "  <thead>\n",
       "    <tr style=\"text-align: right;\">\n",
       "      <th></th>\n",
       "      <th>a=0</th>\n",
       "      <th>a=1</th>\n",
       "      <th>a=2</th>\n",
       "      <th>a=3</th>\n",
       "      <th>a=4</th>\n",
       "      <th>a=5</th>\n",
       "      <th>a=6</th>\n",
       "      <th>a=7</th>\n",
       "      <th>a=8</th>\n",
       "      <th>a=9</th>\n",
       "    </tr>\n",
       "    <tr>\n",
       "      <th>variable</th>\n",
       "      <th></th>\n",
       "      <th></th>\n",
       "      <th></th>\n",
       "      <th></th>\n",
       "      <th></th>\n",
       "      <th></th>\n",
       "      <th></th>\n",
       "      <th></th>\n",
       "      <th></th>\n",
       "      <th></th>\n",
       "    </tr>\n",
       "  </thead>\n",
       "  <tbody>\n",
       "    <tr>\n",
       "      <th>CRIM</th>\n",
       "      <td>-1.321404</td>\n",
       "      <td>-0.000000</td>\n",
       "      <td>-0.000000</td>\n",
       "      <td>-0.000000</td>\n",
       "      <td>-0.000000</td>\n",
       "      <td>-0.000000</td>\n",
       "      <td>-0.000000</td>\n",
       "      <td>-0.0</td>\n",
       "      <td>-0.0</td>\n",
       "      <td>-0.0</td>\n",
       "    </tr>\n",
       "    <tr>\n",
       "      <th>ZN</th>\n",
       "      <td>1.514832</td>\n",
       "      <td>0.000000</td>\n",
       "      <td>0.000000</td>\n",
       "      <td>0.000000</td>\n",
       "      <td>0.000000</td>\n",
       "      <td>0.000000</td>\n",
       "      <td>0.000000</td>\n",
       "      <td>0.0</td>\n",
       "      <td>0.0</td>\n",
       "      <td>0.0</td>\n",
       "    </tr>\n",
       "    <tr>\n",
       "      <th>INDUS</th>\n",
       "      <td>-0.166266</td>\n",
       "      <td>-0.000000</td>\n",
       "      <td>-0.000000</td>\n",
       "      <td>-0.000000</td>\n",
       "      <td>-0.000000</td>\n",
       "      <td>-0.000000</td>\n",
       "      <td>-0.000000</td>\n",
       "      <td>-0.0</td>\n",
       "      <td>-0.0</td>\n",
       "      <td>-0.0</td>\n",
       "    </tr>\n",
       "    <tr>\n",
       "      <th>CHAS</th>\n",
       "      <td>0.411579</td>\n",
       "      <td>0.000000</td>\n",
       "      <td>0.000000</td>\n",
       "      <td>0.000000</td>\n",
       "      <td>0.000000</td>\n",
       "      <td>0.000000</td>\n",
       "      <td>0.000000</td>\n",
       "      <td>0.0</td>\n",
       "      <td>0.0</td>\n",
       "      <td>0.0</td>\n",
       "    </tr>\n",
       "    <tr>\n",
       "      <th>NOX</th>\n",
       "      <td>-1.771168</td>\n",
       "      <td>-0.000000</td>\n",
       "      <td>-0.000000</td>\n",
       "      <td>-0.000000</td>\n",
       "      <td>-0.000000</td>\n",
       "      <td>-0.000000</td>\n",
       "      <td>-0.000000</td>\n",
       "      <td>-0.0</td>\n",
       "      <td>-0.0</td>\n",
       "      <td>-0.0</td>\n",
       "    </tr>\n",
       "    <tr>\n",
       "      <th>RM</th>\n",
       "      <td>2.352821</td>\n",
       "      <td>2.400912</td>\n",
       "      <td>1.665467</td>\n",
       "      <td>1.061939</td>\n",
       "      <td>0.329770</td>\n",
       "      <td>0.000000</td>\n",
       "      <td>0.000000</td>\n",
       "      <td>0.0</td>\n",
       "      <td>0.0</td>\n",
       "      <td>0.0</td>\n",
       "    </tr>\n",
       "    <tr>\n",
       "      <th>AGE</th>\n",
       "      <td>0.318499</td>\n",
       "      <td>-0.000000</td>\n",
       "      <td>-0.000000</td>\n",
       "      <td>-0.000000</td>\n",
       "      <td>-0.000000</td>\n",
       "      <td>-0.000000</td>\n",
       "      <td>-0.000000</td>\n",
       "      <td>-0.0</td>\n",
       "      <td>-0.0</td>\n",
       "      <td>-0.0</td>\n",
       "    </tr>\n",
       "    <tr>\n",
       "      <th>DIS</th>\n",
       "      <td>-3.256645</td>\n",
       "      <td>-0.000000</td>\n",
       "      <td>0.000000</td>\n",
       "      <td>0.000000</td>\n",
       "      <td>0.000000</td>\n",
       "      <td>0.000000</td>\n",
       "      <td>0.000000</td>\n",
       "      <td>0.0</td>\n",
       "      <td>0.0</td>\n",
       "      <td>0.0</td>\n",
       "    </tr>\n",
       "    <tr>\n",
       "      <th>RAD</th>\n",
       "      <td>2.632576</td>\n",
       "      <td>-0.000000</td>\n",
       "      <td>-0.000000</td>\n",
       "      <td>-0.000000</td>\n",
       "      <td>-0.000000</td>\n",
       "      <td>-0.000000</td>\n",
       "      <td>-0.000000</td>\n",
       "      <td>-0.0</td>\n",
       "      <td>-0.0</td>\n",
       "      <td>-0.0</td>\n",
       "    </tr>\n",
       "    <tr>\n",
       "      <th>TAX</th>\n",
       "      <td>-2.059466</td>\n",
       "      <td>-0.000000</td>\n",
       "      <td>-0.000000</td>\n",
       "      <td>-0.000000</td>\n",
       "      <td>-0.000000</td>\n",
       "      <td>-0.000000</td>\n",
       "      <td>-0.000000</td>\n",
       "      <td>-0.0</td>\n",
       "      <td>-0.0</td>\n",
       "      <td>-0.0</td>\n",
       "    </tr>\n",
       "    <tr>\n",
       "      <th>PTRATIO</th>\n",
       "      <td>-1.755201</td>\n",
       "      <td>-1.211545</td>\n",
       "      <td>-0.615034</td>\n",
       "      <td>-0.000000</td>\n",
       "      <td>-0.000000</td>\n",
       "      <td>-0.000000</td>\n",
       "      <td>-0.000000</td>\n",
       "      <td>-0.0</td>\n",
       "      <td>-0.0</td>\n",
       "      <td>-0.0</td>\n",
       "    </tr>\n",
       "    <tr>\n",
       "      <th>B</th>\n",
       "      <td>1.181143</td>\n",
       "      <td>0.509956</td>\n",
       "      <td>0.000000</td>\n",
       "      <td>0.000000</td>\n",
       "      <td>0.000000</td>\n",
       "      <td>0.000000</td>\n",
       "      <td>0.000000</td>\n",
       "      <td>0.0</td>\n",
       "      <td>0.0</td>\n",
       "      <td>0.0</td>\n",
       "    </tr>\n",
       "    <tr>\n",
       "      <th>LSTAT</th>\n",
       "      <td>-3.887043</td>\n",
       "      <td>-3.622801</td>\n",
       "      <td>-3.414122</td>\n",
       "      <td>-2.960464</td>\n",
       "      <td>-2.346968</td>\n",
       "      <td>-1.505897</td>\n",
       "      <td>-0.478325</td>\n",
       "      <td>-0.0</td>\n",
       "      <td>-0.0</td>\n",
       "      <td>-0.0</td>\n",
       "    </tr>\n",
       "  </tbody>\n",
       "</table>\n",
       "</div>"
      ],
      "text/plain": [
       "               a=0       a=1       a=2       a=3       a=4       a=5  \\\n",
       "variable                                                               \n",
       "CRIM     -1.321404 -0.000000 -0.000000 -0.000000 -0.000000 -0.000000   \n",
       "ZN        1.514832  0.000000  0.000000  0.000000  0.000000  0.000000   \n",
       "INDUS    -0.166266 -0.000000 -0.000000 -0.000000 -0.000000 -0.000000   \n",
       "CHAS      0.411579  0.000000  0.000000  0.000000  0.000000  0.000000   \n",
       "NOX      -1.771168 -0.000000 -0.000000 -0.000000 -0.000000 -0.000000   \n",
       "RM        2.352821  2.400912  1.665467  1.061939  0.329770  0.000000   \n",
       "AGE       0.318499 -0.000000 -0.000000 -0.000000 -0.000000 -0.000000   \n",
       "DIS      -3.256645 -0.000000  0.000000  0.000000  0.000000  0.000000   \n",
       "RAD       2.632576 -0.000000 -0.000000 -0.000000 -0.000000 -0.000000   \n",
       "TAX      -2.059466 -0.000000 -0.000000 -0.000000 -0.000000 -0.000000   \n",
       "PTRATIO  -1.755201 -1.211545 -0.615034 -0.000000 -0.000000 -0.000000   \n",
       "B         1.181143  0.509956  0.000000  0.000000  0.000000  0.000000   \n",
       "LSTAT    -3.887043 -3.622801 -3.414122 -2.960464 -2.346968 -1.505897   \n",
       "\n",
       "               a=6  a=7  a=8  a=9  \n",
       "variable                           \n",
       "CRIM     -0.000000 -0.0 -0.0 -0.0  \n",
       "ZN        0.000000  0.0  0.0  0.0  \n",
       "INDUS    -0.000000 -0.0 -0.0 -0.0  \n",
       "CHAS      0.000000  0.0  0.0  0.0  \n",
       "NOX      -0.000000 -0.0 -0.0 -0.0  \n",
       "RM        0.000000  0.0  0.0  0.0  \n",
       "AGE      -0.000000 -0.0 -0.0 -0.0  \n",
       "DIS       0.000000  0.0  0.0  0.0  \n",
       "RAD      -0.000000 -0.0 -0.0 -0.0  \n",
       "TAX      -0.000000 -0.0 -0.0 -0.0  \n",
       "PTRATIO  -0.000000 -0.0 -0.0 -0.0  \n",
       "B         0.000000  0.0  0.0  0.0  \n",
       "LSTAT    -0.478325 -0.0 -0.0 -0.0  "
      ]
     },
     "execution_count": 12,
     "metadata": {},
     "output_type": "execute_result"
    }
   ],
   "source": [
    "# initialize\n",
    "lasso_reg = Lasso(alpha=0)\n",
    "lasso_reg.fit(X_train, y_train)\n",
    "lasso_df = pd.DataFrame({'variable': house_price.feature_names})\n",
    "\n",
    "alphas = np.arange(0, 10, 1)\n",
    "\n",
    "for alpha in alphas:\n",
    "    lasso_reg = Lasso(alpha=alpha)\n",
    "    lasso_reg.fit(X_train, y_train)\n",
    "    lasso_df['a='+str(alpha)] = lasso_reg.coef_\n",
    "lasso_df.set_index('variable',inplace=True)\n",
    "lasso_df"
   ]
  },
  {
   "cell_type": "code",
   "execution_count": 13,
   "metadata": {},
   "outputs": [
    {
     "data": {
      "text/plain": [
       "<matplotlib.axes._subplots.AxesSubplot at 0x1a16e3ef60>"
      ]
     },
     "execution_count": 13,
     "metadata": {},
     "output_type": "execute_result"
    },
    {
     "data": {
      "image/png": "[encoded data removed]",
      "text/plain": [
       "<Figure size 432x288 with 1 Axes>"
      ]
     },
     "metadata": {
      "needs_background": "light"
     },
     "output_type": "display_data"
    }
   ],
   "source": [
    "lasso_df['a=0'].plot.barh()\n",
    "lasso_df['a=2'].plot.barh(color='r')\n",
    "lasso_df['a=5'].plot.barh(color='g')"
   ]
  },
  {
   "cell_type": "markdown",
   "metadata": {},
   "source": [
    "### Cross-Validation"
   ]
  },
  {
   "cell_type": "markdown",
   "metadata": {},
   "source": [
    "#### Holdout"
   ]
  },
  {
   "cell_type": "code",
   "execution_count": 21,
   "metadata": {},
   "outputs": [
    {
     "data": {
      "text/plain": [
       "[<matplotlib.lines.Line2D at 0x1a181b8eb8>]"
      ]
     },
     "execution_count": 21,
     "metadata": {},
     "output_type": "execute_result"
    },
    {
     "data": {
      "image/png": "[encoded data removed]",
      "text/plain": [
       "<Figure size 720x720 with 3 Axes>"
      ]
     },
     "metadata": {
      "needs_background": "light"
     },
     "output_type": "display_data"
    }
   ],
   "source": [
    "MSE_train=[]\n",
    "MSE_test=[]\n",
    "r2=[]\n",
    "complexity=[]\n",
    "\n",
    "for a in range(0,100,1):\n",
    "    model=Lasso(alpha=a)\n",
    "    model.fit(X_train,y_train)\n",
    "    MSE_test.append(mean_squared_error(y_test, model.predict(X_test)))\n",
    "    MSE_train.append(mean_squared_error(y_train, model.predict(X_train)))\n",
    "    r2.append(r2_score(y_test, model.predict(X_test)))\n",
    "    complexity.append(a)\n",
    "\n",
    "fig, axs = plt.subplots(3,1,sharey=False,sharex=False,figsize=(10,10))\n",
    "\n",
    "\n",
    "axs[2].set_xlabel(\"$\\longleftarrow $ Complexity\")\n",
    "\n",
    "axs[0].set_ylabel('Train MSE')\n",
    "axs[1].set_ylabel('Test MSE')\n",
    "axs[2].set_ylabel('Test r2 score')\n",
    "\n",
    "axs[0].plot(complexity[:70], MSE_train[:70], '+')\n",
    "axs[1].plot(complexity[:70], MSE_test[:70],  '+')\n",
    "axs[2].plot(complexity[:70], r2[:70],  '+')\n"
   ]
  },
  {
   "cell_type": "markdown",
   "metadata": {},
   "source": [
    "#### Stability"
   ]
  },
  {
   "cell_type": "code",
   "execution_count": 17,
   "metadata": {},
   "outputs": [],
   "source": [
    "def r2_a(a,rep):\n",
    "    rkf= RepeatedKFold(n_splits=3, n_repeats=rep, random_state=None)\n",
    "    r2=[]\n",
    "    for train_I, test_I in rkf.split(df):\n",
    "        X_fold_train = df.iloc[train_I, :].drop('PRICE',axis=1)\n",
    "        y_fold_train = df['PRICE'].values[train_I]\n",
    "        X_fold_test = df.iloc[test_I, :].drop('PRICE',axis=1)\n",
    "        y_fold_test = df['PRICE'].values[test_I]\n",
    "        model = Lasso(alpha=a)\n",
    "        model.fit(X_fold_train, y_fold_train)\n",
    "        r2.append(r2_score(y_fold_test, model.predict(X_fold_test)))\n",
    "    print('The estimation of the r2 score over the training distributions is:', np.mean(r2),'\\u00B1', np.std(r2))\n",
    "    \n",
    "    return r2"
   ]
  },
  {
   "cell_type": "code",
   "execution_count": 18,
   "metadata": {},
   "outputs": [],
   "source": [
    "def MSE_a(a,rep):\n",
    "    rkf= RepeatedKFold(n_splits=3, n_repeats=rep, random_state=None)\n",
    "    MSE=[]\n",
    "    for train_I, test_I in rkf.split(df):\n",
    "        X_fold_train = df.iloc[train_I, :].drop('PRICE',axis=1)\n",
    "        y_fold_train = df['PRICE'].values[train_I]\n",
    "        X_fold_test = df.iloc[test_I, :].drop('PRICE',axis=1)\n",
    "        y_fold_test = df['PRICE'].values[test_I]\n",
    "        model = Lasso(alpha=a)\n",
    "        model.fit(X_fold_train, y_fold_train)\n",
    "        MSE.append(mean_squared_error(y_fold_test, model.predict(X_fold_test)))\n",
    "    print('The estimation of the MSE over the training distributions is:', np.mean(MSE),'\\u00B1', np.std(MSE))\n",
    "    \n",
    "    return MSE"
   ]
  },
  {
   "cell_type": "code",
   "execution_count": 16,
   "metadata": {},
   "outputs": [
    {
     "name": "stdout",
     "output_type": "stream",
     "text": [
      "The estimation of the MSE over the training distributions is: 29.653775822562665 $±$ 5.119938984674635\n",
      "The estimation of the MSE over the training distributions is: 62.80945285768592 $±$ 11.099325571654687\n"
     ]
    },
    {
     "data": {
      "text/plain": [
       "<matplotlib.axes._subplots.AxesSubplot at 0x1a171d7f60>"
      ]
     },
     "execution_count": 16,
     "metadata": {},
     "output_type": "execute_result"
    },
    {
     "data": {
      "image/png": "[encoded data removed]",
      "text/plain": [
       "<Figure size 432x288 with 1 Axes>"
      ]
     },
     "metadata": {
      "needs_background": "light"
     },
     "output_type": "display_data"
    }
   ],
   "source": [
    "sns.distplot(MSE_a(1,1000),bins=30)\n",
    "sns.distplot(MSE_a(5,1000),bins=30, color='r')"
   ]
  },
  {
   "cell_type": "code",
   "execution_count": 19,
   "metadata": {},
   "outputs": [
    {
     "name": "stdout",
     "output_type": "stream",
     "text": [
      "The estimation of the r2 score over the training distributions is: 0.6473459737402313 ± 0.04157591786745678\n",
      "The estimation of the r2 score over the training distributions is: 0.2581071475304727 ± 0.0445736000338036\n"
     ]
    },
    {
     "data": {
      "text/plain": [
       "<matplotlib.axes._subplots.AxesSubplot at 0x1a174cd860>"
      ]
     },
     "execution_count": 19,
     "metadata": {},
     "output_type": "execute_result"
    },
    {
     "data": {
      "image/png": "[encoded data removed]",
      "text/plain": [
       "<Figure size 432x288 with 1 Axes>"
      ]
     },
     "metadata": {
      "needs_background": "light"
     },
     "output_type": "display_data"
    }
   ],
   "source": [
    "sns.distplot(r2_a(1,1000),bins=30)\n",
    "sns.distplot(r2_a(5,1000),bins=30, color='r')"
   ]
  }
 ],
 "metadata": {
  "kernelspec": {
   "display_name": "Python 3",
   "language": "python",
   "name": "python3"
  },
  "language_info": {
   "codemirror_mode": {
    "name": "ipython",
    "version": 3
   },
   "file_extension": ".py",
   "mimetype": "text/x-python",
   "name": "python",
   "nbconvert_exporter": "python",
   "pygments_lexer": "ipython3",
   "version": "3.7.3"
  }
 },
 "nbformat": 4,
 "nbformat_minor": 2
}
