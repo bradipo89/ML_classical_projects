{
 "cells": [
  {
   "cell_type": "markdown",
   "metadata": {},
   "source": [
    "<center>\n",
    "  <img width=\"128\" src='wm.png'/>\n",
    "  <h1> Anomaly Detection \n",
    "<center>"
   ]
  },
  {
   "cell_type": "markdown",
   "metadata": {},
   "source": [
    "Outliers are data points that differs significantly from other observations. An outlier may be due to variability in the measurement or it may indicate experimental error; the latter are sometimes excluded from the data set.\n",
    "\n",
    "Outliers can occur in any distribution, but they often indicate either measurement error or that the population has a heavy-tailed distribution.\n",
    "\n",
    "In the former case one wishes to discard them or use statistics that are robust to outliers, while in the latter case they indicate that the distribution has high skewness and that one should be very cautious in using standard statistical tools or intuitions.\n",
    "\n",
    "We perform here an analysis of the outliers of a dataset representing trips performed by one elevator.\n",
    "\n",
    "The columns of the csv files are as follow:\n",
    "\n",
    "- ‘start_dt’ is the datetime when the trip started,\n",
    "- ‘start_level’ is the level where the elevator trip started\n",
    "- ‘end_level’ is the level  where the elevator trip ended\n",
    "- ‘duration_s’ is the duration of the trip in seconds.\n",
    "\n",
    "Trips are defined by the motion of the cabin, starting when the cabin leaves its current floor and ending when it stops again at another floor. \n",
    "\n",
    "We focus firstly on a general analysis, using visualization tools, then we detect outliers with statistical method and in the end we try to classify the outliers that could be anomalies in the measurment. \n",
    "\n",
    "The notebook is organized as follows:\n",
    "\n",
    "- Initialization\n",
    "- Summary and Exploration if Data\n",
    "- Data Analysis\n",
    "- Conclusions\n"
   ]
  },
  {
   "cell_type": "markdown",
   "metadata": {},
   "source": [
    "# Initialization"
   ]
  },
  {
   "cell_type": "code",
   "execution_count": 70,
   "metadata": {},
   "outputs": [],
   "source": [
    "import pandas as pd\n",
    "import numpy as np\n",
    "import matplotlib\n",
    "import matplotlib.pyplot as plt\n",
    "import matplotlib.ticker as ticker\n",
    "import seaborn as sns"
   ]
  },
  {
   "cell_type": "markdown",
   "metadata": {},
   "source": [
    "# Summary and Exploration of Data"
   ]
  },
  {
   "cell_type": "markdown",
   "metadata": {},
   "source": [
    "### Loading of data and first idea on shape and structure "
   ]
  },
  {
   "cell_type": "code",
   "execution_count": 71,
   "metadata": {},
   "outputs": [],
   "source": [
    "data=pd.read_csv('trips.csv') #Loading the data"
   ]
  },
  {
   "cell_type": "code",
   "execution_count": 72,
   "metadata": {},
   "outputs": [
    {
     "data": {
      "text/plain": [
       "(7403, 4)"
      ]
     },
     "execution_count": 72,
     "metadata": {},
     "output_type": "execute_result"
    }
   ],
   "source": [
    "data.shape #Looking at the shape of the data"
   ]
  },
  {
   "cell_type": "code",
   "execution_count": 73,
   "metadata": {},
   "outputs": [
    {
     "data": {
      "text/html": [
       "<div>\n",
       "<style scoped>\n",
       "    .dataframe tbody tr th:only-of-type {\n",
       "        vertical-align: middle;\n",
       "    }\n",
       "\n",
       "    .dataframe tbody tr th {\n",
       "        vertical-align: top;\n",
       "    }\n",
       "\n",
       "    .dataframe thead th {\n",
       "        text-align: right;\n",
       "    }\n",
       "</style>\n",
       "<table border=\"1\" class=\"dataframe\">\n",
       "  <thead>\n",
       "    <tr style=\"text-align: right;\">\n",
       "      <th></th>\n",
       "      <th>start_dt</th>\n",
       "      <th>start_level</th>\n",
       "      <th>end_level</th>\n",
       "      <th>duration_s</th>\n",
       "    </tr>\n",
       "  </thead>\n",
       "  <tbody>\n",
       "    <tr>\n",
       "      <th>0</th>\n",
       "      <td>2019-08-02 00:10:20.948</td>\n",
       "      <td>0.0</td>\n",
       "      <td>7.0</td>\n",
       "      <td>20.012</td>\n",
       "    </tr>\n",
       "    <tr>\n",
       "      <th>1</th>\n",
       "      <td>2019-08-02 00:10:55.319</td>\n",
       "      <td>7.0</td>\n",
       "      <td>5.0</td>\n",
       "      <td>7.702</td>\n",
       "    </tr>\n",
       "    <tr>\n",
       "      <th>2</th>\n",
       "      <td>2019-08-02 00:11:23.049</td>\n",
       "      <td>5.0</td>\n",
       "      <td>0.0</td>\n",
       "      <td>15.640</td>\n",
       "    </tr>\n",
       "    <tr>\n",
       "      <th>3</th>\n",
       "      <td>2019-08-02 01:28:13.277</td>\n",
       "      <td>0.0</td>\n",
       "      <td>5.0</td>\n",
       "      <td>15.659</td>\n",
       "    </tr>\n",
       "    <tr>\n",
       "      <th>4</th>\n",
       "      <td>2019-08-02 01:28:49.203</td>\n",
       "      <td>5.0</td>\n",
       "      <td>7.0</td>\n",
       "      <td>7.444</td>\n",
       "    </tr>\n",
       "  </tbody>\n",
       "</table>\n",
       "</div>"
      ],
      "text/plain": [
       "                  start_dt  start_level  end_level  duration_s\n",
       "0  2019-08-02 00:10:20.948          0.0        7.0      20.012\n",
       "1  2019-08-02 00:10:55.319          7.0        5.0       7.702\n",
       "2  2019-08-02 00:11:23.049          5.0        0.0      15.640\n",
       "3  2019-08-02 01:28:13.277          0.0        5.0      15.659\n",
       "4  2019-08-02 01:28:49.203          5.0        7.0       7.444"
      ]
     },
     "execution_count": 73,
     "metadata": {},
     "output_type": "execute_result"
    }
   ],
   "source": [
    "data.head() #Showing the first 5 rows as a first idea"
   ]
  },
  {
   "cell_type": "code",
   "execution_count": 74,
   "metadata": {},
   "outputs": [
    {
     "data": {
      "text/plain": [
       "start_dt       0\n",
       "start_level    0\n",
       "end_level      0\n",
       "duration_s     0\n",
       "dtype: int64"
      ]
     },
     "execution_count": 74,
     "metadata": {},
     "output_type": "execute_result"
    }
   ],
   "source": [
    "np.sum(data.isna()) #Checking if there are missing value (NaN)"
   ]
  },
  {
   "cell_type": "markdown",
   "metadata": {},
   "source": [
    "### Understanding the domain of the values in the dataset"
   ]
  },
  {
   "cell_type": "code",
   "execution_count": 6,
   "metadata": {},
   "outputs": [
    {
     "data": {
      "text/plain": [
       "min    2019-08-02 00:10:20.948\n",
       "max    2019-08-14 23:45:07.217\n",
       "Name: start_dt, dtype: object"
      ]
     },
     "execution_count": 6,
     "metadata": {},
     "output_type": "execute_result"
    }
   ],
   "source": [
    "data.start_dt.agg(['min','max']) #min e max value of the date"
   ]
  },
  {
   "cell_type": "code",
   "execution_count": 7,
   "metadata": {},
   "outputs": [
    {
     "data": {
      "text/plain": [
       "min    0.0\n",
       "max    7.0\n",
       "Name: start_level, dtype: float64"
      ]
     },
     "execution_count": 7,
     "metadata": {},
     "output_type": "execute_result"
    }
   ],
   "source": [
    "data.start_level.agg(['min','max']) #min e max value of the starting floor"
   ]
  },
  {
   "cell_type": "code",
   "execution_count": 8,
   "metadata": {},
   "outputs": [
    {
     "data": {
      "text/plain": [
       "min    0.0\n",
       "max    7.0\n",
       "Name: end_level, dtype: float64"
      ]
     },
     "execution_count": 8,
     "metadata": {},
     "output_type": "execute_result"
    }
   ],
   "source": [
    "data.end_level.agg(['min','max']) #min e max value of the ending floor"
   ]
  },
  {
   "cell_type": "code",
   "execution_count": 9,
   "metadata": {},
   "outputs": [
    {
     "data": {
      "text/plain": [
       "min       0.768\n",
       "max    1429.428\n",
       "Name: duration_s, dtype: float64"
      ]
     },
     "execution_count": 9,
     "metadata": {},
     "output_type": "execute_result"
    }
   ],
   "source": [
    "data.duration_s.agg(['min','max']) #min e max value of the duration of the trips"
   ]
  },
  {
   "cell_type": "markdown",
   "metadata": {},
   "source": [
    "> **A first very naive signal of the existence of outlier values from the extreme values of the duration column !**"
   ]
  },
  {
   "cell_type": "markdown",
   "metadata": {},
   "source": [
    "### Sorting, grouping and summary functions"
   ]
  },
  {
   "cell_type": "code",
   "execution_count": 10,
   "metadata": {},
   "outputs": [
    {
     "data": {
      "text/html": [
       "<div>\n",
       "<style scoped>\n",
       "    .dataframe tbody tr th:only-of-type {\n",
       "        vertical-align: middle;\n",
       "    }\n",
       "\n",
       "    .dataframe tbody tr th {\n",
       "        vertical-align: top;\n",
       "    }\n",
       "\n",
       "    .dataframe thead th {\n",
       "        text-align: right;\n",
       "    }\n",
       "</style>\n",
       "<table border=\"1\" class=\"dataframe\">\n",
       "  <thead>\n",
       "    <tr style=\"text-align: right;\">\n",
       "      <th></th>\n",
       "      <th>start_dt</th>\n",
       "      <th>start_level</th>\n",
       "      <th>end_level</th>\n",
       "      <th>duration_s</th>\n",
       "    </tr>\n",
       "  </thead>\n",
       "  <tbody>\n",
       "    <tr>\n",
       "      <th>6469</th>\n",
       "      <td>2019-08-13 14:10:29.246</td>\n",
       "      <td>5.0</td>\n",
       "      <td>7.0</td>\n",
       "      <td>0.768</td>\n",
       "    </tr>\n",
       "    <tr>\n",
       "      <th>6473</th>\n",
       "      <td>2019-08-13 14:14:57.497</td>\n",
       "      <td>5.0</td>\n",
       "      <td>7.0</td>\n",
       "      <td>0.769</td>\n",
       "    </tr>\n",
       "    <tr>\n",
       "      <th>6478</th>\n",
       "      <td>2019-08-13 14:18:46.168</td>\n",
       "      <td>7.0</td>\n",
       "      <td>5.0</td>\n",
       "      <td>2.578</td>\n",
       "    </tr>\n",
       "    <tr>\n",
       "      <th>6471</th>\n",
       "      <td>2019-08-13 14:11:41.372</td>\n",
       "      <td>5.0</td>\n",
       "      <td>7.0</td>\n",
       "      <td>3.330</td>\n",
       "    </tr>\n",
       "    <tr>\n",
       "      <th>6474</th>\n",
       "      <td>2019-08-13 14:14:58.266</td>\n",
       "      <td>7.0</td>\n",
       "      <td>5.0</td>\n",
       "      <td>3.856</td>\n",
       "    </tr>\n",
       "  </tbody>\n",
       "</table>\n",
       "</div>"
      ],
      "text/plain": [
       "                     start_dt  start_level  end_level  duration_s\n",
       "6469  2019-08-13 14:10:29.246          5.0        7.0       0.768\n",
       "6473  2019-08-13 14:14:57.497          5.0        7.0       0.769\n",
       "6478  2019-08-13 14:18:46.168          7.0        5.0       2.578\n",
       "6471  2019-08-13 14:11:41.372          5.0        7.0       3.330\n",
       "6474  2019-08-13 14:14:58.266          7.0        5.0       3.856"
      ]
     },
     "execution_count": 10,
     "metadata": {},
     "output_type": "execute_result"
    }
   ],
   "source": [
    "data.sort_values(by='duration_s').head() #Sorting by duration"
   ]
  },
  {
   "cell_type": "code",
   "execution_count": 11,
   "metadata": {},
   "outputs": [
    {
     "data": {
      "text/html": [
       "<div>\n",
       "<style scoped>\n",
       "    .dataframe tbody tr th:only-of-type {\n",
       "        vertical-align: middle;\n",
       "    }\n",
       "\n",
       "    .dataframe tbody tr th {\n",
       "        vertical-align: top;\n",
       "    }\n",
       "\n",
       "    .dataframe thead th {\n",
       "        text-align: right;\n",
       "    }\n",
       "</style>\n",
       "<table border=\"1\" class=\"dataframe\">\n",
       "  <thead>\n",
       "    <tr style=\"text-align: right;\">\n",
       "      <th></th>\n",
       "      <th>start_dt</th>\n",
       "      <th>start_level</th>\n",
       "      <th>end_level</th>\n",
       "      <th>duration_s</th>\n",
       "    </tr>\n",
       "  </thead>\n",
       "  <tbody>\n",
       "    <tr>\n",
       "      <th>14</th>\n",
       "      <td>2019-08-02 04:28:33.437</td>\n",
       "      <td>0.0</td>\n",
       "      <td>1.0</td>\n",
       "      <td>6.677</td>\n",
       "    </tr>\n",
       "    <tr>\n",
       "      <th>36</th>\n",
       "      <td>2019-08-02 05:37:12.732</td>\n",
       "      <td>0.0</td>\n",
       "      <td>1.0</td>\n",
       "      <td>6.659</td>\n",
       "    </tr>\n",
       "    <tr>\n",
       "      <th>57</th>\n",
       "      <td>2019-08-02 06:16:35.750</td>\n",
       "      <td>0.0</td>\n",
       "      <td>1.0</td>\n",
       "      <td>6.675</td>\n",
       "    </tr>\n",
       "    <tr>\n",
       "      <th>64</th>\n",
       "      <td>2019-08-02 06:24:33.335</td>\n",
       "      <td>0.0</td>\n",
       "      <td>1.0</td>\n",
       "      <td>6.932</td>\n",
       "    </tr>\n",
       "    <tr>\n",
       "      <th>93</th>\n",
       "      <td>2019-08-02 06:48:54.669</td>\n",
       "      <td>0.0</td>\n",
       "      <td>1.0</td>\n",
       "      <td>6.678</td>\n",
       "    </tr>\n",
       "  </tbody>\n",
       "</table>\n",
       "</div>"
      ],
      "text/plain": [
       "                   start_dt  start_level  end_level  duration_s\n",
       "14  2019-08-02 04:28:33.437          0.0        1.0       6.677\n",
       "36  2019-08-02 05:37:12.732          0.0        1.0       6.659\n",
       "57  2019-08-02 06:16:35.750          0.0        1.0       6.675\n",
       "64  2019-08-02 06:24:33.335          0.0        1.0       6.932\n",
       "93  2019-08-02 06:48:54.669          0.0        1.0       6.678"
      ]
     },
     "execution_count": 11,
     "metadata": {},
     "output_type": "execute_result"
    }
   ],
   "source": [
    "data.sort_values(by=['start_level','end_level']).head() #Sorting by starting and ending level"
   ]
  },
  {
   "cell_type": "markdown",
   "metadata": {},
   "source": [
    "> **Sorting and grouping can be useful to start having an idea  !**"
   ]
  },
  {
   "cell_type": "code",
   "execution_count": 12,
   "metadata": {},
   "outputs": [
    {
     "data": {
      "text/plain": [
       "start_level  end_level\n",
       "0.0          1.0           6.9160\n",
       "             2.0           8.9820\n",
       "             3.0          11.2870\n",
       "             4.0          13.3535\n",
       "             5.0          15.6570\n",
       "Name: duration_s, dtype: float64"
      ]
     },
     "execution_count": 12,
     "metadata": {},
     "output_type": "execute_result"
    }
   ],
   "source": [
    "data.groupby(['start_level','end_level']).duration_s.median().head() #Median computation of the duration grouped by start and end level "
   ]
  },
  {
   "cell_type": "code",
   "execution_count": 13,
   "metadata": {},
   "outputs": [
    {
     "data": {
      "text/plain": [
       "start_level  end_level\n",
       "0.0          1.0           6.820483\n",
       "             2.0           9.071482\n",
       "             3.0          11.294657\n",
       "             4.0          13.468034\n",
       "             5.0          15.697275\n",
       "Name: duration_s, dtype: float64"
      ]
     },
     "execution_count": 13,
     "metadata": {},
     "output_type": "execute_result"
    }
   ],
   "source": [
    "data.groupby(['start_level','end_level']).duration_s.mean().head() #Mean computation of the duration grouped by start and end level "
   ]
  },
  {
   "cell_type": "markdown",
   "metadata": {},
   "source": [
    "### First Visual idea of data"
   ]
  },
  {
   "cell_type": "code",
   "execution_count": 14,
   "metadata": {},
   "outputs": [
    {
     "data": {
      "image/png": "[encoded data removed]",
      "text/plain": [
       "<Figure size 1008x504 with 2 Axes>"
      ]
     },
     "metadata": {
      "needs_background": "light"
     },
     "output_type": "display_data"
    }
   ],
   "source": [
    "# Set the width and height of the figure\n",
    "plt.figure(figsize=(14,7))\n",
    "\n",
    "# Add title\n",
    "plt.title(\"Average duration\")\n",
    "\n",
    "piv = pd.pivot_table(data, values=\"duration_s\",index=[\"start_level\"], columns=[\"end_level\"], fill_value=0)\n",
    "ax = sns.heatmap(piv, square=True,annot=True)"
   ]
  },
  {
   "cell_type": "markdown",
   "metadata": {},
   "source": [
    "> **The heatmap is not the best tools for recognize outliers, but as part of a first analysis it can be useful to look at the anomalies. In this case the presence of very high values in the duration shift the average to an anomalous (are they ?) value ! Let's be more precise in the next section**"
   ]
  },
  {
   "cell_type": "markdown",
   "metadata": {},
   "source": [
    "# Data Analysis"
   ]
  },
  {
   "cell_type": "markdown",
   "metadata": {},
   "source": [
    "Since the purpose of this work is recognize and remove, if they are, outliers, we focus on doing this. We can it do by detecting them with visualization tools and mathematical tools. In both method we have to firstly think which are the meaningful variables we should use. That means we have to, first of all, recognize the variables that give us more information on the anomalous beaviour of the trip, and then the features that can affect these variables. What we are looking for is then an anomalous affection of the behaviour of the trip. \n",
    "\n",
    "In our case we choose as a meaningful variable the duration of the trip. As features we use the start and ending floor of each trip. Since we are looking for a anomalous behaviour of a data in a statistical set, using statistical method we should firstly recognize which are the features that make a subset independent from another one and without any kind of systematic that can spoil the method. \n",
    "\n",
    "We consider a statistical subset of the total set of trips, every trip starting from the i-floor and ending in the j-floor. In this way every trip in a given subset will have the same floor distance and same direction. In principle we should use also the time and date as a discriminating variable (for instance duration of trips can depend on the number of people inside that in turn could depend on the hour and date, let's think for example to a elevator in a subway station) but since we are pretty blind on the kind of elevator we don't consider this feature in our analysis.\n",
    "\n",
    "We start by considering visualization tools"
   ]
  },
  {
   "cell_type": "code",
   "execution_count": 15,
   "metadata": {},
   "outputs": [],
   "source": [
    "#We define a function that add a column representing the floor distance and the direction of the trip, and trasform in integer the values of the floor numbers\n",
    "def func(row):\n",
    "    \n",
    "    row['floor_distance'] = row.end_level - row.start_level #add the column 'floor_distance'\n",
    "    row.start_level = int(row.start_level) #transform in integer\n",
    "    row.end_level = int(row.end_level) #transform in integer\n",
    "    \n",
    "    if row.floor_distance <= 0 :  #add the column 'direction'\n",
    "        row['direction'] = 'down' \n",
    "    else:\n",
    "        row['direction'] = 'up'\n",
    "    \n",
    "    row.floor_distance = int(abs(row.floor_distance))\n",
    "    \n",
    "    return row"
   ]
  },
  {
   "cell_type": "code",
   "execution_count": 16,
   "metadata": {},
   "outputs": [],
   "source": [
    "df=data.apply(func, axis='columns') #We apply the function above and we define a new dataframe df to modify and analyse such that the starting one remain untouched"
   ]
  },
  {
   "cell_type": "code",
   "execution_count": 17,
   "metadata": {},
   "outputs": [
    {
     "data": {
      "text/html": [
       "<div>\n",
       "<style scoped>\n",
       "    .dataframe tbody tr th:only-of-type {\n",
       "        vertical-align: middle;\n",
       "    }\n",
       "\n",
       "    .dataframe tbody tr th {\n",
       "        vertical-align: top;\n",
       "    }\n",
       "\n",
       "    .dataframe thead th {\n",
       "        text-align: right;\n",
       "    }\n",
       "</style>\n",
       "<table border=\"1\" class=\"dataframe\">\n",
       "  <thead>\n",
       "    <tr style=\"text-align: right;\">\n",
       "      <th></th>\n",
       "      <th>start_dt</th>\n",
       "      <th>start_level</th>\n",
       "      <th>end_level</th>\n",
       "      <th>duration_s</th>\n",
       "      <th>floor_distance</th>\n",
       "      <th>direction</th>\n",
       "    </tr>\n",
       "  </thead>\n",
       "  <tbody>\n",
       "    <tr>\n",
       "      <th>0</th>\n",
       "      <td>2019-08-02 00:10:20.948</td>\n",
       "      <td>0</td>\n",
       "      <td>7</td>\n",
       "      <td>20.012</td>\n",
       "      <td>7</td>\n",
       "      <td>up</td>\n",
       "    </tr>\n",
       "    <tr>\n",
       "      <th>1</th>\n",
       "      <td>2019-08-02 00:10:55.319</td>\n",
       "      <td>7</td>\n",
       "      <td>5</td>\n",
       "      <td>7.702</td>\n",
       "      <td>2</td>\n",
       "      <td>down</td>\n",
       "    </tr>\n",
       "    <tr>\n",
       "      <th>2</th>\n",
       "      <td>2019-08-02 00:11:23.049</td>\n",
       "      <td>5</td>\n",
       "      <td>0</td>\n",
       "      <td>15.640</td>\n",
       "      <td>5</td>\n",
       "      <td>down</td>\n",
       "    </tr>\n",
       "    <tr>\n",
       "      <th>3</th>\n",
       "      <td>2019-08-02 01:28:13.277</td>\n",
       "      <td>0</td>\n",
       "      <td>5</td>\n",
       "      <td>15.659</td>\n",
       "      <td>5</td>\n",
       "      <td>up</td>\n",
       "    </tr>\n",
       "    <tr>\n",
       "      <th>4</th>\n",
       "      <td>2019-08-02 01:28:49.203</td>\n",
       "      <td>5</td>\n",
       "      <td>7</td>\n",
       "      <td>7.444</td>\n",
       "      <td>2</td>\n",
       "      <td>up</td>\n",
       "    </tr>\n",
       "  </tbody>\n",
       "</table>\n",
       "</div>"
      ],
      "text/plain": [
       "                  start_dt  start_level  end_level  duration_s  \\\n",
       "0  2019-08-02 00:10:20.948            0          7      20.012   \n",
       "1  2019-08-02 00:10:55.319            7          5       7.702   \n",
       "2  2019-08-02 00:11:23.049            5          0      15.640   \n",
       "3  2019-08-02 01:28:13.277            0          5      15.659   \n",
       "4  2019-08-02 01:28:49.203            5          7       7.444   \n",
       "\n",
       "   floor_distance direction  \n",
       "0               7        up  \n",
       "1               2      down  \n",
       "2               5      down  \n",
       "3               5        up  \n",
       "4               2        up  "
      ]
     },
     "execution_count": 17,
     "metadata": {},
     "output_type": "execute_result"
    }
   ],
   "source": [
    "df.head() #head of the transformed dataset"
   ]
  },
  {
   "cell_type": "code",
   "execution_count": 18,
   "metadata": {},
   "outputs": [
    {
     "data": {
      "image/png": "[encoded data removed]",
      "text/plain": [
       "<Figure size 504x504 with 1 Axes>"
      ]
     },
     "metadata": {
      "needs_background": "light"
     },
     "output_type": "display_data"
    }
   ],
   "source": [
    "#We plot the mean value and the median for each floor distance subset to see the discrepance between the two\n",
    "fig1 = plt.figure() \n",
    "ax = fig1.add_subplot(111) \n",
    "\n",
    "df.groupby(['floor_distance'])['duration_s'].median().plot(kind='bar', color='red', ax=ax, width=0.4, position=1,figsize=(7,7))\n",
    "df.groupby(['floor_distance'])['duration_s'].mean().plot(kind='bar', color='blue', ax=ax, width=0.4, position=0,figsize=(7,7))\n",
    "fig1.legend([\"Median\", \"Mean\"])\n",
    "ax.set_ylabel('duration')\n",
    "\n",
    "plt.show()"
   ]
  },
  {
   "cell_type": "markdown",
   "metadata": {},
   "source": [
    "### BoxPlot(s) for Outliers"
   ]
  },
  {
   "cell_type": "markdown",
   "metadata": {},
   "source": [
    "BoxPlots are particular plot showing the interquartile range and the range of value delimiting the outliers with the so called whiskers. The value outside the boxplot whiskers are the outliers. The figure above explain better the meaning of the plot:"
   ]
  },
  {
   "cell_type": "markdown",
   "metadata": {},
   "source": [
    "<center>\n",
    "  <img width=\"300\" src='box.png'/> \n",
    "<center>"
   ]
  },
  {
   "cell_type": "code",
   "execution_count": 19,
   "metadata": {},
   "outputs": [
    {
     "data": {
      "image/png": "[encoded data removed]",
      "text/plain": [
       "<Figure size 720x576 with 1 Axes>"
      ]
     },
     "metadata": {
      "needs_background": "light"
     },
     "output_type": "display_data"
    }
   ],
   "source": [
    "#BoxPlot showing outliers\n",
    "fig2=sns.catplot(data=df,y='duration_s',x='floor_distance',hue='direction',kind='box',showfliers=True)\n",
    "fig2.fig.set_size_inches(10,8)"
   ]
  },
  {
   "cell_type": "code",
   "execution_count": 20,
   "metadata": {},
   "outputs": [
    {
     "data": {
      "image/png": "[encoded data removed]",
      "text/plain": [
       "<Figure size 720x576 with 1 Axes>"
      ]
     },
     "metadata": {
      "needs_background": "light"
     },
     "output_type": "display_data"
    }
   ],
   "source": [
    "#BoxPlot without showing outliers\n",
    "fig2=sns.catplot(data=df,y='duration_s',x='floor_distance',hue='direction',kind='box',showfliers=False)\n",
    "fig2.fig.set_size_inches(10,8)"
   ]
  },
  {
   "cell_type": "markdown",
   "metadata": {},
   "source": [
    "### Removing Outliers with IQR"
   ]
  },
  {
   "cell_type": "markdown",
   "metadata": {},
   "source": [
    "The IQR test is basically the mathematical traduction of what the boxplot shows. It keeps all the values inside the the Interquartile range and classifies the other as Outliers. An important step is recognize the meaningful features useful to compute the quartiles. We define 2 function that identitfy the index of the outliers. The first one, is considering a subset of identical event as the trip starting at the ith-floor and ending at the jth-floor. The second funciton, more coarse grain, is considering as identical trips just by grouping by floor_distance forgetting about the starting and ending point."
   ]
  },
  {
   "cell_type": "code",
   "execution_count": 21,
   "metadata": {},
   "outputs": [],
   "source": [
    "#First function\n",
    "def find_outlier_index(data):\n",
    "    \n",
    "    indX=[]\n",
    "    \n",
    "    \n",
    "    for i in range(min(data.start_level),max(data.start_level)+1):\n",
    "        for j in range(min(data.end_level),max(data.end_level)+1):\n",
    "            if i != j:\n",
    "                qmax=data.loc[(data.start_level==i) & (data.end_level==j)].groupby(['floor_distance']).quantile(0.75).loc[abs(j-i),'duration_s']+1.5*(data.loc[(data.start_level==i) & (data.end_level==j)].groupby(['floor_distance']).quantile(0.75).loc[abs(j-i),'duration_s']-data.loc[(df.start_level==i) & (data.end_level==j)].groupby(['floor_distance']).quantile(0.25).loc[abs(j-i),'duration_s'])\n",
    "                qmin=data.loc[(data.start_level==i) & (data.end_level==j)].groupby(['floor_distance']).quantile(0.25).loc[abs(j-i),'duration_s']-1.5*(data.loc[(data.start_level==i) & (data.end_level==j)].groupby(['floor_distance']).quantile(0.75).loc[abs(j-i),'duration_s']-data.loc[(df.start_level==i) & (data.end_level==j)].groupby(['floor_distance']).quantile(0.25).loc[abs(j-i),'duration_s'])\n",
    "                c1=data.start_level==i #First contraints\n",
    "                c2=data.end_level==j #Second contraints\n",
    "                c3=data.duration_s > qmax #Third contraints\n",
    "                c4=data.duration_s < qmin #Fourth contraints\n",
    "                ind_event=data.index[(c1) & (c2)] #Intersection between the first two constraints\n",
    "                ind_max=data.index[c3] #Index of the third constraint\n",
    "                ind_min=data.index[c4] #Index of the fourth constraint\n",
    "                ind1=list(set(ind_event).intersection(ind_max)) #Intersection of ind_event and the third constraint\n",
    "                ind2=list(set(ind_event).intersection(ind_min)) #Intersection of ind_event and the fourth constraint\n",
    "                indX.extend(ind1) #Union\n",
    "                indX.extend(ind2) #Union\n",
    "    \n",
    "    return indX"
   ]
  },
  {
   "cell_type": "code",
   "execution_count": 22,
   "metadata": {},
   "outputs": [],
   "source": [
    "#Second function\n",
    "def find_outlier_index_2(data):\n",
    "    \n",
    "    indX=[]\n",
    "    \n",
    "    \n",
    "    for i in range(min(data.start_level),max(data.start_level)+1):\n",
    "        qmax=data.loc[data.floor_distance==i].quantile(0.75).loc['duration_s']+1.5*(data.loc[data.floor_distance==i].quantile(0.75).loc['duration_s']-data.loc[data.floor_distance==i].quantile(0.25).loc['duration_s'])\n",
    "        qmin=data.loc[data.floor_distance==i].quantile(0.25).loc['duration_s']-1.5*(data.loc[data.floor_distance==i].quantile(0.75).loc['duration_s']-data.loc[data.floor_distance==i].quantile(0.25).loc['duration_s'])\n",
    "        c1=data.floor_distance==i\n",
    "        c3=data.duration_s > qmax \n",
    "        c4=data.duration_s < qmin\n",
    "        ind_event=data.index[c1]\n",
    "        ind_max=data.index[c3]\n",
    "        ind_min=data.index[c4]\n",
    "        ind1=list(set(ind_event).intersection(ind_max))\n",
    "        ind2=list(set(ind_event).intersection(ind_min))\n",
    "        indX.extend(ind1)\n",
    "        indX.extend(ind2)\n",
    "    \n",
    "    return indX"
   ]
  },
  {
   "cell_type": "code",
   "execution_count": 23,
   "metadata": {},
   "outputs": [],
   "source": [
    "outliers=df.iloc[find_outlier_index(df)] #Outliers found with the first function\n",
    "outliers_2=df.iloc[find_outlier_index_2(df)] #Outliers found with the second function"
   ]
  },
  {
   "cell_type": "code",
   "execution_count": 24,
   "metadata": {},
   "outputs": [
    {
     "data": {
      "text/plain": [
       "((591, 6), (527, 6))"
      ]
     },
     "execution_count": 24,
     "metadata": {},
     "output_type": "execute_result"
    }
   ],
   "source": [
    "outliers.shape, outliers_2.shape #Shape of the 2 sets of Outliers "
   ]
  },
  {
   "cell_type": "code",
   "execution_count": 25,
   "metadata": {},
   "outputs": [],
   "source": [
    "df_clean=df.drop(find_outlier_index(df)) #Clean dataset 1\n",
    "df_clean_2=df.drop(find_outlier_index_2(df)) #Clean dataset 2"
   ]
  },
  {
   "cell_type": "markdown",
   "metadata": {},
   "source": [
    "### Visualizing cleaned dataset"
   ]
  },
  {
   "cell_type": "code",
   "execution_count": 26,
   "metadata": {
    "scrolled": true
   },
   "outputs": [
    {
     "data": {
      "image/png": "[encoded data removed]",
      "text/plain": [
       "<Figure size 1008x504 with 2 Axes>"
      ]
     },
     "metadata": {
      "needs_background": "light"
     },
     "output_type": "display_data"
    }
   ],
   "source": [
    "# Set the width and height of the figure\n",
    "plt.figure(figsize=(14,7))\n",
    "\n",
    "# Add title\n",
    "plt.title(\"Average duration\")\n",
    "\n",
    "piv = pd.pivot_table(df.drop(find_outlier_index(df)), values=\"duration_s\",index=[\"start_level\"], columns=[\"end_level\"], fill_value=0)\n",
    "ax = sns.heatmap(piv, square=True,annot=True)"
   ]
  },
  {
   "cell_type": "markdown",
   "metadata": {},
   "source": [
    "### Outliers as Anomalies "
   ]
  },
  {
   "cell_type": "markdown",
   "metadata": {},
   "source": [
    "In this section we try to use scikit libraries and method of clustering algorithm to refine the analysis and try to isolate the subset of the outliers that have a genuinly anomalous nature and are not coming from a long tailed distribution. These value are supposed to be anomaly in the detection or some other systematic error decoupled form the statistic of the data. \n",
    "Despite the large number of clustering method we decide to use the DBSCAN (Density-Based Spatial Clustering of Applications with Noise) method. It is part of the unsupervised methods and it works as follow:\n",
    "\n",
    "\n",
    "- Randomly select a point not already assigned to a cluster or designated as an outlier. Determine if it’s a core point by seeing if there are at least min_samples points around it within epsilon distance.\n",
    "\n",
    "- Create a cluster of this core point and all points within epsilon distance of it (all directly reachable points).\n",
    "Find all points that are within epsilon distance of each point in the cluster and add them to the cluster.\n",
    "\n",
    "- Find all points that are within epsilon distance of all newly added points and add these to the cluster. Rinse and repeat."
   ]
  },
  {
   "cell_type": "markdown",
   "metadata": {},
   "source": [
    "<center>\n",
    "  <img width=\"550\" src='dbscan.png'/> \n",
    "<center>"
   ]
  },
  {
   "cell_type": "code",
   "execution_count": 38,
   "metadata": {},
   "outputs": [],
   "source": [
    "from sklearn.cluster import DBSCAN"
   ]
  },
  {
   "cell_type": "code",
   "execution_count": 65,
   "metadata": {},
   "outputs": [],
   "source": [
    "#Defining the model and its parameters, and the features we use in the cluster algoritmh\n",
    "model = DBSCAN(eps=2,min_samples = 4).fit(outliers[['duration_s','start_level','end_level']])"
   ]
  },
  {
   "cell_type": "code",
   "execution_count": 66,
   "metadata": {},
   "outputs": [],
   "source": [
    "#Apply the model to our dataset\n",
    "anomalies=outliers[model.labels_ == -1].sort_values(by=['duration_s','start_level'])"
   ]
  },
  {
   "cell_type": "code",
   "execution_count": 67,
   "metadata": {},
   "outputs": [
    {
     "data": {
      "text/plain": [
       "(17, 6)"
      ]
     },
     "execution_count": 67,
     "metadata": {},
     "output_type": "execute_result"
    }
   ],
   "source": [
    "anomalies.shape #Anomaly dataset shape"
   ]
  },
  {
   "cell_type": "code",
   "execution_count": 68,
   "metadata": {},
   "outputs": [
    {
     "data": {
      "text/html": [
       "<div>\n",
       "<style scoped>\n",
       "    .dataframe tbody tr th:only-of-type {\n",
       "        vertical-align: middle;\n",
       "    }\n",
       "\n",
       "    .dataframe tbody tr th {\n",
       "        vertical-align: top;\n",
       "    }\n",
       "\n",
       "    .dataframe thead th {\n",
       "        text-align: right;\n",
       "    }\n",
       "</style>\n",
       "<table border=\"1\" class=\"dataframe\">\n",
       "  <thead>\n",
       "    <tr style=\"text-align: right;\">\n",
       "      <th></th>\n",
       "      <th>start_dt</th>\n",
       "      <th>start_level</th>\n",
       "      <th>end_level</th>\n",
       "      <th>duration_s</th>\n",
       "      <th>floor_distance</th>\n",
       "      <th>direction</th>\n",
       "    </tr>\n",
       "  </thead>\n",
       "  <tbody>\n",
       "    <tr>\n",
       "      <th>6469</th>\n",
       "      <td>2019-08-13 14:10:29.246</td>\n",
       "      <td>5</td>\n",
       "      <td>7</td>\n",
       "      <td>0.768</td>\n",
       "      <td>2</td>\n",
       "      <td>up</td>\n",
       "    </tr>\n",
       "    <tr>\n",
       "      <th>6473</th>\n",
       "      <td>2019-08-13 14:14:57.497</td>\n",
       "      <td>5</td>\n",
       "      <td>7</td>\n",
       "      <td>0.769</td>\n",
       "      <td>2</td>\n",
       "      <td>up</td>\n",
       "    </tr>\n",
       "    <tr>\n",
       "      <th>6471</th>\n",
       "      <td>2019-08-13 14:11:41.372</td>\n",
       "      <td>5</td>\n",
       "      <td>7</td>\n",
       "      <td>3.330</td>\n",
       "      <td>2</td>\n",
       "      <td>up</td>\n",
       "    </tr>\n",
       "    <tr>\n",
       "      <th>5479</th>\n",
       "      <td>2019-08-09 18:23:02.129</td>\n",
       "      <td>7</td>\n",
       "      <td>3</td>\n",
       "      <td>11.817</td>\n",
       "      <td>4</td>\n",
       "      <td>down</td>\n",
       "    </tr>\n",
       "    <tr>\n",
       "      <th>6196</th>\n",
       "      <td>2019-08-12 08:19:54.229</td>\n",
       "      <td>6</td>\n",
       "      <td>2</td>\n",
       "      <td>12.310</td>\n",
       "      <td>4</td>\n",
       "      <td>down</td>\n",
       "    </tr>\n",
       "    <tr>\n",
       "      <th>4947</th>\n",
       "      <td>2019-08-09 09:00:59.138</td>\n",
       "      <td>7</td>\n",
       "      <td>3</td>\n",
       "      <td>12.312</td>\n",
       "      <td>4</td>\n",
       "      <td>down</td>\n",
       "    </tr>\n",
       "    <tr>\n",
       "      <th>6472</th>\n",
       "      <td>2019-08-13 14:11:44.702</td>\n",
       "      <td>7</td>\n",
       "      <td>5</td>\n",
       "      <td>18.524</td>\n",
       "      <td>2</td>\n",
       "      <td>down</td>\n",
       "    </tr>\n",
       "    <tr>\n",
       "      <th>1796</th>\n",
       "      <td>2019-08-05 10:49:26.290</td>\n",
       "      <td>2</td>\n",
       "      <td>0</td>\n",
       "      <td>31.269</td>\n",
       "      <td>2</td>\n",
       "      <td>down</td>\n",
       "    </tr>\n",
       "    <tr>\n",
       "      <th>6476</th>\n",
       "      <td>2019-08-13 14:16:38.618</td>\n",
       "      <td>7</td>\n",
       "      <td>5</td>\n",
       "      <td>39.783</td>\n",
       "      <td>2</td>\n",
       "      <td>down</td>\n",
       "    </tr>\n",
       "    <tr>\n",
       "      <th>6463</th>\n",
       "      <td>2019-08-12 12:20:37.055</td>\n",
       "      <td>6</td>\n",
       "      <td>1</td>\n",
       "      <td>63.126</td>\n",
       "      <td>5</td>\n",
       "      <td>down</td>\n",
       "    </tr>\n",
       "    <tr>\n",
       "      <th>6461</th>\n",
       "      <td>2019-08-12 12:11:50.395</td>\n",
       "      <td>4</td>\n",
       "      <td>7</td>\n",
       "      <td>75.200</td>\n",
       "      <td>3</td>\n",
       "      <td>up</td>\n",
       "    </tr>\n",
       "    <tr>\n",
       "      <th>6460</th>\n",
       "      <td>2019-08-12 12:08:10.882</td>\n",
       "      <td>5</td>\n",
       "      <td>4</td>\n",
       "      <td>153.807</td>\n",
       "      <td>1</td>\n",
       "      <td>down</td>\n",
       "    </tr>\n",
       "    <tr>\n",
       "      <th>6468</th>\n",
       "      <td>2019-08-12 12:24:45.253</td>\n",
       "      <td>4</td>\n",
       "      <td>5</td>\n",
       "      <td>186.608</td>\n",
       "      <td>1</td>\n",
       "      <td>up</td>\n",
       "    </tr>\n",
       "    <tr>\n",
       "      <th>1791</th>\n",
       "      <td>2019-08-05 10:41:55.709</td>\n",
       "      <td>4</td>\n",
       "      <td>0</td>\n",
       "      <td>310.370</td>\n",
       "      <td>4</td>\n",
       "      <td>down</td>\n",
       "    </tr>\n",
       "    <tr>\n",
       "      <th>6462</th>\n",
       "      <td>2019-08-12 12:13:07.900</td>\n",
       "      <td>7</td>\n",
       "      <td>6</td>\n",
       "      <td>413.229</td>\n",
       "      <td>1</td>\n",
       "      <td>down</td>\n",
       "    </tr>\n",
       "    <tr>\n",
       "      <th>6459</th>\n",
       "      <td>2019-08-12 11:44:00.784</td>\n",
       "      <td>7</td>\n",
       "      <td>5</td>\n",
       "      <td>921.087</td>\n",
       "      <td>2</td>\n",
       "      <td>down</td>\n",
       "    </tr>\n",
       "    <tr>\n",
       "      <th>6479</th>\n",
       "      <td>2019-08-13 14:33:11.390</td>\n",
       "      <td>5</td>\n",
       "      <td>4</td>\n",
       "      <td>1429.428</td>\n",
       "      <td>1</td>\n",
       "      <td>down</td>\n",
       "    </tr>\n",
       "  </tbody>\n",
       "</table>\n",
       "</div>"
      ],
      "text/plain": [
       "                     start_dt  start_level  end_level  duration_s  \\\n",
       "6469  2019-08-13 14:10:29.246            5          7       0.768   \n",
       "6473  2019-08-13 14:14:57.497            5          7       0.769   \n",
       "6471  2019-08-13 14:11:41.372            5          7       3.330   \n",
       "5479  2019-08-09 18:23:02.129            7          3      11.817   \n",
       "6196  2019-08-12 08:19:54.229            6          2      12.310   \n",
       "4947  2019-08-09 09:00:59.138            7          3      12.312   \n",
       "6472  2019-08-13 14:11:44.702            7          5      18.524   \n",
       "1796  2019-08-05 10:49:26.290            2          0      31.269   \n",
       "6476  2019-08-13 14:16:38.618            7          5      39.783   \n",
       "6463  2019-08-12 12:20:37.055            6          1      63.126   \n",
       "6461  2019-08-12 12:11:50.395            4          7      75.200   \n",
       "6460  2019-08-12 12:08:10.882            5          4     153.807   \n",
       "6468  2019-08-12 12:24:45.253            4          5     186.608   \n",
       "1791  2019-08-05 10:41:55.709            4          0     310.370   \n",
       "6462  2019-08-12 12:13:07.900            7          6     413.229   \n",
       "6459  2019-08-12 11:44:00.784            7          5     921.087   \n",
       "6479  2019-08-13 14:33:11.390            5          4    1429.428   \n",
       "\n",
       "      floor_distance direction  \n",
       "6469               2        up  \n",
       "6473               2        up  \n",
       "6471               2        up  \n",
       "5479               4      down  \n",
       "6196               4      down  \n",
       "4947               4      down  \n",
       "6472               2      down  \n",
       "1796               2      down  \n",
       "6476               2      down  \n",
       "6463               5      down  \n",
       "6461               3        up  \n",
       "6460               1      down  \n",
       "6468               1        up  \n",
       "1791               4      down  \n",
       "6462               1      down  \n",
       "6459               2      down  \n",
       "6479               1      down  "
      ]
     },
     "execution_count": 68,
     "metadata": {},
     "output_type": "execute_result"
    }
   ],
   "source": [
    "anomalies #List of candidate anomalous values"
   ]
  },
  {
   "cell_type": "code",
   "execution_count": 69,
   "metadata": {},
   "outputs": [
    {
     "data": {
      "text/html": [
       "<div>\n",
       "<style scoped>\n",
       "    .dataframe tbody tr th:only-of-type {\n",
       "        vertical-align: middle;\n",
       "    }\n",
       "\n",
       "    .dataframe tbody tr th {\n",
       "        vertical-align: top;\n",
       "    }\n",
       "\n",
       "    .dataframe thead th {\n",
       "        text-align: right;\n",
       "    }\n",
       "</style>\n",
       "<table border=\"1\" class=\"dataframe\">\n",
       "  <thead>\n",
       "    <tr style=\"text-align: right;\">\n",
       "      <th></th>\n",
       "      <th>start_dt</th>\n",
       "      <th>start_level</th>\n",
       "      <th>end_level</th>\n",
       "      <th>duration_s</th>\n",
       "      <th>floor_distance</th>\n",
       "      <th>direction</th>\n",
       "    </tr>\n",
       "  </thead>\n",
       "  <tbody>\n",
       "    <tr>\n",
       "      <th>1791</th>\n",
       "      <td>2019-08-05 10:41:55.709</td>\n",
       "      <td>4</td>\n",
       "      <td>0</td>\n",
       "      <td>310.370</td>\n",
       "      <td>4</td>\n",
       "      <td>down</td>\n",
       "    </tr>\n",
       "    <tr>\n",
       "      <th>1796</th>\n",
       "      <td>2019-08-05 10:49:26.290</td>\n",
       "      <td>2</td>\n",
       "      <td>0</td>\n",
       "      <td>31.269</td>\n",
       "      <td>2</td>\n",
       "      <td>down</td>\n",
       "    </tr>\n",
       "    <tr>\n",
       "      <th>4947</th>\n",
       "      <td>2019-08-09 09:00:59.138</td>\n",
       "      <td>7</td>\n",
       "      <td>3</td>\n",
       "      <td>12.312</td>\n",
       "      <td>4</td>\n",
       "      <td>down</td>\n",
       "    </tr>\n",
       "    <tr>\n",
       "      <th>5479</th>\n",
       "      <td>2019-08-09 18:23:02.129</td>\n",
       "      <td>7</td>\n",
       "      <td>3</td>\n",
       "      <td>11.817</td>\n",
       "      <td>4</td>\n",
       "      <td>down</td>\n",
       "    </tr>\n",
       "    <tr>\n",
       "      <th>6196</th>\n",
       "      <td>2019-08-12 08:19:54.229</td>\n",
       "      <td>6</td>\n",
       "      <td>2</td>\n",
       "      <td>12.310</td>\n",
       "      <td>4</td>\n",
       "      <td>down</td>\n",
       "    </tr>\n",
       "    <tr>\n",
       "      <th>6459</th>\n",
       "      <td>2019-08-12 11:44:00.784</td>\n",
       "      <td>7</td>\n",
       "      <td>5</td>\n",
       "      <td>921.087</td>\n",
       "      <td>2</td>\n",
       "      <td>down</td>\n",
       "    </tr>\n",
       "    <tr>\n",
       "      <th>6460</th>\n",
       "      <td>2019-08-12 12:08:10.882</td>\n",
       "      <td>5</td>\n",
       "      <td>4</td>\n",
       "      <td>153.807</td>\n",
       "      <td>1</td>\n",
       "      <td>down</td>\n",
       "    </tr>\n",
       "    <tr>\n",
       "      <th>6461</th>\n",
       "      <td>2019-08-12 12:11:50.395</td>\n",
       "      <td>4</td>\n",
       "      <td>7</td>\n",
       "      <td>75.200</td>\n",
       "      <td>3</td>\n",
       "      <td>up</td>\n",
       "    </tr>\n",
       "    <tr>\n",
       "      <th>6462</th>\n",
       "      <td>2019-08-12 12:13:07.900</td>\n",
       "      <td>7</td>\n",
       "      <td>6</td>\n",
       "      <td>413.229</td>\n",
       "      <td>1</td>\n",
       "      <td>down</td>\n",
       "    </tr>\n",
       "    <tr>\n",
       "      <th>6463</th>\n",
       "      <td>2019-08-12 12:20:37.055</td>\n",
       "      <td>6</td>\n",
       "      <td>1</td>\n",
       "      <td>63.126</td>\n",
       "      <td>5</td>\n",
       "      <td>down</td>\n",
       "    </tr>\n",
       "    <tr>\n",
       "      <th>6468</th>\n",
       "      <td>2019-08-12 12:24:45.253</td>\n",
       "      <td>4</td>\n",
       "      <td>5</td>\n",
       "      <td>186.608</td>\n",
       "      <td>1</td>\n",
       "      <td>up</td>\n",
       "    </tr>\n",
       "    <tr>\n",
       "      <th>6469</th>\n",
       "      <td>2019-08-13 14:10:29.246</td>\n",
       "      <td>5</td>\n",
       "      <td>7</td>\n",
       "      <td>0.768</td>\n",
       "      <td>2</td>\n",
       "      <td>up</td>\n",
       "    </tr>\n",
       "    <tr>\n",
       "      <th>6471</th>\n",
       "      <td>2019-08-13 14:11:41.372</td>\n",
       "      <td>5</td>\n",
       "      <td>7</td>\n",
       "      <td>3.330</td>\n",
       "      <td>2</td>\n",
       "      <td>up</td>\n",
       "    </tr>\n",
       "    <tr>\n",
       "      <th>6472</th>\n",
       "      <td>2019-08-13 14:11:44.702</td>\n",
       "      <td>7</td>\n",
       "      <td>5</td>\n",
       "      <td>18.524</td>\n",
       "      <td>2</td>\n",
       "      <td>down</td>\n",
       "    </tr>\n",
       "    <tr>\n",
       "      <th>6473</th>\n",
       "      <td>2019-08-13 14:14:57.497</td>\n",
       "      <td>5</td>\n",
       "      <td>7</td>\n",
       "      <td>0.769</td>\n",
       "      <td>2</td>\n",
       "      <td>up</td>\n",
       "    </tr>\n",
       "    <tr>\n",
       "      <th>6476</th>\n",
       "      <td>2019-08-13 14:16:38.618</td>\n",
       "      <td>7</td>\n",
       "      <td>5</td>\n",
       "      <td>39.783</td>\n",
       "      <td>2</td>\n",
       "      <td>down</td>\n",
       "    </tr>\n",
       "    <tr>\n",
       "      <th>6479</th>\n",
       "      <td>2019-08-13 14:33:11.390</td>\n",
       "      <td>5</td>\n",
       "      <td>4</td>\n",
       "      <td>1429.428</td>\n",
       "      <td>1</td>\n",
       "      <td>down</td>\n",
       "    </tr>\n",
       "  </tbody>\n",
       "</table>\n",
       "</div>"
      ],
      "text/plain": [
       "                     start_dt  start_level  end_level  duration_s  \\\n",
       "1791  2019-08-05 10:41:55.709            4          0     310.370   \n",
       "1796  2019-08-05 10:49:26.290            2          0      31.269   \n",
       "4947  2019-08-09 09:00:59.138            7          3      12.312   \n",
       "5479  2019-08-09 18:23:02.129            7          3      11.817   \n",
       "6196  2019-08-12 08:19:54.229            6          2      12.310   \n",
       "6459  2019-08-12 11:44:00.784            7          5     921.087   \n",
       "6460  2019-08-12 12:08:10.882            5          4     153.807   \n",
       "6461  2019-08-12 12:11:50.395            4          7      75.200   \n",
       "6462  2019-08-12 12:13:07.900            7          6     413.229   \n",
       "6463  2019-08-12 12:20:37.055            6          1      63.126   \n",
       "6468  2019-08-12 12:24:45.253            4          5     186.608   \n",
       "6469  2019-08-13 14:10:29.246            5          7       0.768   \n",
       "6471  2019-08-13 14:11:41.372            5          7       3.330   \n",
       "6472  2019-08-13 14:11:44.702            7          5      18.524   \n",
       "6473  2019-08-13 14:14:57.497            5          7       0.769   \n",
       "6476  2019-08-13 14:16:38.618            7          5      39.783   \n",
       "6479  2019-08-13 14:33:11.390            5          4    1429.428   \n",
       "\n",
       "      floor_distance direction  \n",
       "1791               4      down  \n",
       "1796               2      down  \n",
       "4947               4      down  \n",
       "5479               4      down  \n",
       "6196               4      down  \n",
       "6459               2      down  \n",
       "6460               1      down  \n",
       "6461               3        up  \n",
       "6462               1      down  \n",
       "6463               5      down  \n",
       "6468               1        up  \n",
       "6469               2        up  \n",
       "6471               2        up  \n",
       "6472               2      down  \n",
       "6473               2        up  \n",
       "6476               2      down  \n",
       "6479               1      down  "
      ]
     },
     "execution_count": 69,
     "metadata": {},
     "output_type": "execute_result"
    }
   ],
   "source": [
    "anomalies.sort_values(by='start_dt') #List of candidate anomalous values sorted by date in order for looking of some problem in a specific hour or date"
   ]
  },
  {
   "cell_type": "markdown",
   "metadata": {},
   "source": [
    "# Conclusion"
   ]
  },
  {
   "cell_type": "markdown",
   "metadata": {},
   "source": [
    "From the analysis with IQR test we saw that the a large number of data in the dataset are classified as outliers. As highlighted at the beggining of the notebook once we identified the outliers is pretty an hard task to decide if it belongs to a tail of a statistical distribution or it is an error of measurment in which case has to be excluded from the set. We could refine the statistical test by keeping a larger part of the tail or we can use clustering method.\n",
    "\n",
    "\n",
    "Clustering model can be useful to address the latter case but they are very dependent on the parameters we chose. In particular changing the epsilon or the min_samples points can affect the results significanlty. \n",
    "\n"
   ]
  }
 ],
 "metadata": {
  "kernelspec": {
   "display_name": "Python 3",
   "language": "python",
   "name": "python3"
  },
  "language_info": {
   "codemirror_mode": {
    "name": "ipython",
    "version": 3
   },
   "file_extension": ".py",
   "mimetype": "text/x-python",
   "name": "python",
   "nbconvert_exporter": "python",
   "pygments_lexer": "ipython3",
   "version": "3.7.3"
  }
 },
 "nbformat": 4,
 "nbformat_minor": 2
}
